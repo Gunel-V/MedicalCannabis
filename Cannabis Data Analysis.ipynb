{
 "cells": [
  {
   "cell_type": "code",
   "execution_count": 1,
   "metadata": {},
   "outputs": [],
   "source": [
    "import pandas as pd"
   ]
  },
  {
   "cell_type": "code",
   "execution_count": 2,
   "metadata": {},
   "outputs": [],
   "source": [
    "import numpy as np"
   ]
  },
  {
   "cell_type": "code",
   "execution_count": 32,
   "metadata": {},
   "outputs": [],
   "source": [
    "df = pd.read_excel(r\"C:\\Users\\Dell\\Desktop\\New Microsoft Excel Worksheet.xlsx\")"
   ]
  },
  {
   "cell_type": "code",
   "execution_count": null,
   "metadata": {},
   "outputs": [],
   "source": [
    "#### MANN WHITNEY U TEST"
   ]
  },
  {
   "cell_type": "code",
   "execution_count": 5,
   "metadata": {},
   "outputs": [],
   "source": [
    "from scipy.stats import mannwhitneyu"
   ]
  },
  {
   "cell_type": "code",
   "execution_count": 9,
   "metadata": {},
   "outputs": [
    {
     "data": {
      "text/plain": [
       "MannwhitneyuResult(statistic=4913.5, pvalue=0.005467183856658874)"
      ]
     },
     "execution_count": 9,
     "metadata": {},
     "output_type": "execute_result"
    }
   ],
   "source": [
    "mannwhitneyu(df['thc'], df['Number'])"
   ]
  },
  {
   "cell_type": "code",
   "execution_count": null,
   "metadata": {},
   "outputs": [],
   "source": []
  },
  {
   "cell_type": "code",
   "execution_count": null,
   "metadata": {},
   "outputs": [],
   "source": [
    "### PEARSON TEST"
   ]
  },
  {
   "cell_type": "code",
   "execution_count": 10,
   "metadata": {},
   "outputs": [],
   "source": [
    "import scipy.stats as stats"
   ]
  },
  {
   "cell_type": "code",
   "execution_count": 12,
   "metadata": {},
   "outputs": [
    {
     "data": {
      "text/plain": [
       "(0.2446610970225907, 0.02084743817602355)"
      ]
     },
     "execution_count": 12,
     "metadata": {},
     "output_type": "execute_result"
    }
   ],
   "source": [
    "stats.pearsonr(df['thc'], df['Number'])"
   ]
  },
  {
   "cell_type": "code",
   "execution_count": 14,
   "metadata": {},
   "outputs": [],
   "source": [
    "import matplotlib.pyplot as plt"
   ]
  },
  {
   "cell_type": "code",
   "execution_count": 17,
   "metadata": {},
   "outputs": [
    {
     "data": {
      "text/plain": [
       "<matplotlib.collections.PathCollection at 0x12e31c9e2b0>"
      ]
     },
     "execution_count": 17,
     "metadata": {},
     "output_type": "execute_result"
    },
    {
     "data": {
      "image/png": "[encoded data removed]",
      "text/plain": [
       "<Figure size 432x288 with 1 Axes>"
      ]
     },
     "metadata": {
      "needs_background": "light"
     },
     "output_type": "display_data"
    }
   ],
   "source": [
    "plt.scatter(df['thc'],df['Number'])\n",
    "\n"
   ]
  },
  {
   "cell_type": "code",
   "execution_count": null,
   "metadata": {},
   "outputs": [],
   "source": []
  },
  {
   "cell_type": "code",
   "execution_count": null,
   "metadata": {},
   "outputs": [],
   "source": [
    "#### LOGISTIC REGRESSION"
   ]
  },
  {
   "cell_type": "code",
   "execution_count": null,
   "metadata": {},
   "outputs": [],
   "source": []
  },
  {
   "cell_type": "code",
   "execution_count": 86,
   "metadata": {},
   "outputs": [],
   "source": [
    "x =(np.array(df[['age',\"sex\",\"veteran\"]]).reshape(-1,3))"
   ]
  },
  {
   "cell_type": "code",
   "execution_count": 28,
   "metadata": {},
   "outputs": [],
   "source": [
    "x = x.astype('int')"
   ]
  },
  {
   "cell_type": "code",
   "execution_count": 85,
   "metadata": {},
   "outputs": [],
   "source": [
    "y=np.array(df[['edible']]).reshape(-1,1)"
   ]
  },
  {
   "cell_type": "code",
   "execution_count": 136,
   "metadata": {},
   "outputs": [],
   "source": [
    "  from sklearn.linear_model import LogisticRegression"
   ]
  },
  {
   "cell_type": "code",
   "execution_count": 137,
   "metadata": {},
   "outputs": [],
   "source": [
    "model = LogisticRegression()"
   ]
  },
  {
   "cell_type": "code",
   "execution_count": 138,
   "metadata": {},
   "outputs": [
    {
     "name": "stderr",
     "output_type": "stream",
     "text": [
      "C:\\Users\\User\\anaconda3\\lib\\site-packages\\sklearn\\utils\\validation.py:72: DataConversionWarning: A column-vector y was passed when a 1d array was expected. Please change the shape of y to (n_samples, ), for example using ravel().\n",
      "  return f(**kwargs)\n"
     ]
    }
   ],
   "source": [
    "model = model.fit(x,y)"
   ]
  },
  {
   "cell_type": "code",
   "execution_count": 139,
   "metadata": {},
   "outputs": [
    {
     "data": {
      "text/plain": [
       "array([[-0.01456476, -0.11948271,  1.35582123]])"
      ]
     },
     "execution_count": 139,
     "metadata": {},
     "output_type": "execute_result"
    }
   ],
   "source": [
    "model.coef_"
   ]
  },
  {
   "cell_type": "code",
   "execution_count": 123,
   "metadata": {},
   "outputs": [
    {
     "data": {
      "text/plain": [
       "0.7024793388429752"
      ]
     },
     "execution_count": 123,
     "metadata": {},
     "output_type": "execute_result"
    }
   ],
   "source": [
    "model.score(x,y)"
   ]
  },
  {
   "cell_type": "code",
   "execution_count": 16,
   "metadata": {},
   "outputs": [],
   "source": [
    "import math"
   ]
  },
  {
   "cell_type": "code",
   "execution_count": 21,
   "metadata": {},
   "outputs": [
    {
     "data": {
      "text/plain": [
       "0.9704455335485082"
      ]
     },
     "execution_count": 21,
     "metadata": {},
     "output_type": "execute_result"
    }
   ],
   "source": [
    "math.exp(-0.03)"
   ]
  },
  {
   "cell_type": "code",
   "execution_count": 22,
   "metadata": {},
   "outputs": [
    {
     "data": {
      "text/plain": [
       "1.0408107741923882"
      ]
     },
     "execution_count": 22,
     "metadata": {},
     "output_type": "execute_result"
    }
   ],
   "source": [
    "math.exp(0.04)"
   ]
  },
  {
   "cell_type": "code",
   "execution_count": 23,
   "metadata": {},
   "outputs": [
    {
     "data": {
      "text/plain": [
       "4.758821245137854"
      ]
     },
     "execution_count": 23,
     "metadata": {},
     "output_type": "execute_result"
    }
   ],
   "source": [
    "math.exp(1.56)"
   ]
  },
  {
   "cell_type": "code",
   "execution_count": 55,
   "metadata": {},
   "outputs": [],
   "source": [
    "df['sleep1']=np.where(df['sleep']==1,0,1)"
   ]
  },
  {
   "cell_type": "code",
   "execution_count": 12,
   "metadata": {},
   "outputs": [],
   "source": [
    "import statsmodels.formula.api as smf"
   ]
  },
  {
   "cell_type": "code",
   "execution_count": 87,
   "metadata": {},
   "outputs": [],
   "source": [
    "model = smf.logit(\"edible ~ age + sex + veteran\", data=df)"
   ]
  },
  {
   "cell_type": "code",
   "execution_count": 88,
   "metadata": {},
   "outputs": [
    {
     "name": "stdout",
     "output_type": "stream",
     "text": [
      "Optimization terminated successfully.\n",
      "         Current function value: 0.590724\n",
      "         Iterations 6\n"
     ]
    }
   ],
   "source": [
    "results = model.fit()"
   ]
  },
  {
   "cell_type": "code",
   "execution_count": 89,
   "metadata": {},
   "outputs": [
    {
     "data": {
      "text/html": [
       "<table class=\"simpletable\">\n",
       "<caption>Logit Regression Results</caption>\n",
       "<tr>\n",
       "  <th>Dep. Variable:</th>        <td>edible</td>      <th>  No. Observations:  </th>  <td>   121</td>  \n",
       "</tr>\n",
       "<tr>\n",
       "  <th>Model:</th>                 <td>Logit</td>      <th>  Df Residuals:      </th>  <td>   117</td>  \n",
       "</tr>\n",
       "<tr>\n",
       "  <th>Method:</th>                 <td>MLE</td>       <th>  Df Model:          </th>  <td>     3</td>  \n",
       "</tr>\n",
       "<tr>\n",
       "  <th>Date:</th>            <td>Wed, 27 Apr 2022</td> <th>  Pseudo R-squ.:     </th>  <td>0.1382</td>  \n",
       "</tr>\n",
       "<tr>\n",
       "  <th>Time:</th>                <td>23:28:53</td>     <th>  Log-Likelihood:    </th> <td> -71.478</td> \n",
       "</tr>\n",
       "<tr>\n",
       "  <th>converged:</th>             <td>True</td>       <th>  LL-Null:           </th> <td> -82.939</td> \n",
       "</tr>\n",
       "<tr>\n",
       "  <th>Covariance Type:</th>     <td>nonrobust</td>    <th>  LLR p-value:       </th> <td>4.192e-05</td>\n",
       "</tr>\n",
       "</table>\n",
       "<table class=\"simpletable\">\n",
       "<tr>\n",
       "      <td></td>         <th>coef</th>     <th>std err</th>      <th>z</th>      <th>P>|z|</th>  <th>[0.025</th>    <th>0.975]</th>  \n",
       "</tr>\n",
       "<tr>\n",
       "  <th>Intercept</th> <td>   -0.9544</td> <td>    1.336</td> <td>   -0.715</td> <td> 0.475</td> <td>   -3.572</td> <td>    1.663</td>\n",
       "</tr>\n",
       "<tr>\n",
       "  <th>age</th>       <td>   -0.0357</td> <td>    0.019</td> <td>   -1.908</td> <td> 0.056</td> <td>   -0.072</td> <td>    0.001</td>\n",
       "</tr>\n",
       "<tr>\n",
       "  <th>sex</th>       <td>    0.9599</td> <td>    0.533</td> <td>    1.800</td> <td> 0.072</td> <td>   -0.085</td> <td>    2.005</td>\n",
       "</tr>\n",
       "<tr>\n",
       "  <th>veteran</th>   <td>    2.1177</td> <td>    0.544</td> <td>    3.890</td> <td> 0.000</td> <td>    1.051</td> <td>    3.185</td>\n",
       "</tr>\n",
       "</table>"
      ],
      "text/plain": [
       "<class 'statsmodels.iolib.summary.Summary'>\n",
       "\"\"\"\n",
       "                           Logit Regression Results                           \n",
       "==============================================================================\n",
       "Dep. Variable:                 edible   No. Observations:                  121\n",
       "Model:                          Logit   Df Residuals:                      117\n",
       "Method:                           MLE   Df Model:                            3\n",
       "Date:                Wed, 27 Apr 2022   Pseudo R-squ.:                  0.1382\n",
       "Time:                        23:28:53   Log-Likelihood:                -71.478\n",
       "converged:                       True   LL-Null:                       -82.939\n",
       "Covariance Type:            nonrobust   LLR p-value:                 4.192e-05\n",
       "==============================================================================\n",
       "                 coef    std err          z      P>|z|      [0.025      0.975]\n",
       "------------------------------------------------------------------------------\n",
       "Intercept     -0.9544      1.336     -0.715      0.475      -3.572       1.663\n",
       "age           -0.0357      0.019     -1.908      0.056      -0.072       0.001\n",
       "sex            0.9599      0.533      1.800      0.072      -0.085       2.005\n",
       "veteran        2.1177      0.544      3.890      0.000       1.051       3.185\n",
       "==============================================================================\n",
       "\"\"\""
      ]
     },
     "execution_count": 89,
     "metadata": {},
     "output_type": "execute_result"
    }
   ],
   "source": [
    "results.summary()"
   ]
  },
  {
   "cell_type": "code",
   "execution_count": null,
   "metadata": {},
   "outputs": [],
   "source": [
    "### ODDS RATIOS"
   ]
  },
  {
   "cell_type": "code",
   "execution_count": 98,
   "metadata": {},
   "outputs": [
    {
     "data": {
      "text/plain": [
       "24.167288405845095"
      ]
     },
     "execution_count": 98,
     "metadata": {},
     "output_type": "execute_result"
    }
   ],
   "source": [
    "math.exp(3.185)"
   ]
  },
  {
   "cell_type": "code",
   "execution_count": 60,
   "metadata": {},
   "outputs": [
    {
     "data": {
      "text/plain": [
       "7.099327065156633"
      ]
     },
     "execution_count": 60,
     "metadata": {},
     "output_type": "execute_result"
    }
   ],
   "source": [
    "math.exp(1.96)"
   ]
  },
  {
   "cell_type": "code",
   "execution_count": 61,
   "metadata": {},
   "outputs": [
    {
     "data": {
      "text/plain": [
       "0.9704455335485082"
      ]
     },
     "execution_count": 61,
     "metadata": {},
     "output_type": "execute_result"
    }
   ],
   "source": [
    "math.exp(-0.03)"
   ]
  },
  {
   "cell_type": "code",
   "execution_count": 69,
   "metadata": {},
   "outputs": [
    {
     "data": {
      "text/plain": [
       "3.6987687721941076"
      ]
     },
     "execution_count": 69,
     "metadata": {},
     "output_type": "execute_result"
    }
   ],
   "source": [
    "math.exp(0.228+2*0.54)"
   ]
  },
  {
   "cell_type": "code",
   "execution_count": 67,
   "metadata": {},
   "outputs": [
    {
     "data": {
      "text/plain": [
       "-1.042"
      ]
     },
     "execution_count": 67,
     "metadata": {},
     "output_type": "execute_result"
    }
   ],
   "source": [
    "0.044-2*0.543"
   ]
  },
  {
   "cell_type": "code",
   "execution_count": 78,
   "metadata": {},
   "outputs": [
    {
     "data": {
      "text/plain": [
       "array([[-0.02291046,  0.5177423 ,  1.96423239]])"
      ]
     },
     "execution_count": 78,
     "metadata": {},
     "output_type": "execute_result"
    }
   ],
   "source": [
    "model.coef_"
   ]
  },
  {
   "cell_type": "code",
   "execution_count": 79,
   "metadata": {},
   "outputs": [
    {
     "data": {
      "text/plain": [
       "0.7768595041322314"
      ]
     },
     "execution_count": 79,
     "metadata": {},
     "output_type": "execute_result"
    }
   ],
   "source": [
    "model.score(x,y)"
   ]
  },
  {
   "cell_type": "code",
   "execution_count": 80,
   "metadata": {},
   "outputs": [],
   "source": [
    "model = smf.logit(\"stress ~ age + sex + veteran\", data=df)"
   ]
  },
  {
   "cell_type": "code",
   "execution_count": 81,
   "metadata": {},
   "outputs": [
    {
     "name": "stdout",
     "output_type": "stream",
     "text": [
      "Optimization terminated successfully.\n",
      "         Current function value: 0.518022\n",
      "         Iterations 6\n"
     ]
    }
   ],
   "source": [
    "results = model.fit()"
   ]
  },
  {
   "cell_type": "code",
   "execution_count": 82,
   "metadata": {},
   "outputs": [
    {
     "data": {
      "text/html": [
       "<table class=\"simpletable\">\n",
       "<caption>Logit Regression Results</caption>\n",
       "<tr>\n",
       "  <th>Dep. Variable:</th>        <td>stress</td>      <th>  No. Observations:  </th>  <td>   121</td>  \n",
       "</tr>\n",
       "<tr>\n",
       "  <th>Model:</th>                 <td>Logit</td>      <th>  Df Residuals:      </th>  <td>   117</td>  \n",
       "</tr>\n",
       "<tr>\n",
       "  <th>Method:</th>                 <td>MLE</td>       <th>  Df Model:          </th>  <td>     3</td>  \n",
       "</tr>\n",
       "<tr>\n",
       "  <th>Date:</th>            <td>Sun, 17 Apr 2022</td> <th>  Pseudo R-squ.:     </th>  <td>0.1977</td>  \n",
       "</tr>\n",
       "<tr>\n",
       "  <th>Time:</th>                <td>10:05:31</td>     <th>  Log-Likelihood:    </th> <td> -62.681</td> \n",
       "</tr>\n",
       "<tr>\n",
       "  <th>converged:</th>             <td>True</td>       <th>  LL-Null:           </th> <td> -78.122</td> \n",
       "</tr>\n",
       "<tr>\n",
       "  <th>Covariance Type:</th>     <td>nonrobust</td>    <th>  LLR p-value:       </th> <td>8.997e-07</td>\n",
       "</tr>\n",
       "</table>\n",
       "<table class=\"simpletable\">\n",
       "<tr>\n",
       "      <td></td>         <th>coef</th>     <th>std err</th>      <th>z</th>      <th>P>|z|</th>  <th>[0.025</th>    <th>0.975]</th>  \n",
       "</tr>\n",
       "<tr>\n",
       "  <th>Intercept</th> <td>   -3.2320</td> <td>    1.631</td> <td>   -1.982</td> <td> 0.047</td> <td>   -6.428</td> <td>   -0.036</td>\n",
       "</tr>\n",
       "<tr>\n",
       "  <th>age</th>       <td>   -0.0258</td> <td>    0.019</td> <td>   -1.381</td> <td> 0.167</td> <td>   -0.063</td> <td>    0.011</td>\n",
       "</tr>\n",
       "<tr>\n",
       "  <th>sex</th>       <td>    0.9557</td> <td>    0.582</td> <td>    1.642</td> <td> 0.101</td> <td>   -0.185</td> <td>    2.097</td>\n",
       "</tr>\n",
       "<tr>\n",
       "  <th>veteran</th>   <td>    2.5483</td> <td>    0.541</td> <td>    4.714</td> <td> 0.000</td> <td>    1.489</td> <td>    3.608</td>\n",
       "</tr>\n",
       "</table>"
      ],
      "text/plain": [
       "<class 'statsmodels.iolib.summary.Summary'>\n",
       "\"\"\"\n",
       "                           Logit Regression Results                           \n",
       "==============================================================================\n",
       "Dep. Variable:                 stress   No. Observations:                  121\n",
       "Model:                          Logit   Df Residuals:                      117\n",
       "Method:                           MLE   Df Model:                            3\n",
       "Date:                Sun, 17 Apr 2022   Pseudo R-squ.:                  0.1977\n",
       "Time:                        10:05:31   Log-Likelihood:                -62.681\n",
       "converged:                       True   LL-Null:                       -78.122\n",
       "Covariance Type:            nonrobust   LLR p-value:                 8.997e-07\n",
       "==============================================================================\n",
       "                 coef    std err          z      P>|z|      [0.025      0.975]\n",
       "------------------------------------------------------------------------------\n",
       "Intercept     -3.2320      1.631     -1.982      0.047      -6.428      -0.036\n",
       "age           -0.0258      0.019     -1.381      0.167      -0.063       0.011\n",
       "sex            0.9557      0.582      1.642      0.101      -0.185       2.097\n",
       "veteran        2.5483      0.541      4.714      0.000       1.489       3.608\n",
       "==============================================================================\n",
       "\"\"\""
      ]
     },
     "execution_count": 82,
     "metadata": {},
     "output_type": "execute_result"
    }
   ],
   "source": [
    "results.summary()"
   ]
  },
  {
   "cell_type": "code",
   "execution_count": 83,
   "metadata": {},
   "outputs": [
    {
     "data": {
      "text/plain": [
       "0.9753099120283326"
      ]
     },
     "execution_count": 83,
     "metadata": {},
     "output_type": "execute_result"
    }
   ],
   "source": [
    "math.exp(-0.025)"
   ]
  },
  {
   "cell_type": "code",
   "execution_count": 90,
   "metadata": {},
   "outputs": [
    {
     "data": {
      "text/plain": [
       "2.585709659315846"
      ]
     },
     "execution_count": 90,
     "metadata": {},
     "output_type": "execute_result"
    }
   ],
   "source": [
    "math.exp(0.95)"
   ]
  },
  {
   "cell_type": "code",
   "execution_count": 91,
   "metadata": {},
   "outputs": [
    {
     "data": {
      "text/plain": [
       "12.679670970833877"
      ]
     },
     "execution_count": 91,
     "metadata": {},
     "output_type": "execute_result"
    }
   ],
   "source": [
    "math.exp(2.54)"
   ]
  },
  {
   "cell_type": "code",
   "execution_count": 103,
   "metadata": {},
   "outputs": [],
   "source": [
    "model = smf.logit(\"depression ~ age + sex + veteran\", data=df)"
   ]
  },
  {
   "cell_type": "code",
   "execution_count": 104,
   "metadata": {},
   "outputs": [
    {
     "name": "stdout",
     "output_type": "stream",
     "text": [
      "Optimization terminated successfully.\n",
      "         Current function value: 0.610084\n",
      "         Iterations 5\n"
     ]
    }
   ],
   "source": [
    "results = model.fit()"
   ]
  },
  {
   "cell_type": "code",
   "execution_count": 105,
   "metadata": {},
   "outputs": [
    {
     "data": {
      "text/html": [
       "<table class=\"simpletable\">\n",
       "<caption>Logit Regression Results</caption>\n",
       "<tr>\n",
       "  <th>Dep. Variable:</th>      <td>depression</td>    <th>  No. Observations:  </th>  <td>   121</td>  \n",
       "</tr>\n",
       "<tr>\n",
       "  <th>Model:</th>                 <td>Logit</td>      <th>  Df Residuals:      </th>  <td>   117</td>  \n",
       "</tr>\n",
       "<tr>\n",
       "  <th>Method:</th>                 <td>MLE</td>       <th>  Df Model:          </th>  <td>     3</td>  \n",
       "</tr>\n",
       "<tr>\n",
       "  <th>Date:</th>            <td>Sun, 17 Apr 2022</td> <th>  Pseudo R-squ.:     </th>  <td>0.1145</td>  \n",
       "</tr>\n",
       "<tr>\n",
       "  <th>Time:</th>                <td>10:25:36</td>     <th>  Log-Likelihood:    </th> <td> -73.820</td> \n",
       "</tr>\n",
       "<tr>\n",
       "  <th>converged:</th>             <td>True</td>       <th>  LL-Null:           </th> <td> -83.370</td> \n",
       "</tr>\n",
       "<tr>\n",
       "  <th>Covariance Type:</th>     <td>nonrobust</td>    <th>  LLR p-value:       </th> <td>0.0002607</td>\n",
       "</tr>\n",
       "</table>\n",
       "<table class=\"simpletable\">\n",
       "<tr>\n",
       "      <td></td>         <th>coef</th>     <th>std err</th>      <th>z</th>      <th>P>|z|</th>  <th>[0.025</th>    <th>0.975]</th>  \n",
       "</tr>\n",
       "<tr>\n",
       "  <th>Intercept</th> <td>   -1.9626</td> <td>    1.535</td> <td>   -1.279</td> <td> 0.201</td> <td>   -4.970</td> <td>    1.045</td>\n",
       "</tr>\n",
       "<tr>\n",
       "  <th>age</th>       <td>   -0.0337</td> <td>    0.018</td> <td>   -1.874</td> <td> 0.061</td> <td>   -0.069</td> <td>    0.002</td>\n",
       "</tr>\n",
       "<tr>\n",
       "  <th>sex</th>       <td>    0.4996</td> <td>    0.496</td> <td>    1.008</td> <td> 0.314</td> <td>   -0.472</td> <td>    1.471</td>\n",
       "</tr>\n",
       "<tr>\n",
       "  <th>veteran</th>   <td>    1.7968</td> <td>    0.500</td> <td>    3.595</td> <td> 0.000</td> <td>    0.817</td> <td>    2.776</td>\n",
       "</tr>\n",
       "</table>"
      ],
      "text/plain": [
       "<class 'statsmodels.iolib.summary.Summary'>\n",
       "\"\"\"\n",
       "                           Logit Regression Results                           \n",
       "==============================================================================\n",
       "Dep. Variable:             depression   No. Observations:                  121\n",
       "Model:                          Logit   Df Residuals:                      117\n",
       "Method:                           MLE   Df Model:                            3\n",
       "Date:                Sun, 17 Apr 2022   Pseudo R-squ.:                  0.1145\n",
       "Time:                        10:25:36   Log-Likelihood:                -73.820\n",
       "converged:                       True   LL-Null:                       -83.370\n",
       "Covariance Type:            nonrobust   LLR p-value:                 0.0002607\n",
       "==============================================================================\n",
       "                 coef    std err          z      P>|z|      [0.025      0.975]\n",
       "------------------------------------------------------------------------------\n",
       "Intercept     -1.9626      1.535     -1.279      0.201      -4.970       1.045\n",
       "age           -0.0337      0.018     -1.874      0.061      -0.069       0.002\n",
       "sex            0.4996      0.496      1.008      0.314      -0.472       1.471\n",
       "veteran        1.7968      0.500      3.595      0.000       0.817       2.776\n",
       "==============================================================================\n",
       "\"\"\""
      ]
     },
     "execution_count": 105,
     "metadata": {},
     "output_type": "execute_result"
    }
   ],
   "source": [
    "results.summary()"
   ]
  },
  {
   "cell_type": "code",
   "execution_count": 106,
   "metadata": {},
   "outputs": [
    {
     "data": {
      "text/plain": [
       "0.9704455335485082"
      ]
     },
     "execution_count": 106,
     "metadata": {},
     "output_type": "execute_result"
    }
   ],
   "source": [
    "math.exp(-0.03)"
   ]
  },
  {
   "cell_type": "code",
   "execution_count": 107,
   "metadata": {},
   "outputs": [
    {
     "data": {
      "text/plain": [
       "1.632316219955379"
      ]
     },
     "execution_count": 107,
     "metadata": {},
     "output_type": "execute_result"
    }
   ],
   "source": [
    "math.exp(0.49)"
   ]
  },
  {
   "cell_type": "code",
   "execution_count": 111,
   "metadata": {},
   "outputs": [
    {
     "data": {
      "text/plain": [
       "6.0496474644129465"
      ]
     },
     "execution_count": 111,
     "metadata": {},
     "output_type": "execute_result"
    }
   ],
   "source": [
    "math.exp(1.8)"
   ]
  },
  {
   "cell_type": "code",
   "execution_count": 124,
   "metadata": {},
   "outputs": [],
   "source": [
    "model = smf.logit(\"ptsd ~ age + sex + veteran\", data=df)"
   ]
  },
  {
   "cell_type": "code",
   "execution_count": 125,
   "metadata": {},
   "outputs": [
    {
     "name": "stdout",
     "output_type": "stream",
     "text": [
      "Optimization terminated successfully.\n",
      "         Current function value: 0.562283\n",
      "         Iterations 6\n"
     ]
    }
   ],
   "source": [
    "results = model.fit()"
   ]
  },
  {
   "cell_type": "code",
   "execution_count": 126,
   "metadata": {},
   "outputs": [
    {
     "data": {
      "text/html": [
       "<table class=\"simpletable\">\n",
       "<caption>Logit Regression Results</caption>\n",
       "<tr>\n",
       "  <th>Dep. Variable:</th>         <td>ptsd</td>       <th>  No. Observations:  </th>  <td>   121</td>  \n",
       "</tr>\n",
       "<tr>\n",
       "  <th>Model:</th>                 <td>Logit</td>      <th>  Df Residuals:      </th>  <td>   117</td>  \n",
       "</tr>\n",
       "<tr>\n",
       "  <th>Method:</th>                 <td>MLE</td>       <th>  Df Model:          </th>  <td>     3</td>  \n",
       "</tr>\n",
       "<tr>\n",
       "  <th>Date:</th>            <td>Sun, 17 Apr 2022</td> <th>  Pseudo R-squ.:     </th>  <td>0.1707</td>  \n",
       "</tr>\n",
       "<tr>\n",
       "  <th>Time:</th>                <td>10:44:18</td>     <th>  Log-Likelihood:    </th> <td> -68.036</td> \n",
       "</tr>\n",
       "<tr>\n",
       "  <th>converged:</th>             <td>True</td>       <th>  LL-Null:           </th> <td> -82.039</td> \n",
       "</tr>\n",
       "<tr>\n",
       "  <th>Covariance Type:</th>     <td>nonrobust</td>    <th>  LLR p-value:       </th> <td>3.622e-06</td>\n",
       "</tr>\n",
       "</table>\n",
       "<table class=\"simpletable\">\n",
       "<tr>\n",
       "      <td></td>         <th>coef</th>     <th>std err</th>      <th>z</th>      <th>P>|z|</th>  <th>[0.025</th>    <th>0.975]</th>  \n",
       "</tr>\n",
       "<tr>\n",
       "  <th>Intercept</th> <td>   -2.9504</td> <td>    1.691</td> <td>   -1.744</td> <td> 0.081</td> <td>   -6.266</td> <td>    0.365</td>\n",
       "</tr>\n",
       "<tr>\n",
       "  <th>age</th>       <td>   -0.0364</td> <td>    0.020</td> <td>   -1.831</td> <td> 0.067</td> <td>   -0.075</td> <td>    0.003</td>\n",
       "</tr>\n",
       "<tr>\n",
       "  <th>sex</th>       <td>    0.3466</td> <td>    0.526</td> <td>    0.659</td> <td> 0.510</td> <td>   -0.684</td> <td>    1.378</td>\n",
       "</tr>\n",
       "<tr>\n",
       "  <th>veteran</th>   <td>    2.4293</td> <td>    0.584</td> <td>    4.158</td> <td> 0.000</td> <td>    1.284</td> <td>    3.574</td>\n",
       "</tr>\n",
       "</table>"
      ],
      "text/plain": [
       "<class 'statsmodels.iolib.summary.Summary'>\n",
       "\"\"\"\n",
       "                           Logit Regression Results                           \n",
       "==============================================================================\n",
       "Dep. Variable:                   ptsd   No. Observations:                  121\n",
       "Model:                          Logit   Df Residuals:                      117\n",
       "Method:                           MLE   Df Model:                            3\n",
       "Date:                Sun, 17 Apr 2022   Pseudo R-squ.:                  0.1707\n",
       "Time:                        10:44:18   Log-Likelihood:                -68.036\n",
       "converged:                       True   LL-Null:                       -82.039\n",
       "Covariance Type:            nonrobust   LLR p-value:                 3.622e-06\n",
       "==============================================================================\n",
       "                 coef    std err          z      P>|z|      [0.025      0.975]\n",
       "------------------------------------------------------------------------------\n",
       "Intercept     -2.9504      1.691     -1.744      0.081      -6.266       0.365\n",
       "age           -0.0364      0.020     -1.831      0.067      -0.075       0.003\n",
       "sex            0.3466      0.526      0.659      0.510      -0.684       1.378\n",
       "veteran        2.4293      0.584      4.158      0.000       1.284       3.574\n",
       "==============================================================================\n",
       "\"\"\""
      ]
     },
     "execution_count": 126,
     "metadata": {},
     "output_type": "execute_result"
    }
   ],
   "source": [
    "results.summary()"
   ]
  },
  {
   "cell_type": "code",
   "execution_count": 127,
   "metadata": {},
   "outputs": [
    {
     "data": {
      "text/plain": [
       "0.9704455335485082"
      ]
     },
     "execution_count": 127,
     "metadata": {},
     "output_type": "execute_result"
    }
   ],
   "source": [
    "math.exp(-0.03)"
   ]
  },
  {
   "cell_type": "code",
   "execution_count": 128,
   "metadata": {},
   "outputs": [
    {
     "data": {
      "text/plain": [
       "1.4190675485932571"
      ]
     },
     "execution_count": 128,
     "metadata": {},
     "output_type": "execute_result"
    }
   ],
   "source": [
    "math.exp(0.35)"
   ]
  },
  {
   "cell_type": "code",
   "execution_count": 129,
   "metadata": {},
   "outputs": [
    {
     "data": {
      "text/plain": [
       "11.245859314881844"
      ]
     },
     "execution_count": 129,
     "metadata": {},
     "output_type": "execute_result"
    }
   ],
   "source": [
    "math.exp(2.42)"
   ]
  },
  {
   "cell_type": "code",
   "execution_count": 140,
   "metadata": {},
   "outputs": [],
   "source": [
    "model = smf.logit(\"art ~ age + sex + veteran\", data=df)"
   ]
  },
  {
   "cell_type": "code",
   "execution_count": 141,
   "metadata": {},
   "outputs": [
    {
     "name": "stdout",
     "output_type": "stream",
     "text": [
      "Optimization terminated successfully.\n",
      "         Current function value: 0.617374\n",
      "         Iterations 5\n"
     ]
    }
   ],
   "source": [
    "results = model.fit()"
   ]
  },
  {
   "cell_type": "code",
   "execution_count": 142,
   "metadata": {},
   "outputs": [
    {
     "data": {
      "text/html": [
       "<table class=\"simpletable\">\n",
       "<caption>Logit Regression Results</caption>\n",
       "<tr>\n",
       "  <th>Dep. Variable:</th>          <td>art</td>       <th>  No. Observations:  </th>  <td>   121</td>  \n",
       "</tr>\n",
       "<tr>\n",
       "  <th>Model:</th>                 <td>Logit</td>      <th>  Df Residuals:      </th>  <td>   117</td>  \n",
       "</tr>\n",
       "<tr>\n",
       "  <th>Method:</th>                 <td>MLE</td>       <th>  Df Model:          </th>  <td>     3</td>  \n",
       "</tr>\n",
       "<tr>\n",
       "  <th>Date:</th>            <td>Sun, 17 Apr 2022</td> <th>  Pseudo R-squ.:     </th>  <td>0.09931</td> \n",
       "</tr>\n",
       "<tr>\n",
       "  <th>Time:</th>                <td>10:48:21</td>     <th>  Log-Likelihood:    </th> <td> -74.702</td> \n",
       "</tr>\n",
       "<tr>\n",
       "  <th>converged:</th>             <td>True</td>       <th>  LL-Null:           </th> <td> -82.939</td> \n",
       "</tr>\n",
       "<tr>\n",
       "  <th>Covariance Type:</th>     <td>nonrobust</td>    <th>  LLR p-value:       </th> <td>0.0009070</td>\n",
       "</tr>\n",
       "</table>\n",
       "<table class=\"simpletable\">\n",
       "<tr>\n",
       "      <td></td>         <th>coef</th>     <th>std err</th>      <th>z</th>      <th>P>|z|</th>  <th>[0.025</th>    <th>0.975]</th>  \n",
       "</tr>\n",
       "<tr>\n",
       "  <th>Intercept</th> <td>   -2.1543</td> <td>    1.549</td> <td>   -1.391</td> <td> 0.164</td> <td>   -5.191</td> <td>    0.882</td>\n",
       "</tr>\n",
       "<tr>\n",
       "  <th>age</th>       <td>   -0.0149</td> <td>    0.018</td> <td>   -0.844</td> <td> 0.399</td> <td>   -0.050</td> <td>    0.020</td>\n",
       "</tr>\n",
       "<tr>\n",
       "  <th>sex</th>       <td>   -0.0455</td> <td>    0.476</td> <td>   -0.096</td> <td> 0.924</td> <td>   -0.978</td> <td>    0.887</td>\n",
       "</tr>\n",
       "<tr>\n",
       "  <th>veteran</th>   <td>    1.6505</td> <td>    0.484</td> <td>    3.410</td> <td> 0.001</td> <td>    0.702</td> <td>    2.599</td>\n",
       "</tr>\n",
       "</table>"
      ],
      "text/plain": [
       "<class 'statsmodels.iolib.summary.Summary'>\n",
       "\"\"\"\n",
       "                           Logit Regression Results                           \n",
       "==============================================================================\n",
       "Dep. Variable:                    art   No. Observations:                  121\n",
       "Model:                          Logit   Df Residuals:                      117\n",
       "Method:                           MLE   Df Model:                            3\n",
       "Date:                Sun, 17 Apr 2022   Pseudo R-squ.:                 0.09931\n",
       "Time:                        10:48:21   Log-Likelihood:                -74.702\n",
       "converged:                       True   LL-Null:                       -82.939\n",
       "Covariance Type:            nonrobust   LLR p-value:                 0.0009070\n",
       "==============================================================================\n",
       "                 coef    std err          z      P>|z|      [0.025      0.975]\n",
       "------------------------------------------------------------------------------\n",
       "Intercept     -2.1543      1.549     -1.391      0.164      -5.191       0.882\n",
       "age           -0.0149      0.018     -0.844      0.399      -0.050       0.020\n",
       "sex           -0.0455      0.476     -0.096      0.924      -0.978       0.887\n",
       "veteran        1.6505      0.484      3.410      0.001       0.702       2.599\n",
       "==============================================================================\n",
       "\"\"\""
      ]
     },
     "execution_count": 142,
     "metadata": {},
     "output_type": "execute_result"
    }
   ],
   "source": [
    "results.summary()"
   ]
  },
  {
   "cell_type": "code",
   "execution_count": 143,
   "metadata": {},
   "outputs": [
    {
     "data": {
      "text/plain": [
       "0.9900498337491681"
      ]
     },
     "execution_count": 143,
     "metadata": {},
     "output_type": "execute_result"
    }
   ],
   "source": [
    "math.exp(-0.01)"
   ]
  },
  {
   "cell_type": "code",
   "execution_count": 144,
   "metadata": {},
   "outputs": [
    {
     "data": {
      "text/plain": [
       "0.9607894391523232"
      ]
     },
     "execution_count": 144,
     "metadata": {},
     "output_type": "execute_result"
    }
   ],
   "source": [
    "math.exp(-0.04)"
   ]
  },
  {
   "cell_type": "code",
   "execution_count": 145,
   "metadata": {},
   "outputs": [
    {
     "data": {
      "text/plain": [
       "5.206979827179849"
      ]
     },
     "execution_count": 145,
     "metadata": {},
     "output_type": "execute_result"
    }
   ],
   "source": [
    "math.exp(1.65)"
   ]
  },
  {
   "cell_type": "code",
   "execution_count": 146,
   "metadata": {},
   "outputs": [],
   "source": [
    "df = pd.read_excel(r\"C:\\Users\\User\\Desktop\\New Microsoft Excel Worksheet (4).xlsx\")"
   ]
  },
  {
   "cell_type": "code",
   "execution_count": 155,
   "metadata": {},
   "outputs": [],
   "source": [
    "df = df.dropna()"
   ]
  },
  {
   "cell_type": "code",
   "execution_count": 160,
   "metadata": {},
   "outputs": [],
   "source": [
    "results = regressor.fit(x,y)"
   ]
  },
  {
   "cell_type": "code",
   "execution_count": 162,
   "metadata": {},
   "outputs": [
    {
     "data": {
      "text/plain": [
       "array([[-0.05044069,  0.79737171,  2.03752841]])"
      ]
     },
     "execution_count": 162,
     "metadata": {},
     "output_type": "execute_result"
    }
   ],
   "source": [
    "regressor.coef_"
   ]
  },
  {
   "cell_type": "code",
   "execution_count": 163,
   "metadata": {},
   "outputs": [
    {
     "data": {
      "text/plain": [
       "0.15826757395508306"
      ]
     },
     "execution_count": 163,
     "metadata": {},
     "output_type": "execute_result"
    }
   ],
   "source": [
    "regressor.score(x,y)"
   ]
  },
  {
   "cell_type": "code",
   "execution_count": null,
   "metadata": {},
   "outputs": [],
   "source": []
  },
  {
   "cell_type": "code",
   "execution_count": null,
   "metadata": {},
   "outputs": [],
   "source": [
    "#### LINEAR REGRESSION"
   ]
  },
  {
   "cell_type": "code",
   "execution_count": null,
   "metadata": {},
   "outputs": [],
   "source": []
  },
  {
   "cell_type": "code",
   "execution_count": 164,
   "metadata": {},
   "outputs": [],
   "source": [
    "import statsmodels.api as sm"
   ]
  },
  {
   "cell_type": "code",
   "execution_count": 165,
   "metadata": {},
   "outputs": [],
   "source": [
    "x = sm.add_constant(x)"
   ]
  },
  {
   "cell_type": "code",
   "execution_count": 166,
   "metadata": {},
   "outputs": [],
   "source": [
    "model = sm.OLS(y, x)"
   ]
  },
  {
   "cell_type": "code",
   "execution_count": 167,
   "metadata": {},
   "outputs": [],
   "source": [
    "results = model.fit()"
   ]
  },
  {
   "cell_type": "code",
   "execution_count": 168,
   "metadata": {},
   "outputs": [
    {
     "data": {
      "text/html": [
       "<table class=\"simpletable\">\n",
       "<caption>OLS Regression Results</caption>\n",
       "<tr>\n",
       "  <th>Dep. Variable:</th>            <td>y</td>        <th>  R-squared:         </th> <td>   0.158</td>\n",
       "</tr>\n",
       "<tr>\n",
       "  <th>Model:</th>                   <td>OLS</td>       <th>  Adj. R-squared:    </th> <td>   0.139</td>\n",
       "</tr>\n",
       "<tr>\n",
       "  <th>Method:</th>             <td>Least Squares</td>  <th>  F-statistic:       </th> <td>   8.085</td>\n",
       "</tr>\n",
       "<tr>\n",
       "  <th>Date:</th>             <td>Sun, 17 Apr 2022</td> <th>  Prob (F-statistic):</th> <td>5.62e-05</td>\n",
       "</tr>\n",
       "<tr>\n",
       "  <th>Time:</th>                 <td>10:56:30</td>     <th>  Log-Likelihood:    </th> <td> -313.20</td>\n",
       "</tr>\n",
       "<tr>\n",
       "  <th>No. Observations:</th>      <td>   133</td>      <th>  AIC:               </th> <td>   634.4</td>\n",
       "</tr>\n",
       "<tr>\n",
       "  <th>Df Residuals:</th>          <td>   129</td>      <th>  BIC:               </th> <td>   646.0</td>\n",
       "</tr>\n",
       "<tr>\n",
       "  <th>Df Model:</th>              <td>     3</td>      <th>                     </th>     <td> </td>   \n",
       "</tr>\n",
       "<tr>\n",
       "  <th>Covariance Type:</th>      <td>nonrobust</td>    <th>                     </th>     <td> </td>   \n",
       "</tr>\n",
       "</table>\n",
       "<table class=\"simpletable\">\n",
       "<tr>\n",
       "    <td></td>       <th>coef</th>     <th>std err</th>      <th>t</th>      <th>P>|t|</th>  <th>[0.025</th>    <th>0.975]</th>  \n",
       "</tr>\n",
       "<tr>\n",
       "  <th>const</th> <td>    2.7466</td> <td>    1.735</td> <td>    1.583</td> <td> 0.116</td> <td>   -0.685</td> <td>    6.179</td>\n",
       "</tr>\n",
       "<tr>\n",
       "  <th>x1</th>    <td>   -0.0504</td> <td>    0.019</td> <td>   -2.637</td> <td> 0.009</td> <td>   -0.088</td> <td>   -0.013</td>\n",
       "</tr>\n",
       "<tr>\n",
       "  <th>x2</th>    <td>    0.7974</td> <td>    0.532</td> <td>    1.498</td> <td> 0.137</td> <td>   -0.256</td> <td>    1.851</td>\n",
       "</tr>\n",
       "<tr>\n",
       "  <th>x3</th>    <td>    2.0375</td> <td>    0.513</td> <td>    3.968</td> <td> 0.000</td> <td>    1.022</td> <td>    3.053</td>\n",
       "</tr>\n",
       "</table>\n",
       "<table class=\"simpletable\">\n",
       "<tr>\n",
       "  <th>Omnibus:</th>       <td> 4.915</td> <th>  Durbin-Watson:     </th> <td>   1.723</td>\n",
       "</tr>\n",
       "<tr>\n",
       "  <th>Prob(Omnibus):</th> <td> 0.086</td> <th>  Jarque-Bera (JB):  </th> <td>   4.741</td>\n",
       "</tr>\n",
       "<tr>\n",
       "  <th>Skew:</th>          <td> 0.313</td> <th>  Prob(JB):          </th> <td>  0.0934</td>\n",
       "</tr>\n",
       "<tr>\n",
       "  <th>Kurtosis:</th>      <td> 3.682</td> <th>  Cond. No.          </th> <td>    467.</td>\n",
       "</tr>\n",
       "</table><br/><br/>Notes:<br/>[1] Standard Errors assume that the covariance matrix of the errors is correctly specified."
      ],
      "text/plain": [
       "<class 'statsmodels.iolib.summary.Summary'>\n",
       "\"\"\"\n",
       "                            OLS Regression Results                            \n",
       "==============================================================================\n",
       "Dep. Variable:                      y   R-squared:                       0.158\n",
       "Model:                            OLS   Adj. R-squared:                  0.139\n",
       "Method:                 Least Squares   F-statistic:                     8.085\n",
       "Date:                Sun, 17 Apr 2022   Prob (F-statistic):           5.62e-05\n",
       "Time:                        10:56:30   Log-Likelihood:                -313.20\n",
       "No. Observations:                 133   AIC:                             634.4\n",
       "Df Residuals:                     129   BIC:                             646.0\n",
       "Df Model:                           3                                         \n",
       "Covariance Type:            nonrobust                                         \n",
       "==============================================================================\n",
       "                 coef    std err          t      P>|t|      [0.025      0.975]\n",
       "------------------------------------------------------------------------------\n",
       "const          2.7466      1.735      1.583      0.116      -0.685       6.179\n",
       "x1            -0.0504      0.019     -2.637      0.009      -0.088      -0.013\n",
       "x2             0.7974      0.532      1.498      0.137      -0.256       1.851\n",
       "x3             2.0375      0.513      3.968      0.000       1.022       3.053\n",
       "==============================================================================\n",
       "Omnibus:                        4.915   Durbin-Watson:                   1.723\n",
       "Prob(Omnibus):                  0.086   Jarque-Bera (JB):                4.741\n",
       "Skew:                           0.313   Prob(JB):                       0.0934\n",
       "Kurtosis:                       3.682   Cond. No.                         467.\n",
       "==============================================================================\n",
       "\n",
       "Notes:\n",
       "[1] Standard Errors assume that the covariance matrix of the errors is correctly specified.\n",
       "\"\"\""
      ]
     },
     "execution_count": 168,
     "metadata": {},
     "output_type": "execute_result"
    }
   ],
   "source": [
    "results.summary()"
   ]
  },
  {
   "cell_type": "code",
   "execution_count": 171,
   "metadata": {},
   "outputs": [],
   "source": [
    "from scipy.stats import pearsonr"
   ]
  },
  {
   "cell_type": "code",
   "execution_count": 172,
   "metadata": {},
   "outputs": [
    {
     "data": {
      "text/plain": [
       "(-0.2356438891816314, 0.0063240727217918295)"
      ]
     },
     "execution_count": 172,
     "metadata": {},
     "output_type": "execute_result"
    }
   ],
   "source": [
    "pearsonr(df['n'], df['age'])"
   ]
  },
  {
   "cell_type": "code",
   "execution_count": 173,
   "metadata": {},
   "outputs": [
    {
     "data": {
      "text/html": [
       "<div>\n",
       "<style scoped>\n",
       "    .dataframe tbody tr th:only-of-type {\n",
       "        vertical-align: middle;\n",
       "    }\n",
       "\n",
       "    .dataframe tbody tr th {\n",
       "        vertical-align: top;\n",
       "    }\n",
       "\n",
       "    .dataframe thead th {\n",
       "        text-align: right;\n",
       "    }\n",
       "</style>\n",
       "<table border=\"1\" class=\"dataframe\">\n",
       "  <thead>\n",
       "    <tr style=\"text-align: right;\">\n",
       "      <th></th>\n",
       "      <th>age</th>\n",
       "      <th>sex</th>\n",
       "      <th>n</th>\n",
       "      <th>veteran</th>\n",
       "    </tr>\n",
       "  </thead>\n",
       "  <tbody>\n",
       "    <tr>\n",
       "      <th>age</th>\n",
       "      <td>1.000000</td>\n",
       "      <td>0.030801</td>\n",
       "      <td>-0.235644</td>\n",
       "      <td>-0.075119</td>\n",
       "    </tr>\n",
       "    <tr>\n",
       "      <th>sex</th>\n",
       "      <td>0.030801</td>\n",
       "      <td>1.000000</td>\n",
       "      <td>-0.006792</td>\n",
       "      <td>-0.377149</td>\n",
       "    </tr>\n",
       "    <tr>\n",
       "      <th>n</th>\n",
       "      <td>-0.235644</td>\n",
       "      <td>-0.006792</td>\n",
       "      <td>1.000000</td>\n",
       "      <td>0.313687</td>\n",
       "    </tr>\n",
       "    <tr>\n",
       "      <th>veteran</th>\n",
       "      <td>-0.075119</td>\n",
       "      <td>-0.377149</td>\n",
       "      <td>0.313687</td>\n",
       "      <td>1.000000</td>\n",
       "    </tr>\n",
       "  </tbody>\n",
       "</table>\n",
       "</div>"
      ],
      "text/plain": [
       "              age       sex         n   veteran\n",
       "age      1.000000  0.030801 -0.235644 -0.075119\n",
       "sex      0.030801  1.000000 -0.006792 -0.377149\n",
       "n       -0.235644 -0.006792  1.000000  0.313687\n",
       "veteran -0.075119 -0.377149  0.313687  1.000000"
      ]
     },
     "execution_count": 173,
     "metadata": {},
     "output_type": "execute_result"
    }
   ],
   "source": [
    "df.corr()"
   ]
  },
  {
   "cell_type": "code",
   "execution_count": null,
   "metadata": {},
   "outputs": [],
   "source": []
  },
  {
   "cell_type": "code",
   "execution_count": null,
   "metadata": {},
   "outputs": [],
   "source": []
  },
  {
   "cell_type": "code",
   "execution_count": null,
   "metadata": {},
   "outputs": [],
   "source": []
  },
  {
   "cell_type": "code",
   "execution_count": null,
   "metadata": {},
   "outputs": [],
   "source": []
  },
  {
   "cell_type": "code",
   "execution_count": null,
   "metadata": {},
   "outputs": [],
   "source": [
    "### Linear regression for BMI and gender"
   ]
  },
  {
   "cell_type": "code",
   "execution_count": 10,
   "metadata": {},
   "outputs": [],
   "source": [
    "from sklearn.model_selection import train_test_split"
   ]
  },
  {
   "cell_type": "code",
   "execution_count": 11,
   "metadata": {},
   "outputs": [],
   "source": [
    "x_train, x_test, y_train, y_test = train_test_split(x,y,test_size=1/3,random_state=0)\n"
   ]
  },
  {
   "cell_type": "code",
   "execution_count": 151,
   "metadata": {},
   "outputs": [],
   "source": [
    "from sklearn.linear_model import LinearRegression"
   ]
  },
  {
   "cell_type": "code",
   "execution_count": 152,
   "metadata": {},
   "outputs": [],
   "source": [
    "regressor = LinearRegression()"
   ]
  },
  {
   "cell_type": "code",
   "execution_count": 25,
   "metadata": {},
   "outputs": [],
   "source": [
    "results = regressor.fit(x_train,y_train)"
   ]
  },
  {
   "cell_type": "code",
   "execution_count": 15,
   "metadata": {},
   "outputs": [
    {
     "data": {
      "text/plain": [
       "array([[35.16747753],\n",
       "       [32.01447901],\n",
       "       [32.01447901],\n",
       "       [35.16747753],\n",
       "       [35.16747753],\n",
       "       [35.16747753],\n",
       "       [32.01447901],\n",
       "       [35.16747753],\n",
       "       [35.16747753],\n",
       "       [32.01447901],\n",
       "       [35.16747753],\n",
       "       [32.01447901],\n",
       "       [35.16747753],\n",
       "       [35.16747753],\n",
       "       [35.16747753],\n",
       "       [35.16747753],\n",
       "       [32.01447901],\n",
       "       [35.16747753],\n",
       "       [32.01447901],\n",
       "       [32.01447901],\n",
       "       [35.16747753],\n",
       "       [32.01447901],\n",
       "       [32.01447901],\n",
       "       [35.16747753],\n",
       "       [32.01447901],\n",
       "       [35.16747753],\n",
       "       [35.16747753],\n",
       "       [32.01447901],\n",
       "       [32.01447901],\n",
       "       [35.16747753],\n",
       "       [35.16747753],\n",
       "       [35.16747753],\n",
       "       [35.16747753],\n",
       "       [35.16747753],\n",
       "       [32.01447901],\n",
       "       [35.16747753],\n",
       "       [35.16747753],\n",
       "       [35.16747753],\n",
       "       [35.16747753],\n",
       "       [35.16747753],\n",
       "       [35.16747753],\n",
       "       [32.01447901],\n",
       "       [32.01447901],\n",
       "       [35.16747753],\n",
       "       [32.01447901],\n",
       "       [35.16747753],\n",
       "       [35.16747753]])"
      ]
     },
     "execution_count": 15,
     "metadata": {},
     "output_type": "execute_result"
    }
   ],
   "source": [
    "y_pred = regressor.predict(x_test) \n",
    "y_pred"
   ]
  },
  {
   "cell_type": "code",
   "execution_count": 16,
   "metadata": {},
   "outputs": [
    {
     "data": {
      "text/plain": [
       "array([[25.05055515],\n",
       "       [27.00762977],\n",
       "       [35.22734318],\n",
       "       [29.89975116],\n",
       "       [38.05422875],\n",
       "       [35.61875811],\n",
       "       [23.48489545],\n",
       "       [33.27026856],\n",
       "       [32.61791035],\n",
       "       [29.35611932],\n",
       "       [32.29173125],\n",
       "       [27.3990447 ],\n",
       "       [36.59729542],\n",
       "       [44.03417898],\n",
       "       [35.22734318],\n",
       "       [42.07710436],\n",
       "       [46.38266852],\n",
       "       [42.46851928],\n",
       "       [22.50635814],\n",
       "       [22.70640287],\n",
       "       [45.9912536 ],\n",
       "       [22.31065068],\n",
       "       [17.3704848 ],\n",
       "       [28.96470439],\n",
       "       [24.85484769],\n",
       "       [36.01560935],\n",
       "       [28.13294768],\n",
       "       [35.22734318],\n",
       "       [33.66168348],\n",
       "       [40.3157372 ],\n",
       "       [33.43335811],\n",
       "       [26.63601947],\n",
       "       [38.16295511],\n",
       "       [37.1844178 ],\n",
       "       [27.54820937],\n",
       "       [35.22734318],\n",
       "       [29.35611932],\n",
       "       [41.29427451],\n",
       "       [26.90977604],\n",
       "       [36.2719409 ],\n",
       "       [40.47230317],\n",
       "       [27.3990447 ],\n",
       "       [31.31319394],\n",
       "       [37.37468895],\n",
       "       [31.49666969],\n",
       "       [31.90031633],\n",
       "       [43.83847152]])"
      ]
     },
     "execution_count": 16,
     "metadata": {},
     "output_type": "execute_result"
    }
   ],
   "source": [
    "y_test"
   ]
  },
  {
   "cell_type": "code",
   "execution_count": 17,
   "metadata": {},
   "outputs": [],
   "source": [
    "import matplotlib.pyplot as plt"
   ]
  },
  {
   "cell_type": "code",
   "execution_count": 17,
   "metadata": {},
   "outputs": [
    {
     "name": "stdout",
     "output_type": "stream",
     "text": [
      "[[3.15299852]]\n"
     ]
    }
   ],
   "source": [
    "print(regressor.coef_)"
   ]
  },
  {
   "cell_type": "code",
   "execution_count": 18,
   "metadata": {},
   "outputs": [
    {
     "name": "stdout",
     "output_type": "stream",
     "text": [
      "[28.86148049]\n"
     ]
    }
   ],
   "source": [
    "print(regressor.intercept_)"
   ]
  },
  {
   "cell_type": "code",
   "execution_count": 20,
   "metadata": {},
   "outputs": [
    {
     "data": {
      "text/plain": [
       "0.06691769706230721"
      ]
     },
     "execution_count": 20,
     "metadata": {},
     "output_type": "execute_result"
    }
   ],
   "source": [
    "regressor.score(x,y)"
   ]
  },
  {
   "cell_type": "code",
   "execution_count": 35,
   "metadata": {},
   "outputs": [],
   "source": [
    "x =(np.array(df['Number']).reshape(-1,1))"
   ]
  },
  {
   "cell_type": "code",
   "execution_count": 36,
   "metadata": {},
   "outputs": [],
   "source": [
    "y =(np.array(df['cbd']).reshape(-1,1))"
   ]
  },
  {
   "cell_type": "code",
   "execution_count": 37,
   "metadata": {},
   "outputs": [],
   "source": [
    "import statsmodels.api as sm"
   ]
  },
  {
   "cell_type": "code",
   "execution_count": 38,
   "metadata": {},
   "outputs": [],
   "source": [
    "x = sm.add_constant(x)"
   ]
  },
  {
   "cell_type": "code",
   "execution_count": 39,
   "metadata": {},
   "outputs": [],
   "source": [
    "model = sm.OLS(y, x)"
   ]
  },
  {
   "cell_type": "code",
   "execution_count": 40,
   "metadata": {},
   "outputs": [],
   "source": [
    "results = model.fit()"
   ]
  },
  {
   "cell_type": "code",
   "execution_count": 41,
   "metadata": {},
   "outputs": [
    {
     "data": {
      "text/html": [
       "<table class=\"simpletable\">\n",
       "<caption>OLS Regression Results</caption>\n",
       "<tr>\n",
       "  <th>Dep. Variable:</th>            <td>y</td>        <th>  R-squared:         </th> <td>   0.053</td>\n",
       "</tr>\n",
       "<tr>\n",
       "  <th>Model:</th>                   <td>OLS</td>       <th>  Adj. R-squared:    </th> <td>   0.043</td>\n",
       "</tr>\n",
       "<tr>\n",
       "  <th>Method:</th>             <td>Least Squares</td>  <th>  F-statistic:       </th> <td>   5.232</td>\n",
       "</tr>\n",
       "<tr>\n",
       "  <th>Date:</th>             <td>Wed, 30 Nov 2022</td> <th>  Prob (F-statistic):</th>  <td>0.0244</td> \n",
       "</tr>\n",
       "<tr>\n",
       "  <th>Time:</th>                 <td>13:18:16</td>     <th>  Log-Likelihood:    </th> <td> -545.22</td>\n",
       "</tr>\n",
       "<tr>\n",
       "  <th>No. Observations:</th>      <td>    96</td>      <th>  AIC:               </th> <td>   1094.</td>\n",
       "</tr>\n",
       "<tr>\n",
       "  <th>Df Residuals:</th>          <td>    94</td>      <th>  BIC:               </th> <td>   1100.</td>\n",
       "</tr>\n",
       "<tr>\n",
       "  <th>Df Model:</th>              <td>     1</td>      <th>                     </th>     <td> </td>   \n",
       "</tr>\n",
       "<tr>\n",
       "  <th>Covariance Type:</th>      <td>nonrobust</td>    <th>                     </th>     <td> </td>   \n",
       "</tr>\n",
       "</table>\n",
       "<table class=\"simpletable\">\n",
       "<tr>\n",
       "    <td></td>       <th>coef</th>     <th>std err</th>      <th>t</th>      <th>P>|t|</th>  <th>[0.025</th>    <th>0.975]</th>  \n",
       "</tr>\n",
       "<tr>\n",
       "  <th>const</th> <td>   12.2253</td> <td>   14.726</td> <td>    0.830</td> <td> 0.409</td> <td>  -17.013</td> <td>   41.464</td>\n",
       "</tr>\n",
       "<tr>\n",
       "  <th>x1</th>    <td>    6.4242</td> <td>    2.809</td> <td>    2.287</td> <td> 0.024</td> <td>    0.848</td> <td>   12.001</td>\n",
       "</tr>\n",
       "</table>\n",
       "<table class=\"simpletable\">\n",
       "<tr>\n",
       "  <th>Omnibus:</th>       <td>56.903</td> <th>  Durbin-Watson:     </th> <td>   2.037</td>\n",
       "</tr>\n",
       "<tr>\n",
       "  <th>Prob(Omnibus):</th> <td> 0.000</td> <th>  Jarque-Bera (JB):  </th> <td> 170.555</td>\n",
       "</tr>\n",
       "<tr>\n",
       "  <th>Skew:</th>          <td> 2.179</td> <th>  Prob(JB):          </th> <td>9.21e-38</td>\n",
       "</tr>\n",
       "<tr>\n",
       "  <th>Kurtosis:</th>      <td> 7.863</td> <th>  Cond. No.          </th> <td>    10.9</td>\n",
       "</tr>\n",
       "</table><br/><br/>Notes:<br/>[1] Standard Errors assume that the covariance matrix of the errors is correctly specified."
      ],
      "text/plain": [
       "<class 'statsmodels.iolib.summary.Summary'>\n",
       "\"\"\"\n",
       "                            OLS Regression Results                            \n",
       "==============================================================================\n",
       "Dep. Variable:                      y   R-squared:                       0.053\n",
       "Model:                            OLS   Adj. R-squared:                  0.043\n",
       "Method:                 Least Squares   F-statistic:                     5.232\n",
       "Date:                Wed, 30 Nov 2022   Prob (F-statistic):             0.0244\n",
       "Time:                        13:18:16   Log-Likelihood:                -545.22\n",
       "No. Observations:                  96   AIC:                             1094.\n",
       "Df Residuals:                      94   BIC:                             1100.\n",
       "Df Model:                           1                                         \n",
       "Covariance Type:            nonrobust                                         \n",
       "==============================================================================\n",
       "                 coef    std err          t      P>|t|      [0.025      0.975]\n",
       "------------------------------------------------------------------------------\n",
       "const         12.2253     14.726      0.830      0.409     -17.013      41.464\n",
       "x1             6.4242      2.809      2.287      0.024       0.848      12.001\n",
       "==============================================================================\n",
       "Omnibus:                       56.903   Durbin-Watson:                   2.037\n",
       "Prob(Omnibus):                  0.000   Jarque-Bera (JB):              170.555\n",
       "Skew:                           2.179   Prob(JB):                     9.21e-38\n",
       "Kurtosis:                       7.863   Cond. No.                         10.9\n",
       "==============================================================================\n",
       "\n",
       "Notes:\n",
       "[1] Standard Errors assume that the covariance matrix of the errors is correctly specified.\n",
       "\"\"\""
      ]
     },
     "execution_count": 41,
     "metadata": {},
     "output_type": "execute_result"
    }
   ],
   "source": [
    "results.summary()"
   ]
  },
  {
   "cell_type": "code",
   "execution_count": 32,
   "metadata": {},
   "outputs": [],
   "source": [
    "# Logistic regression for Gender and mode of administration"
   ]
  },
  {
   "cell_type": "code",
   "execution_count": 33,
   "metadata": {},
   "outputs": [],
   "source": [
    "df = pd.read_excel(r\"C:\\Users\\std03\\Desktop\\New Microsoft Excel Worksheet.xlsx\")"
   ]
  },
  {
   "cell_type": "code",
   "execution_count": 41,
   "metadata": {},
   "outputs": [],
   "source": [
    "df = df.dropna()"
   ]
  },
  {
   "cell_type": "code",
   "execution_count": null,
   "metadata": {},
   "outputs": [],
   "source": []
  },
  {
   "cell_type": "code",
   "execution_count": 34,
   "metadata": {},
   "outputs": [],
   "source": [
    "   from sklearn.linear_model import LogisticRegression\n"
   ]
  },
  {
   "cell_type": "code",
   "execution_count": 35,
   "metadata": {},
   "outputs": [],
   "source": [
    "from sklearn.model_selection import train_test_split"
   ]
  },
  {
   "cell_type": "code",
   "execution_count": 42,
   "metadata": {},
   "outputs": [
    {
     "name": "stderr",
     "output_type": "stream",
     "text": [
      "C:\\Users\\std03\\Anaconda3\\lib\\site-packages\\pandas\\core\\indexing.py:1732: SettingWithCopyWarning: \n",
      "A value is trying to be set on a copy of a slice from a DataFrame\n",
      "\n",
      "See the caveats in the documentation: https://pandas.pydata.org/pandas-docs/stable/user_guide/indexing.html#returning-a-view-versus-a-copy\n",
      "  self._setitem_single_block(indexer, value, name)\n",
      "C:\\Users\\std03\\Anaconda3\\lib\\site-packages\\pandas\\core\\indexing.py:723: SettingWithCopyWarning: \n",
      "A value is trying to be set on a copy of a slice from a DataFrame\n",
      "\n",
      "See the caveats in the documentation: https://pandas.pydata.org/pandas-docs/stable/user_guide/indexing.html#returning-a-view-versus-a-copy\n",
      "  iloc._setitem_with_indexer(indexer, value, self.name)\n"
     ]
    }
   ],
   "source": [
    "df.loc[df['Mode of administration: [Edible]']=='Yes','Mode of administration: [Edible]']=1"
   ]
  },
  {
   "cell_type": "code",
   "execution_count": 43,
   "metadata": {},
   "outputs": [],
   "source": [
    "df.loc[df['Mode of administration: [Edible]']=='No','Mode of administration: [Edible]']=0"
   ]
  },
  {
   "cell_type": "code",
   "execution_count": 44,
   "metadata": {},
   "outputs": [],
   "source": [
    "df.loc[df['What sex were you assigned at birth, meaning on your original birth certificate?']=='Male','What sex were you assigned at birth, meaning on your original birth certificate?']=2"
   ]
  },
  {
   "cell_type": "code",
   "execution_count": 45,
   "metadata": {},
   "outputs": [],
   "source": [
    "df.loc[df['What sex were you assigned at birth, meaning on your original birth certificate?']=='Female','What sex were you assigned at birth, meaning on your original birth certificate?']=1"
   ]
  },
  {
   "cell_type": "code",
   "execution_count": null,
   "metadata": {},
   "outputs": [],
   "source": []
  },
  {
   "cell_type": "code",
   "execution_count": 47,
   "metadata": {},
   "outputs": [],
   "source": [
    "x =(np.array(df[['What sex were you assigned at birth, meaning on your original birth certificate?']]).reshape(-1,1))"
   ]
  },
  {
   "cell_type": "code",
   "execution_count": 48,
   "metadata": {},
   "outputs": [],
   "source": [
    "x = x.astype('int')"
   ]
  },
  {
   "cell_type": "code",
   "execution_count": 49,
   "metadata": {},
   "outputs": [],
   "source": [
    "y=np.array(df[['Mode of administration: [Edible]']]).reshape(-1,1)"
   ]
  },
  {
   "cell_type": "code",
   "execution_count": 50,
   "metadata": {},
   "outputs": [],
   "source": [
    "y=y.astype('int')"
   ]
  },
  {
   "cell_type": "code",
   "execution_count": 51,
   "metadata": {},
   "outputs": [],
   "source": [
    "x_train, x_test, y_train, y_test = train_test_split(x, y, test_size = 0.30, random_state = 0)"
   ]
  },
  {
   "cell_type": "code",
   "execution_count": 52,
   "metadata": {},
   "outputs": [],
   "source": [
    "model = LogisticRegression()"
   ]
  },
  {
   "cell_type": "code",
   "execution_count": 53,
   "metadata": {},
   "outputs": [
    {
     "data": {
      "text/plain": [
       "Mode of administration: [Edible]                                                    object\n",
       "What sex were you assigned at birth, meaning on your original birth certificate?    object\n",
       "dtype: object"
      ]
     },
     "execution_count": 53,
     "metadata": {},
     "output_type": "execute_result"
    }
   ],
   "source": [
    "df.dtypes"
   ]
  },
  {
   "cell_type": "code",
   "execution_count": 54,
   "metadata": {},
   "outputs": [
    {
     "name": "stderr",
     "output_type": "stream",
     "text": [
      "C:\\Users\\std03\\Anaconda3\\lib\\site-packages\\sklearn\\utils\\validation.py:63: DataConversionWarning: A column-vector y was passed when a 1d array was expected. Please change the shape of y to (n_samples, ), for example using ravel().\n",
      "  return f(*args, **kwargs)\n"
     ]
    }
   ],
   "source": [
    "model = model.fit(x_train,y_train)"
   ]
  },
  {
   "cell_type": "code",
   "execution_count": 55,
   "metadata": {},
   "outputs": [
    {
     "data": {
      "text/plain": [
       "array([-0.19107109])"
      ]
     },
     "execution_count": 55,
     "metadata": {},
     "output_type": "execute_result"
    }
   ],
   "source": [
    "model.coef_[0]"
   ]
  },
  {
   "cell_type": "code",
   "execution_count": 56,
   "metadata": {},
   "outputs": [
    {
     "data": {
      "text/plain": [
       "0.556390977443609"
      ]
     },
     "execution_count": 56,
     "metadata": {},
     "output_type": "execute_result"
    }
   ],
   "source": [
    "model.score(x,y)"
   ]
  },
  {
   "cell_type": "code",
   "execution_count": null,
   "metadata": {},
   "outputs": [],
   "source": []
  },
  {
   "cell_type": "code",
   "execution_count": null,
   "metadata": {},
   "outputs": [],
   "source": []
  },
  {
   "cell_type": "code",
   "execution_count": 63,
   "metadata": {},
   "outputs": [],
   "source": [
    "from sklearn.metrics import classification_report, confusion_matrix"
   ]
  },
  {
   "cell_type": "code",
   "execution_count": 64,
   "metadata": {},
   "outputs": [
    {
     "name": "stdout",
     "output_type": "stream",
     "text": [
      "              precision    recall  f1-score   support\n",
      "\n",
      "           0       0.56      1.00      0.71        74\n",
      "           1       0.00      0.00      0.00        59\n",
      "\n",
      "    accuracy                           0.56       133\n",
      "   macro avg       0.28      0.50      0.36       133\n",
      "weighted avg       0.31      0.56      0.40       133\n",
      "\n"
     ]
    },
    {
     "name": "stderr",
     "output_type": "stream",
     "text": [
      "C:\\Users\\std03\\Anaconda3\\lib\\site-packages\\sklearn\\metrics\\_classification.py:1248: UndefinedMetricWarning: Precision and F-score are ill-defined and being set to 0.0 in labels with no predicted samples. Use `zero_division` parameter to control this behavior.\n",
      "  _warn_prf(average, modifier, msg_start, len(result))\n",
      "C:\\Users\\std03\\Anaconda3\\lib\\site-packages\\sklearn\\metrics\\_classification.py:1248: UndefinedMetricWarning: Precision and F-score are ill-defined and being set to 0.0 in labels with no predicted samples. Use `zero_division` parameter to control this behavior.\n",
      "  _warn_prf(average, modifier, msg_start, len(result))\n",
      "C:\\Users\\std03\\Anaconda3\\lib\\site-packages\\sklearn\\metrics\\_classification.py:1248: UndefinedMetricWarning: Precision and F-score are ill-defined and being set to 0.0 in labels with no predicted samples. Use `zero_division` parameter to control this behavior.\n",
      "  _warn_prf(average, modifier, msg_start, len(result))\n"
     ]
    }
   ],
   "source": [
    "print(classification_report(y, model.predict(x)))"
   ]
  },
  {
   "cell_type": "code",
   "execution_count": 121,
   "metadata": {},
   "outputs": [
    {
     "data": {
      "text/plain": [
       "Yes    56\n",
       "No     26\n",
       "Name: chronic pain, dtype: int64"
      ]
     },
     "execution_count": 121,
     "metadata": {},
     "output_type": "execute_result"
    }
   ],
   "source": [
    "vet['chronic pain'].value_counts()"
   ]
  },
  {
   "cell_type": "code",
   "execution_count": 124,
   "metadata": {},
   "outputs": [
    {
     "data": {
      "text/plain": [
       "No     47\n",
       "Yes    35\n",
       "Name: acute pain, dtype: int64"
      ]
     },
     "execution_count": 124,
     "metadata": {},
     "output_type": "execute_result"
    }
   ],
   "source": [
    "vet['acute pain'].value_counts()"
   ]
  },
  {
   "cell_type": "code",
   "execution_count": 122,
   "metadata": {},
   "outputs": [],
   "source": [
    "vet1 = vet[(vet['acute pain']=='Yes') | (vet['chronic pain']=='Yes')]"
   ]
  },
  {
   "cell_type": "code",
   "execution_count": 110,
   "metadata": {},
   "outputs": [],
   "source": [
    "pd.set_option ('display.max_rows', None)"
   ]
  },
  {
   "cell_type": "code",
   "execution_count": 123,
   "metadata": {},
   "outputs": [
    {
     "data": {
      "text/plain": [
       "(70, 4)"
      ]
     },
     "execution_count": 123,
     "metadata": {},
     "output_type": "execute_result"
    }
   ],
   "source": [
    "vet1.shape"
   ]
  },
  {
   "cell_type": "code",
   "execution_count": 131,
   "metadata": {},
   "outputs": [],
   "source": [
    "non_vet2 = non_vet[(non_vet['acute pain']=='Yes') | (non_vet['chronic pain']=='Yes')]"
   ]
  },
  {
   "cell_type": "code",
   "execution_count": 132,
   "metadata": {},
   "outputs": [
    {
     "data": {
      "text/plain": [
       "(41, 4)"
      ]
     },
     "execution_count": 132,
     "metadata": {},
     "output_type": "execute_result"
    }
   ],
   "source": [
    "non_vet2.shape"
   ]
  },
  {
   "cell_type": "code",
   "execution_count": 137,
   "metadata": {},
   "outputs": [],
   "source": [
    "raw_data = {\"1\": [90,58],\n",
    "                \"2\":[70,41]}"
   ]
  },
  {
   "cell_type": "code",
   "execution_count": 138,
   "metadata": {},
   "outputs": [],
   "source": [
    "df = pd.DataFrame(raw_data, columns = [\"1\", \"2\"])"
   ]
  },
  {
   "cell_type": "code",
   "execution_count": 141,
   "metadata": {},
   "outputs": [
    {
     "data": {
      "text/html": [
       "<div>\n",
       "<style scoped>\n",
       "    .dataframe tbody tr th:only-of-type {\n",
       "        vertical-align: middle;\n",
       "    }\n",
       "\n",
       "    .dataframe tbody tr th {\n",
       "        vertical-align: top;\n",
       "    }\n",
       "\n",
       "    .dataframe thead th {\n",
       "        text-align: right;\n",
       "    }\n",
       "</style>\n",
       "<table border=\"1\" class=\"dataframe\">\n",
       "  <thead>\n",
       "    <tr style=\"text-align: right;\">\n",
       "      <th></th>\n",
       "      <th>1</th>\n",
       "      <th>2</th>\n",
       "    </tr>\n",
       "  </thead>\n",
       "  <tbody>\n",
       "    <tr>\n",
       "      <th>0</th>\n",
       "      <td>90</td>\n",
       "      <td>70</td>\n",
       "    </tr>\n",
       "    <tr>\n",
       "      <th>1</th>\n",
       "      <td>58</td>\n",
       "      <td>41</td>\n",
       "    </tr>\n",
       "  </tbody>\n",
       "</table>\n",
       "</div>"
      ],
      "text/plain": [
       "    1   2\n",
       "0  90  70\n",
       "1  58  41"
      ]
     },
     "execution_count": 141,
     "metadata": {},
     "output_type": "execute_result"
    }
   ],
   "source": [
    "df"
   ]
  },
  {
   "cell_type": "code",
   "execution_count": 139,
   "metadata": {},
   "outputs": [],
   "source": [
    "val = stats.chi2_contingency(df)"
   ]
  },
  {
   "cell_type": "code",
   "execution_count": 140,
   "metadata": {},
   "outputs": [
    {
     "data": {
      "text/plain": [
       "(0.05756918139730664,\n",
       " 0.8103800378245234,\n",
       " 1,\n",
       " array([[91.42857143, 68.57142857],\n",
       "        [56.57142857, 42.42857143]]))"
      ]
     },
     "execution_count": 140,
     "metadata": {},
     "output_type": "execute_result"
    }
   ],
   "source": [
    "val"
   ]
  },
  {
   "cell_type": "code",
   "execution_count": 148,
   "metadata": {},
   "outputs": [],
   "source": [
    "df_mean = vet.agg([np.mean, np.std])"
   ]
  },
  {
   "cell_type": "code",
   "execution_count": 149,
   "metadata": {
    "scrolled": true
   },
   "outputs": [
    {
     "data": {
      "text/html": [
       "<div>\n",
       "<style scoped>\n",
       "    .dataframe tbody tr th:only-of-type {\n",
       "        vertical-align: middle;\n",
       "    }\n",
       "\n",
       "    .dataframe tbody tr th {\n",
       "        vertical-align: top;\n",
       "    }\n",
       "\n",
       "    .dataframe thead th {\n",
       "        text-align: right;\n",
       "    }\n",
       "</style>\n",
       "<table border=\"1\" class=\"dataframe\">\n",
       "  <thead>\n",
       "    <tr style=\"text-align: right;\">\n",
       "      <th></th>\n",
       "      <th>How much does cannabis help you with your disease/symptoms?  [Arthritis]</th>\n",
       "      <th>How much does cannabis help you with your disease/symptoms?  [Anxiety or stress]</th>\n",
       "      <th>How much does cannabis help you with your disease/symptoms?  [Depression]</th>\n",
       "      <th>How much does cannabis help you with your disease/symptoms?  [PTSD]</th>\n",
       "      <th>How much does cannabis help you with your disease/symptoms?  [Acute pain (severe or sudden pain that resolves within a certain amount of time)]</th>\n",
       "      <th>How much does cannabis help you with your disease/symptoms?  [Chronic non-cancer pain (persistent pain, lasting for months or even longer)]</th>\n",
       "      <th>How much does cannabis help you with your disease/symptoms?  [Headaches/migraines]</th>\n",
       "      <th>How much does cannabis help you with your disease/symptoms?  [Problems sleeping]</th>\n",
       "      <th>Veteran</th>\n",
       "    </tr>\n",
       "  </thead>\n",
       "  <tbody>\n",
       "    <tr>\n",
       "      <th>mean</th>\n",
       "      <td>7.369565</td>\n",
       "      <td>8.060606</td>\n",
       "      <td>8.042553</td>\n",
       "      <td>8.304348</td>\n",
       "      <td>7.80000</td>\n",
       "      <td>7.490909</td>\n",
       "      <td>7.157895</td>\n",
       "      <td>8.285714</td>\n",
       "      <td>1.234568e+87</td>\n",
       "    </tr>\n",
       "    <tr>\n",
       "      <th>std</th>\n",
       "      <td>1.691268</td>\n",
       "      <td>1.557896</td>\n",
       "      <td>1.601052</td>\n",
       "      <td>1.762190</td>\n",
       "      <td>1.53009</td>\n",
       "      <td>1.884368</td>\n",
       "      <td>1.537066</td>\n",
       "      <td>1.770473</td>\n",
       "      <td>NaN</td>\n",
       "    </tr>\n",
       "  </tbody>\n",
       "</table>\n",
       "</div>"
      ],
      "text/plain": [
       "      How much does cannabis help you with your disease/symptoms?  [Arthritis]  \\\n",
       "mean                                           7.369565                          \n",
       "std                                            1.691268                          \n",
       "\n",
       "      How much does cannabis help you with your disease/symptoms?  [Anxiety or stress]  \\\n",
       "mean                                           8.060606                                  \n",
       "std                                            1.557896                                  \n",
       "\n",
       "      How much does cannabis help you with your disease/symptoms?  [Depression]  \\\n",
       "mean                                           8.042553                           \n",
       "std                                            1.601052                           \n",
       "\n",
       "      How much does cannabis help you with your disease/symptoms?  [PTSD]  \\\n",
       "mean                                           8.304348                     \n",
       "std                                            1.762190                     \n",
       "\n",
       "      How much does cannabis help you with your disease/symptoms?  [Acute pain (severe or sudden pain that resolves within a certain amount of time)]  \\\n",
       "mean                                            7.80000                                                                                                 \n",
       "std                                             1.53009                                                                                                 \n",
       "\n",
       "      How much does cannabis help you with your disease/symptoms?  [Chronic non-cancer pain (persistent pain, lasting for months or even longer)]  \\\n",
       "mean                                           7.490909                                                                                             \n",
       "std                                            1.884368                                                                                             \n",
       "\n",
       "      How much does cannabis help you with your disease/symptoms?  [Headaches/migraines]  \\\n",
       "mean                                           7.157895                                    \n",
       "std                                            1.537066                                    \n",
       "\n",
       "      How much does cannabis help you with your disease/symptoms?  [Problems sleeping]  \\\n",
       "mean                                           8.285714                                  \n",
       "std                                            1.770473                                  \n",
       "\n",
       "           Veteran  \n",
       "mean  1.234568e+87  \n",
       "std            NaN  "
      ]
     },
     "execution_count": 149,
     "metadata": {},
     "output_type": "execute_result"
    }
   ],
   "source": [
    "df_mean"
   ]
  },
  {
   "cell_type": "code",
   "execution_count": 150,
   "metadata": {},
   "outputs": [],
   "source": [
    "df_mean2 = non_vet.agg([np.mean, np.std])"
   ]
  },
  {
   "cell_type": "code",
   "execution_count": 152,
   "metadata": {},
   "outputs": [
    {
     "data": {
      "text/html": [
       "<div>\n",
       "<style scoped>\n",
       "    .dataframe tbody tr th:only-of-type {\n",
       "        vertical-align: middle;\n",
       "    }\n",
       "\n",
       "    .dataframe tbody tr th {\n",
       "        vertical-align: top;\n",
       "    }\n",
       "\n",
       "    .dataframe thead th {\n",
       "        text-align: right;\n",
       "    }\n",
       "</style>\n",
       "<table border=\"1\" class=\"dataframe\">\n",
       "  <thead>\n",
       "    <tr style=\"text-align: right;\">\n",
       "      <th></th>\n",
       "      <th>How much does cannabis help you with your disease/symptoms?  [Arthritis]</th>\n",
       "      <th>How much does cannabis help you with your disease/symptoms?  [Anxiety or stress]</th>\n",
       "      <th>How much does cannabis help you with your disease/symptoms?  [Depression]</th>\n",
       "      <th>How much does cannabis help you with your disease/symptoms?  [PTSD]</th>\n",
       "      <th>How much does cannabis help you with your disease/symptoms?  [Acute pain (severe or sudden pain that resolves within a certain amount of time)]</th>\n",
       "      <th>How much does cannabis help you with your disease/symptoms?  [Chronic non-cancer pain (persistent pain, lasting for months or even longer)]</th>\n",
       "      <th>How much does cannabis help you with your disease/symptoms?  [Headaches/migraines]</th>\n",
       "      <th>How much does cannabis help you with your disease/symptoms?  [Problems sleeping]</th>\n",
       "      <th>Veteran</th>\n",
       "    </tr>\n",
       "  </thead>\n",
       "  <tbody>\n",
       "    <tr>\n",
       "      <th>mean</th>\n",
       "      <td>8.000000</td>\n",
       "      <td>8.421053</td>\n",
       "      <td>8.181818</td>\n",
       "      <td>8.428571</td>\n",
       "      <td>7.769231</td>\n",
       "      <td>7.764706</td>\n",
       "      <td>7.25000</td>\n",
       "      <td>8.074074</td>\n",
       "      <td>3.831418e+55</td>\n",
       "    </tr>\n",
       "    <tr>\n",
       "      <th>std</th>\n",
       "      <td>1.264911</td>\n",
       "      <td>1.426565</td>\n",
       "      <td>1.250454</td>\n",
       "      <td>1.272418</td>\n",
       "      <td>2.047513</td>\n",
       "      <td>1.724315</td>\n",
       "      <td>1.38873</td>\n",
       "      <td>1.662388</td>\n",
       "      <td>NaN</td>\n",
       "    </tr>\n",
       "  </tbody>\n",
       "</table>\n",
       "</div>"
      ],
      "text/plain": [
       "      How much does cannabis help you with your disease/symptoms?  [Arthritis]  \\\n",
       "mean                                           8.000000                          \n",
       "std                                            1.264911                          \n",
       "\n",
       "      How much does cannabis help you with your disease/symptoms?  [Anxiety or stress]  \\\n",
       "mean                                           8.421053                                  \n",
       "std                                            1.426565                                  \n",
       "\n",
       "      How much does cannabis help you with your disease/symptoms?  [Depression]  \\\n",
       "mean                                           8.181818                           \n",
       "std                                            1.250454                           \n",
       "\n",
       "      How much does cannabis help you with your disease/symptoms?  [PTSD]  \\\n",
       "mean                                           8.428571                     \n",
       "std                                            1.272418                     \n",
       "\n",
       "      How much does cannabis help you with your disease/symptoms?  [Acute pain (severe or sudden pain that resolves within a certain amount of time)]  \\\n",
       "mean                                           7.769231                                                                                                 \n",
       "std                                            2.047513                                                                                                 \n",
       "\n",
       "      How much does cannabis help you with your disease/symptoms?  [Chronic non-cancer pain (persistent pain, lasting for months or even longer)]  \\\n",
       "mean                                           7.764706                                                                                             \n",
       "std                                            1.724315                                                                                             \n",
       "\n",
       "      How much does cannabis help you with your disease/symptoms?  [Headaches/migraines]  \\\n",
       "mean                                            7.25000                                    \n",
       "std                                             1.38873                                    \n",
       "\n",
       "      How much does cannabis help you with your disease/symptoms?  [Problems sleeping]  \\\n",
       "mean                                           8.074074                                  \n",
       "std                                            1.662388                                  \n",
       "\n",
       "           Veteran  \n",
       "mean  3.831418e+55  \n",
       "std            NaN  "
      ]
     },
     "execution_count": 152,
     "metadata": {},
     "output_type": "execute_result"
    }
   ],
   "source": [
    "df_mean2"
   ]
  },
  {
   "cell_type": "code",
   "execution_count": null,
   "metadata": {},
   "outputs": [],
   "source": []
  },
  {
   "cell_type": "code",
   "execution_count": 103,
   "metadata": {},
   "outputs": [
    {
     "data": {
      "text/plain": [
       "No     47\n",
       "Yes    35\n",
       "Name: acute pain, dtype: int64"
      ]
     },
     "execution_count": 103,
     "metadata": {},
     "output_type": "execute_result"
    }
   ],
   "source": [
    "vet['acute pain'].value_counts()"
   ]
  },
  {
   "cell_type": "code",
   "execution_count": 9,
   "metadata": {},
   "outputs": [
    {
     "data": {
      "text/plain": [
       "No     47\n",
       "Yes    35\n",
       "Name: For which of the following symptoms do you use cannabis for medical purposes? [Acute pain (severe or sudden pain that resolves within a certain amount of time)], dtype: int64"
      ]
     },
     "execution_count": 9,
     "metadata": {},
     "output_type": "execute_result"
    }
   ],
   "source": [
    "vet['For which of the following symptoms do you use cannabis for medical purposes? [Acute pain (severe or sudden pain that resolves within a certain amount of time)]'].value_counts()"
   ]
  },
  {
   "cell_type": "code",
   "execution_count": 10,
   "metadata": {},
   "outputs": [
    {
     "data": {
      "text/plain": [
       "No     39\n",
       "Yes    13\n",
       "Name: For which of the following symptoms do you use cannabis for medical purposes? [Acute pain (severe or sudden pain that resolves within a certain amount of time)], dtype: int64"
      ]
     },
     "execution_count": 10,
     "metadata": {},
     "output_type": "execute_result"
    }
   ],
   "source": [
    "non_vet['For which of the following symptoms do you use cannabis for medical purposes? [Acute pain (severe or sudden pain that resolves within a certain amount of time)]'].value_counts()"
   ]
  },
  {
   "cell_type": "code",
   "execution_count": 28,
   "metadata": {},
   "outputs": [],
   "source": [
    "import scipy.stats as stats"
   ]
  },
  {
   "cell_type": "code",
   "execution_count": 12,
   "metadata": {},
   "outputs": [],
   "source": [
    "df_table = pd.crosstab(df['Veteran'],df['For which of the following symptoms do you use cannabis for medical purposes? [Acute pain (severe or sudden pain that resolves within a certain amount of time)]'])"
   ]
  },
  {
   "cell_type": "code",
   "execution_count": 14,
   "metadata": {},
   "outputs": [],
   "source": [
    "val = stats.chi2_contingency(df_table)"
   ]
  },
  {
   "cell_type": "code",
   "execution_count": 15,
   "metadata": {},
   "outputs": [
    {
     "data": {
      "text/plain": [
       "(3.5930345046686143,\n",
       " 0.05802220285169471,\n",
       " 1,\n",
       " array([[33.37313433, 18.62686567],\n",
       "        [52.62686567, 29.37313433]]))"
      ]
     },
     "execution_count": 15,
     "metadata": {},
     "output_type": "execute_result"
    }
   ],
   "source": [
    "val"
   ]
  },
  {
   "cell_type": "code",
   "execution_count": 16,
   "metadata": {},
   "outputs": [
    {
     "data": {
      "text/plain": [
       "No     62\n",
       "Yes    20\n",
       "Name: For which of the following symptoms do you use cannabis for medical purposes? [Headaches/migraines], dtype: int64"
      ]
     },
     "execution_count": 16,
     "metadata": {},
     "output_type": "execute_result"
    }
   ],
   "source": [
    "vet['For which of the following symptoms do you use cannabis for medical purposes? [Headaches/migraines]'].value_counts()"
   ]
  },
  {
   "cell_type": "code",
   "execution_count": 17,
   "metadata": {},
   "outputs": [
    {
     "data": {
      "text/plain": [
       "No     44\n",
       "Yes     8\n",
       "Name: For which of the following symptoms do you use cannabis for medical purposes? [Headaches/migraines], dtype: int64"
      ]
     },
     "execution_count": 17,
     "metadata": {},
     "output_type": "execute_result"
    }
   ],
   "source": [
    "non_vet['For which of the following symptoms do you use cannabis for medical purposes? [Headaches/migraines]'].value_counts()"
   ]
  },
  {
   "cell_type": "code",
   "execution_count": 18,
   "metadata": {},
   "outputs": [],
   "source": [
    "df_table = pd.crosstab(df['Veteran'],df['For which of the following symptoms do you use cannabis for medical purposes? [Headaches/migraines]'])"
   ]
  },
  {
   "cell_type": "code",
   "execution_count": 20,
   "metadata": {},
   "outputs": [],
   "source": [
    "val = stats.chi2_contingency(df_table)"
   ]
  },
  {
   "cell_type": "code",
   "execution_count": 21,
   "metadata": {},
   "outputs": [
    {
     "data": {
      "text/plain": [
       "(1.0640014753998877,\n",
       " 0.3023043122669397,\n",
       " 1,\n",
       " array([[41.13432836, 10.86567164],\n",
       "        [64.86567164, 17.13432836]]))"
      ]
     },
     "execution_count": 21,
     "metadata": {},
     "output_type": "execute_result"
    }
   ],
   "source": [
    "val"
   ]
  },
  {
   "cell_type": "code",
   "execution_count": 10,
   "metadata": {},
   "outputs": [],
   "source": [
    "### We have 90 veterans and 58 non veterans"
   ]
  },
  {
   "cell_type": "code",
   "execution_count": 12,
   "metadata": {},
   "outputs": [
    {
     "data": {
      "text/plain": [
       "Yes    79\n",
       "No     11\n",
       "Name: Do you have pain that is always present? , dtype: int64"
      ]
     },
     "execution_count": 12,
     "metadata": {},
     "output_type": "execute_result"
    }
   ],
   "source": [
    "vet['Do you have pain that is always present? '].value_counts()"
   ]
  },
  {
   "cell_type": "code",
   "execution_count": 13,
   "metadata": {},
   "outputs": [
    {
     "data": {
      "text/plain": [
       "Yes    42\n",
       "No     14\n",
       "Name: Do you have pain that is always present? , dtype: int64"
      ]
     },
     "execution_count": 13,
     "metadata": {},
     "output_type": "execute_result"
    }
   ],
   "source": [
    "non_vet['Do you have pain that is always present? '].value_counts()"
   ]
  },
  {
   "cell_type": "code",
   "execution_count": 14,
   "metadata": {},
   "outputs": [],
   "source": [
    "import scipy.stats as stats"
   ]
  },
  {
   "cell_type": "code",
   "execution_count": 19,
   "metadata": {},
   "outputs": [],
   "source": [
    "df_table = pd.crosstab(df['Veteran'],df['Do you have pain that is always present? '])"
   ]
  },
  {
   "cell_type": "code",
   "execution_count": 20,
   "metadata": {},
   "outputs": [],
   "source": [
    "val = stats.chi2_contingency(df_table)"
   ]
  },
  {
   "cell_type": "code",
   "execution_count": 21,
   "metadata": {},
   "outputs": [
    {
     "data": {
      "text/plain": [
       "(3.1222606585333876,\n",
       " 0.0772295713864387,\n",
       " 1,\n",
       " array([[ 9.5890411, 46.4109589],\n",
       "        [15.4109589, 74.5890411]]))"
      ]
     },
     "execution_count": 21,
     "metadata": {},
     "output_type": "execute_result"
    }
   ],
   "source": [
    "val"
   ]
  },
  {
   "cell_type": "code",
   "execution_count": 22,
   "metadata": {},
   "outputs": [],
   "source": [
    "### p value between vets and non vets regarding pain is 0.07"
   ]
  },
  {
   "cell_type": "code",
   "execution_count": 23,
   "metadata": {},
   "outputs": [
    {
     "data": {
      "text/plain": [
       "Yes    72\n",
       "No     10\n",
       "Name: For which of the following symptoms do you use cannabis for medical purposes? [Problems sleeping], dtype: int64"
      ]
     },
     "execution_count": 23,
     "metadata": {},
     "output_type": "execute_result"
    }
   ],
   "source": [
    "vet['For which of the following symptoms do you use cannabis for medical purposes? [Problems sleeping]'].value_counts()"
   ]
  },
  {
   "cell_type": "code",
   "execution_count": 24,
   "metadata": {},
   "outputs": [
    {
     "data": {
      "text/plain": [
       "Yes    27\n",
       "No     25\n",
       "Name: For which of the following symptoms do you use cannabis for medical purposes? [Problems sleeping], dtype: int64"
      ]
     },
     "execution_count": 24,
     "metadata": {},
     "output_type": "execute_result"
    }
   ],
   "source": [
    "non_vet['For which of the following symptoms do you use cannabis for medical purposes? [Problems sleeping]'].value_counts()"
   ]
  },
  {
   "cell_type": "code",
   "execution_count": 25,
   "metadata": {},
   "outputs": [],
   "source": [
    "df_table = pd.crosstab(df['Veteran'],df['For which of the following symptoms do you use cannabis for medical purposes? [Problems sleeping]'])"
   ]
  },
  {
   "cell_type": "code",
   "execution_count": 26,
   "metadata": {},
   "outputs": [],
   "source": [
    "val = stats.chi2_contingency(df_table)"
   ]
  },
  {
   "cell_type": "code",
   "execution_count": 27,
   "metadata": {},
   "outputs": [
    {
     "data": {
      "text/plain": [
       "(19.412122159683136,\n",
       " 1.0533632715132212e-05,\n",
       " 1,\n",
       " array([[13.58208955, 38.41791045],\n",
       "        [21.41791045, 60.58208955]]))"
      ]
     },
     "execution_count": 27,
     "metadata": {},
     "output_type": "execute_result"
    }
   ],
   "source": [
    "val"
   ]
  },
  {
   "cell_type": "code",
   "execution_count": 29,
   "metadata": {},
   "outputs": [],
   "source": [
    "### p-value for sleeping problems 0.0001"
   ]
  },
  {
   "cell_type": "code",
   "execution_count": 33,
   "metadata": {},
   "outputs": [
    {
     "data": {
      "text/plain": [
       "Yes    46\n",
       "No     36\n",
       "Name: I currently use medical cannabis for the following conditions: [PTSD], dtype: int64"
      ]
     },
     "execution_count": 33,
     "metadata": {},
     "output_type": "execute_result"
    }
   ],
   "source": [
    "vet['I currently use medical cannabis for the following conditions: [PTSD]'].value_counts()"
   ]
  },
  {
   "cell_type": "code",
   "execution_count": 34,
   "metadata": {},
   "outputs": [
    {
     "data": {
      "text/plain": [
       "No     45\n",
       "Yes     7\n",
       "Name: I currently use medical cannabis for the following conditions: [PTSD], dtype: int64"
      ]
     },
     "execution_count": 34,
     "metadata": {},
     "output_type": "execute_result"
    }
   ],
   "source": [
    "non_vet['I currently use medical cannabis for the following conditions: [PTSD]'].value_counts()"
   ]
  },
  {
   "cell_type": "code",
   "execution_count": 35,
   "metadata": {},
   "outputs": [],
   "source": [
    "df_table = pd.crosstab(df['Veteran'],df['I currently use medical cannabis for the following conditions: [PTSD]'])"
   ]
  },
  {
   "cell_type": "code",
   "execution_count": 36,
   "metadata": {},
   "outputs": [],
   "source": [
    "val = stats.chi2_contingency(df_table)"
   ]
  },
  {
   "cell_type": "code",
   "execution_count": 37,
   "metadata": {},
   "outputs": [
    {
     "data": {
      "text/plain": [
       "(22.44393519447209,\n",
       " 2.163675964488582e-06,\n",
       " 1,\n",
       " array([[31.43283582, 20.56716418],\n",
       "        [49.56716418, 32.43283582]]))"
      ]
     },
     "execution_count": 37,
     "metadata": {},
     "output_type": "execute_result"
    }
   ],
   "source": [
    "val"
   ]
  },
  {
   "cell_type": "code",
   "execution_count": 38,
   "metadata": {},
   "outputs": [],
   "source": [
    "### p value for PTSD 0.000002"
   ]
  },
  {
   "cell_type": "code",
   "execution_count": 39,
   "metadata": {},
   "outputs": [
    {
     "data": {
      "text/plain": [
       "Yes    47\n",
       "No     35\n",
       "Name: I currently use medical cannabis for the following conditions: [Depression], dtype: int64"
      ]
     },
     "execution_count": 39,
     "metadata": {},
     "output_type": "execute_result"
    }
   ],
   "source": [
    "vet['I currently use medical cannabis for the following conditions: [Depression]'].value_counts()"
   ]
  },
  {
   "cell_type": "code",
   "execution_count": 40,
   "metadata": {},
   "outputs": [
    {
     "data": {
      "text/plain": [
       "No     41\n",
       "Yes    11\n",
       "Name: I currently use medical cannabis for the following conditions: [Depression], dtype: int64"
      ]
     },
     "execution_count": 40,
     "metadata": {},
     "output_type": "execute_result"
    }
   ],
   "source": [
    "non_vet['I currently use medical cannabis for the following conditions: [Depression]'].value_counts()"
   ]
  },
  {
   "cell_type": "code",
   "execution_count": 41,
   "metadata": {},
   "outputs": [],
   "source": [
    "df_table = pd.crosstab(df['Veteran'],df['I currently use medical cannabis for the following conditions: [Depression]'])"
   ]
  },
  {
   "cell_type": "code",
   "execution_count": 42,
   "metadata": {},
   "outputs": [],
   "source": [
    "val = stats.chi2_contingency(df_table)"
   ]
  },
  {
   "cell_type": "code",
   "execution_count": 43,
   "metadata": {},
   "outputs": [
    {
     "data": {
      "text/plain": [
       "(15.510652110438805,\n",
       " 8.204162863502927e-05,\n",
       " 1,\n",
       " array([[29.49253731, 22.50746269],\n",
       "        [46.50746269, 35.49253731]]))"
      ]
     },
     "execution_count": 43,
     "metadata": {},
     "output_type": "execute_result"
    }
   ],
   "source": [
    "val"
   ]
  },
  {
   "cell_type": "code",
   "execution_count": 44,
   "metadata": {},
   "outputs": [],
   "source": [
    "### p value for depression 0.00008"
   ]
  },
  {
   "cell_type": "code",
   "execution_count": 45,
   "metadata": {},
   "outputs": [
    {
     "data": {
      "text/plain": [
       "Yes    66\n",
       "No     16\n",
       "Name: I currently use medical cannabis for the following conditions: [Anxiety or stress], dtype: int64"
      ]
     },
     "execution_count": 45,
     "metadata": {},
     "output_type": "execute_result"
    }
   ],
   "source": [
    "vet['I currently use medical cannabis for the following conditions: [Anxiety or stress]'].value_counts()"
   ]
  },
  {
   "cell_type": "code",
   "execution_count": 46,
   "metadata": {},
   "outputs": [
    {
     "data": {
      "text/plain": [
       "No     33\n",
       "Yes    19\n",
       "Name: I currently use medical cannabis for the following conditions: [Anxiety or stress], dtype: int64"
      ]
     },
     "execution_count": 46,
     "metadata": {},
     "output_type": "execute_result"
    }
   ],
   "source": [
    "non_vet['I currently use medical cannabis for the following conditions: [Anxiety or stress]'].value_counts()"
   ]
  },
  {
   "cell_type": "code",
   "execution_count": 47,
   "metadata": {},
   "outputs": [],
   "source": [
    "df_table = pd.crosstab(df['Veteran'],df['I currently use medical cannabis for the following conditions: [Anxiety or stress]'])"
   ]
  },
  {
   "cell_type": "code",
   "execution_count": 48,
   "metadata": {},
   "outputs": [],
   "source": [
    "val = stats.chi2_contingency(df_table)"
   ]
  },
  {
   "cell_type": "code",
   "execution_count": 49,
   "metadata": {},
   "outputs": [
    {
     "data": {
      "text/plain": [
       "(24.637061165929794,\n",
       " 6.920785916158454e-07,\n",
       " 1,\n",
       " array([[19.01492537, 32.98507463],\n",
       "        [29.98507463, 52.01492537]]))"
      ]
     },
     "execution_count": 49,
     "metadata": {},
     "output_type": "execute_result"
    }
   ],
   "source": [
    "val"
   ]
  },
  {
   "cell_type": "code",
   "execution_count": 50,
   "metadata": {},
   "outputs": [
    {
     "data": {
      "text/plain": [
       "Yes    46\n",
       "No     36\n",
       "Name: I currently use medical cannabis for the following conditions: [Arthritis], dtype: int64"
      ]
     },
     "execution_count": 50,
     "metadata": {},
     "output_type": "execute_result"
    }
   ],
   "source": [
    "vet['I currently use medical cannabis for the following conditions: [Arthritis]'].value_counts()"
   ]
  },
  {
   "cell_type": "code",
   "execution_count": 51,
   "metadata": {},
   "outputs": [
    {
     "data": {
      "text/plain": [
       "No     41\n",
       "Yes    11\n",
       "Name: I currently use medical cannabis for the following conditions: [Arthritis], dtype: int64"
      ]
     },
     "execution_count": 51,
     "metadata": {},
     "output_type": "execute_result"
    }
   ],
   "source": [
    "non_vet['I currently use medical cannabis for the following conditions: [Arthritis]'].value_counts()"
   ]
  },
  {
   "cell_type": "code",
   "execution_count": 52,
   "metadata": {},
   "outputs": [],
   "source": [
    "df_table = pd.crosstab(df['Veteran'],df['I currently use medical cannabis for the following conditions: [Arthritis]'])"
   ]
  },
  {
   "cell_type": "code",
   "execution_count": 53,
   "metadata": {},
   "outputs": [],
   "source": [
    "val = stats.chi2_contingency(df_table)"
   ]
  },
  {
   "cell_type": "code",
   "execution_count": 54,
   "metadata": {},
   "outputs": [
    {
     "data": {
      "text/plain": [
       "(14.498792072283727,\n",
       " 0.0001402494452227659,\n",
       " 1,\n",
       " array([[29.88059701, 22.11940299],\n",
       "        [47.11940299, 34.88059701]]))"
      ]
     },
     "execution_count": 54,
     "metadata": {},
     "output_type": "execute_result"
    }
   ],
   "source": [
    "val"
   ]
  },
  {
   "cell_type": "code",
   "execution_count": 55,
   "metadata": {},
   "outputs": [],
   "source": [
    "### p value for arthritis 0.0001"
   ]
  },
  {
   "cell_type": "code",
   "execution_count": 68,
   "metadata": {},
   "outputs": [
    {
     "data": {
      "text/plain": [
       "49.01551724137931"
      ]
     },
     "execution_count": 68,
     "metadata": {},
     "output_type": "execute_result"
    }
   ],
   "source": [
    "vet['Daily amount used currently (choose what applies): [CBD (mg/day)]'].mean()"
   ]
  },
  {
   "cell_type": "code",
   "execution_count": 76,
   "metadata": {},
   "outputs": [],
   "source": [
    "d = vet['Daily amount used currently (choose what applies): [CBD (mg/day)]'].dropna()"
   ]
  },
  {
   "cell_type": "code",
   "execution_count": 77,
   "metadata": {},
   "outputs": [
    {
     "data": {
      "text/plain": [
       "2      100.0\n",
       "3        2.0\n",
       "6        0.0\n",
       "7       18.0\n",
       "9       25.0\n",
       "10      10.0\n",
       "11       2.0\n",
       "12       2.5\n",
       "13       2.0\n",
       "14      60.0\n",
       "15     240.0\n",
       "16       1.0\n",
       "17     170.0\n",
       "18      50.0\n",
       "25       2.0\n",
       "26       5.0\n",
       "28      40.0\n",
       "30      15.0\n",
       "32      10.0\n",
       "34      40.0\n",
       "35       2.0\n",
       "36       7.0\n",
       "37      20.0\n",
       "38       0.3\n",
       "39      45.0\n",
       "44      60.0\n",
       "46      40.0\n",
       "47       2.0\n",
       "50      20.0\n",
       "51       1.0\n",
       "53     180.0\n",
       "54      15.0\n",
       "63      15.0\n",
       "71       1.0\n",
       "76      60.0\n",
       "78       7.0\n",
       "81       4.0\n",
       "82     250.0\n",
       "87     350.0\n",
       "91     153.5\n",
       "99       1.0\n",
       "103      0.1\n",
       "105    120.0\n",
       "107    300.0\n",
       "113     16.0\n",
       "116      6.5\n",
       "120      3.0\n",
       "121      1.0\n",
       "123      0.5\n",
       "129      3.0\n",
       "130     10.0\n",
       "131      2.0\n",
       "132    300.0\n",
       "135     12.0\n",
       "136      1.5\n",
       "138     10.0\n",
       "140      9.0\n",
       "145     20.0\n",
       "Name: Daily amount used currently (choose what applies): [CBD (mg/day)], dtype: float64"
      ]
     },
     "execution_count": 77,
     "metadata": {},
     "output_type": "execute_result"
    }
   ],
   "source": [
    "d"
   ]
  },
  {
   "cell_type": "code",
   "execution_count": 78,
   "metadata": {},
   "outputs": [],
   "source": [
    "k = non_vet['Daily amount used currently (choose what applies): [CBD (mg/day)]'].dropna()"
   ]
  },
  {
   "cell_type": "code",
   "execution_count": 79,
   "metadata": {},
   "outputs": [],
   "source": [
    "from scipy.stats import ttest_ind"
   ]
  },
  {
   "cell_type": "code",
   "execution_count": 80,
   "metadata": {},
   "outputs": [
    {
     "data": {
      "text/plain": [
       "Ttest_indResult(statistic=1.2522693001145973, pvalue=0.21357853094156637)"
      ]
     },
     "execution_count": 80,
     "metadata": {},
     "output_type": "execute_result"
    }
   ],
   "source": [
    "ttest_ind(d,k)"
   ]
  },
  {
   "cell_type": "code",
   "execution_count": 81,
   "metadata": {},
   "outputs": [],
   "source": [
    "### p values for THC and CBD 0.38 and 0.21 accordingly"
   ]
  },
  {
   "cell_type": "code",
   "execution_count": 83,
   "metadata": {},
   "outputs": [
    {
     "data": {
      "text/plain": [
       "More than once daily     33\n",
       "Daily or almost daily    14\n",
       "1-2 days / week           2\n",
       "3-4 days per week         2\n",
       "2-3 days / month          1\n",
       "Name: Frequency of use:, dtype: int64"
      ]
     },
     "execution_count": 83,
     "metadata": {},
     "output_type": "execute_result"
    }
   ],
   "source": [
    "non_vet['Frequency of use:'].value_counts()"
   ]
  },
  {
   "cell_type": "code",
   "execution_count": 85,
   "metadata": {},
   "outputs": [
    {
     "data": {
      "text/plain": [
       "3 - 4 years     17\n",
       "1 - 2 years     15\n",
       "< 1 year        13\n",
       "5 - 10 years     4\n",
       "> 10 years       3\n",
       "Name: How long have you used medical cannabis?, dtype: int64"
      ]
     },
     "execution_count": 85,
     "metadata": {},
     "output_type": "execute_result"
    }
   ],
   "source": [
    "non_vet['How long have you used medical cannabis?'].value_counts()"
   ]
  },
  {
   "cell_type": "code",
   "execution_count": 86,
   "metadata": {},
   "outputs": [
    {
     "data": {
      "text/plain": [
       "Yes    46\n",
       "No     36\n",
       "Name: Mode of administration: [Edible], dtype: int64"
      ]
     },
     "execution_count": 86,
     "metadata": {},
     "output_type": "execute_result"
    }
   ],
   "source": [
    "vet['Mode of administration: [Edible]'].value_counts()"
   ]
  },
  {
   "cell_type": "code",
   "execution_count": 90,
   "metadata": {},
   "outputs": [
    {
     "data": {
      "text/plain": [
       "No     39\n",
       "Yes    13\n",
       "Name: Mode of administration: [Edible], dtype: int64"
      ]
     },
     "execution_count": 90,
     "metadata": {},
     "output_type": "execute_result"
    }
   ],
   "source": [
    "non_vet['Mode of administration: [Edible]'].value_counts()"
   ]
  },
  {
   "cell_type": "code",
   "execution_count": null,
   "metadata": {},
   "outputs": [],
   "source": []
  },
  {
   "cell_type": "code",
   "execution_count": 87,
   "metadata": {},
   "outputs": [],
   "source": [
    "df_table = pd.crosstab(df['Veteran'],df['Mode of administration: [Edible]'])"
   ]
  },
  {
   "cell_type": "code",
   "execution_count": 88,
   "metadata": {},
   "outputs": [],
   "source": [
    "val = stats.chi2_contingency(df_table)"
   ]
  },
  {
   "cell_type": "code",
   "execution_count": 89,
   "metadata": {},
   "outputs": [
    {
     "data": {
      "text/plain": [
       "(11.257080908618738,\n",
       " 0.0007931985046722542,\n",
       " 1,\n",
       " array([[29.10447761, 22.89552239],\n",
       "        [45.89552239, 36.10447761]]))"
      ]
     },
     "execution_count": 89,
     "metadata": {},
     "output_type": "execute_result"
    }
   ],
   "source": [
    "val"
   ]
  },
  {
   "cell_type": "code",
   "execution_count": 91,
   "metadata": {},
   "outputs": [],
   "source": [
    "### p value for edibles 0.0007"
   ]
  },
  {
   "cell_type": "code",
   "execution_count": 92,
   "metadata": {},
   "outputs": [
    {
     "data": {
      "text/plain": [
       "Yes    56\n",
       "No     26\n",
       "Name: Mode of administration: [Oil], dtype: int64"
      ]
     },
     "execution_count": 92,
     "metadata": {},
     "output_type": "execute_result"
    }
   ],
   "source": [
    "vet['Mode of administration: [Oil]'].value_counts()"
   ]
  },
  {
   "cell_type": "code",
   "execution_count": 93,
   "metadata": {},
   "outputs": [
    {
     "data": {
      "text/plain": [
       "Yes    35\n",
       "No     17\n",
       "Name: Mode of administration: [Oil], dtype: int64"
      ]
     },
     "execution_count": 93,
     "metadata": {},
     "output_type": "execute_result"
    }
   ],
   "source": [
    "non_vet['Mode of administration: [Oil]'].value_counts()"
   ]
  },
  {
   "cell_type": "code",
   "execution_count": 94,
   "metadata": {},
   "outputs": [],
   "source": [
    "df_table = pd.crosstab(df['Veteran'],df['Mode of administration: [Oil]'])"
   ]
  },
  {
   "cell_type": "code",
   "execution_count": 95,
   "metadata": {},
   "outputs": [],
   "source": [
    "val = stats.chi2_contingency(df_table)"
   ]
  },
  {
   "cell_type": "code",
   "execution_count": 96,
   "metadata": {},
   "outputs": [
    {
     "data": {
      "text/plain": [
       "(0.005019468946778187,\n",
       " 0.9435185616783388,\n",
       " 1,\n",
       " array([[16.68656716, 35.31343284],\n",
       "        [26.31343284, 55.68656716]]))"
      ]
     },
     "execution_count": 96,
     "metadata": {},
     "output_type": "execute_result"
    }
   ],
   "source": [
    "val"
   ]
  },
  {
   "cell_type": "code",
   "execution_count": 100,
   "metadata": {},
   "outputs": [
    {
     "data": {
      "text/plain": [
       "No     45\n",
       "Yes     7\n",
       "Name: Mode of administration: [Smoked], dtype: int64"
      ]
     },
     "execution_count": 100,
     "metadata": {},
     "output_type": "execute_result"
    }
   ],
   "source": [
    "non_vet['Mode of administration: [Smoked]'].value_counts()"
   ]
  },
  {
   "cell_type": "code",
   "execution_count": 101,
   "metadata": {},
   "outputs": [],
   "source": [
    "df_table = pd.crosstab(df['Veteran'],df['Mode of administration: [Tincture]'])"
   ]
  },
  {
   "cell_type": "code",
   "execution_count": 102,
   "metadata": {},
   "outputs": [],
   "source": [
    "val = stats.chi2_contingency(df_table)"
   ]
  },
  {
   "cell_type": "code",
   "execution_count": 103,
   "metadata": {},
   "outputs": [
    {
     "data": {
      "text/plain": [
       "(2.793412549510299e-05,\n",
       " 0.9957829807888753,\n",
       " 1,\n",
       " array([[48.50746269,  3.49253731],\n",
       "        [76.49253731,  5.50746269]]))"
      ]
     },
     "execution_count": 103,
     "metadata": {},
     "output_type": "execute_result"
    }
   ],
   "source": [
    "val"
   ]
  },
  {
   "cell_type": "code",
   "execution_count": 105,
   "metadata": {},
   "outputs": [
    {
     "data": {
      "text/plain": [
       "No     37\n",
       "Yes    15\n",
       "Name: Mode of administration: [Vaporized], dtype: int64"
      ]
     },
     "execution_count": 105,
     "metadata": {},
     "output_type": "execute_result"
    }
   ],
   "source": [
    "non_vet['Mode of administration: [Vaporized]'].value_counts()"
   ]
  },
  {
   "cell_type": "code",
   "execution_count": 106,
   "metadata": {},
   "outputs": [],
   "source": [
    "df_table = pd.crosstab(df['Veteran'],df['Mode of administration: [Vaporized]'])"
   ]
  },
  {
   "cell_type": "code",
   "execution_count": 107,
   "metadata": {},
   "outputs": [],
   "source": [
    "val = stats.chi2_contingency(df_table)"
   ]
  },
  {
   "cell_type": "code",
   "execution_count": 108,
   "metadata": {},
   "outputs": [
    {
     "data": {
      "text/plain": [
       "(3.8872154254395115,\n",
       " 0.04865503034641255,\n",
       " 1,\n",
       " array([[31.04477612, 20.95522388],\n",
       "        [48.95522388, 33.04477612]]))"
      ]
     },
     "execution_count": 108,
     "metadata": {},
     "output_type": "execute_result"
    }
   ],
   "source": [
    "val"
   ]
  },
  {
   "cell_type": "code",
   "execution_count": 110,
   "metadata": {},
   "outputs": [
    {
     "data": {
      "text/plain": [
       "No     49\n",
       "Yes     3\n",
       "Name: Mode of administration: [Topical], dtype: int64"
      ]
     },
     "execution_count": 110,
     "metadata": {},
     "output_type": "execute_result"
    }
   ],
   "source": [
    "non_vet['Mode of administration: [Topical]'].value_counts()"
   ]
  },
  {
   "cell_type": "code",
   "execution_count": 111,
   "metadata": {},
   "outputs": [],
   "source": [
    "df_table = pd.crosstab(df['Veteran'],df['Mode of administration: [Topical]'])"
   ]
  },
  {
   "cell_type": "code",
   "execution_count": 112,
   "metadata": {},
   "outputs": [],
   "source": [
    "val = stats.chi2_contingency(df_table)"
   ]
  },
  {
   "cell_type": "code",
   "execution_count": 113,
   "metadata": {},
   "outputs": [
    {
     "data": {
      "text/plain": [
       "(1.2548096466541585,\n",
       " 0.2626358451202223,\n",
       " 1,\n",
       " array([[46.56716418,  5.43283582],\n",
       "        [73.43283582,  8.56716418]]))"
      ]
     },
     "execution_count": 113,
     "metadata": {},
     "output_type": "execute_result"
    }
   ],
   "source": [
    "val"
   ]
  },
  {
   "cell_type": "code",
   "execution_count": 9,
   "metadata": {},
   "outputs": [],
   "source": [
    "### p value for edible 0.0007 and for vaporized 0.048"
   ]
  },
  {
   "cell_type": "code",
   "execution_count": 9,
   "metadata": {},
   "outputs": [],
   "source": [
    "### For hom many conditions do Veterans use MC"
   ]
  },
  {
   "cell_type": "code",
   "execution_count": 18,
   "metadata": {},
   "outputs": [],
   "source": [
    "df = pd.read_excel(r\"C:\\Users\\User\\Desktop\\efficacy.xlsx\")"
   ]
  },
  {
   "cell_type": "code",
   "execution_count": 19,
   "metadata": {},
   "outputs": [
    {
     "data": {
      "text/html": [
       "<div>\n",
       "<style scoped>\n",
       "    .dataframe tbody tr th:only-of-type {\n",
       "        vertical-align: middle;\n",
       "    }\n",
       "\n",
       "    .dataframe tbody tr th {\n",
       "        vertical-align: top;\n",
       "    }\n",
       "\n",
       "    .dataframe thead th {\n",
       "        text-align: right;\n",
       "    }\n",
       "</style>\n",
       "<table border=\"1\" class=\"dataframe\">\n",
       "  <thead>\n",
       "    <tr style=\"text-align: right;\">\n",
       "      <th></th>\n",
       "      <th>Arthritis</th>\n",
       "      <th>Anxiety</th>\n",
       "      <th>Depression</th>\n",
       "      <th>PTSD</th>\n",
       "      <th>pain</th>\n",
       "      <th>Problems sleeping</th>\n",
       "      <th>I am a</th>\n",
       "    </tr>\n",
       "  </thead>\n",
       "  <tbody>\n",
       "    <tr>\n",
       "      <th>0</th>\n",
       "      <td>NaN</td>\n",
       "      <td>NaN</td>\n",
       "      <td>NaN</td>\n",
       "      <td>NaN</td>\n",
       "      <td>NaN</td>\n",
       "      <td>NaN</td>\n",
       "      <td>2</td>\n",
       "    </tr>\n",
       "    <tr>\n",
       "      <th>1</th>\n",
       "      <td>No</td>\n",
       "      <td>No</td>\n",
       "      <td>No</td>\n",
       "      <td>No</td>\n",
       "      <td>Yes</td>\n",
       "      <td>No</td>\n",
       "      <td>2</td>\n",
       "    </tr>\n",
       "    <tr>\n",
       "      <th>2</th>\n",
       "      <td>No</td>\n",
       "      <td>Yes</td>\n",
       "      <td>No</td>\n",
       "      <td>Yes</td>\n",
       "      <td>Yes</td>\n",
       "      <td>Yes</td>\n",
       "      <td>1</td>\n",
       "    </tr>\n",
       "    <tr>\n",
       "      <th>3</th>\n",
       "      <td>No</td>\n",
       "      <td>No</td>\n",
       "      <td>No</td>\n",
       "      <td>No</td>\n",
       "      <td>Yes</td>\n",
       "      <td>Yes</td>\n",
       "      <td>1</td>\n",
       "    </tr>\n",
       "    <tr>\n",
       "      <th>4</th>\n",
       "      <td>No</td>\n",
       "      <td>Yes</td>\n",
       "      <td>No</td>\n",
       "      <td>Yes</td>\n",
       "      <td>Yes</td>\n",
       "      <td>Yes</td>\n",
       "      <td>2</td>\n",
       "    </tr>\n",
       "    <tr>\n",
       "      <th>...</th>\n",
       "      <td>...</td>\n",
       "      <td>...</td>\n",
       "      <td>...</td>\n",
       "      <td>...</td>\n",
       "      <td>...</td>\n",
       "      <td>...</td>\n",
       "      <td>...</td>\n",
       "    </tr>\n",
       "    <tr>\n",
       "      <th>143</th>\n",
       "      <td>Yes</td>\n",
       "      <td>Yes</td>\n",
       "      <td>Yes</td>\n",
       "      <td>Yes</td>\n",
       "      <td>Yes</td>\n",
       "      <td>Yes</td>\n",
       "      <td>2</td>\n",
       "    </tr>\n",
       "    <tr>\n",
       "      <th>144</th>\n",
       "      <td>No</td>\n",
       "      <td>Yes</td>\n",
       "      <td>No</td>\n",
       "      <td>No</td>\n",
       "      <td>Yes</td>\n",
       "      <td>Yes</td>\n",
       "      <td>1</td>\n",
       "    </tr>\n",
       "    <tr>\n",
       "      <th>145</th>\n",
       "      <td>Yes</td>\n",
       "      <td>No</td>\n",
       "      <td>Yes</td>\n",
       "      <td>No</td>\n",
       "      <td>Yes</td>\n",
       "      <td>Yes</td>\n",
       "      <td>1</td>\n",
       "    </tr>\n",
       "    <tr>\n",
       "      <th>146</th>\n",
       "      <td>NaN</td>\n",
       "      <td>NaN</td>\n",
       "      <td>NaN</td>\n",
       "      <td>NaN</td>\n",
       "      <td>NaN</td>\n",
       "      <td>NaN</td>\n",
       "      <td>2</td>\n",
       "    </tr>\n",
       "    <tr>\n",
       "      <th>147</th>\n",
       "      <td>No</td>\n",
       "      <td>No</td>\n",
       "      <td>No</td>\n",
       "      <td>No</td>\n",
       "      <td>Yes</td>\n",
       "      <td>No</td>\n",
       "      <td>2</td>\n",
       "    </tr>\n",
       "  </tbody>\n",
       "</table>\n",
       "<p>148 rows × 7 columns</p>\n",
       "</div>"
      ],
      "text/plain": [
       "    Arthritis Anxiety Depression PTSD pain Problems sleeping  I am a\n",
       "0         NaN     NaN        NaN  NaN  NaN               NaN       2\n",
       "1          No      No         No   No  Yes                No       2\n",
       "2          No     Yes         No  Yes  Yes               Yes       1\n",
       "3          No      No         No   No  Yes               Yes       1\n",
       "4          No     Yes         No  Yes  Yes               Yes       2\n",
       "..        ...     ...        ...  ...  ...               ...     ...\n",
       "143       Yes     Yes        Yes  Yes  Yes               Yes       2\n",
       "144        No     Yes         No   No  Yes               Yes       1\n",
       "145       Yes      No        Yes   No  Yes               Yes       1\n",
       "146       NaN     NaN        NaN  NaN  NaN               NaN       2\n",
       "147        No      No         No   No  Yes                No       2\n",
       "\n",
       "[148 rows x 7 columns]"
      ]
     },
     "execution_count": 19,
     "metadata": {},
     "output_type": "execute_result"
    }
   ],
   "source": [
    "df"
   ]
  },
  {
   "cell_type": "code",
   "execution_count": 22,
   "metadata": {},
   "outputs": [],
   "source": [
    "vet = df[df['I am a']==1]"
   ]
  },
  {
   "cell_type": "code",
   "execution_count": 23,
   "metadata": {},
   "outputs": [],
   "source": [
    "non_vet=df[df['I am a']==2]"
   ]
  },
  {
   "cell_type": "code",
   "execution_count": 9,
   "metadata": {},
   "outputs": [
    {
     "name": "stdout",
     "output_type": "stream",
     "text": [
      "[array(12, dtype=int64)]\n",
      "[array(12, dtype=int64), array(9, dtype=int64)]\n",
      "[array(12, dtype=int64), array(9, dtype=int64), array(4, dtype=int64)]\n",
      "[array(12, dtype=int64), array(9, dtype=int64), array(4, dtype=int64), array(14, dtype=int64)]\n",
      "[array(12, dtype=int64), array(9, dtype=int64), array(4, dtype=int64), array(14, dtype=int64), array(19, dtype=int64)]\n",
      "[array(12, dtype=int64), array(9, dtype=int64), array(4, dtype=int64), array(14, dtype=int64), array(19, dtype=int64), array(13, dtype=int64)]\n",
      "[array(12, dtype=int64), array(9, dtype=int64), array(4, dtype=int64), array(14, dtype=int64), array(19, dtype=int64), array(13, dtype=int64), array(8, dtype=int64)]\n",
      "[array(12, dtype=int64), array(9, dtype=int64), array(4, dtype=int64), array(14, dtype=int64), array(19, dtype=int64), array(13, dtype=int64), array(8, dtype=int64), array(12, dtype=int64)]\n",
      "[array(12, dtype=int64), array(9, dtype=int64), array(4, dtype=int64), array(14, dtype=int64), array(19, dtype=int64), array(13, dtype=int64), array(8, dtype=int64), array(12, dtype=int64), array(8, dtype=int64)]\n",
      "[array(12, dtype=int64), array(9, dtype=int64), array(4, dtype=int64), array(14, dtype=int64), array(19, dtype=int64), array(13, dtype=int64), array(8, dtype=int64), array(12, dtype=int64), array(8, dtype=int64), array(16, dtype=int64)]\n",
      "[array(12, dtype=int64), array(9, dtype=int64), array(4, dtype=int64), array(14, dtype=int64), array(19, dtype=int64), array(13, dtype=int64), array(8, dtype=int64), array(12, dtype=int64), array(8, dtype=int64), array(16, dtype=int64), array(9, dtype=int64)]\n",
      "[array(12, dtype=int64), array(9, dtype=int64), array(4, dtype=int64), array(14, dtype=int64), array(19, dtype=int64), array(13, dtype=int64), array(8, dtype=int64), array(12, dtype=int64), array(8, dtype=int64), array(16, dtype=int64), array(9, dtype=int64), array(13, dtype=int64)]\n",
      "[array(12, dtype=int64), array(9, dtype=int64), array(4, dtype=int64), array(14, dtype=int64), array(19, dtype=int64), array(13, dtype=int64), array(8, dtype=int64), array(12, dtype=int64), array(8, dtype=int64), array(16, dtype=int64), array(9, dtype=int64), array(13, dtype=int64), array(18, dtype=int64)]\n",
      "[array(12, dtype=int64), array(9, dtype=int64), array(4, dtype=int64), array(14, dtype=int64), array(19, dtype=int64), array(13, dtype=int64), array(8, dtype=int64), array(12, dtype=int64), array(8, dtype=int64), array(16, dtype=int64), array(9, dtype=int64), array(13, dtype=int64), array(18, dtype=int64), array(10, dtype=int64)]\n",
      "[array(12, dtype=int64), array(9, dtype=int64), array(4, dtype=int64), array(14, dtype=int64), array(19, dtype=int64), array(13, dtype=int64), array(8, dtype=int64), array(12, dtype=int64), array(8, dtype=int64), array(16, dtype=int64), array(9, dtype=int64), array(13, dtype=int64), array(18, dtype=int64), array(10, dtype=int64), array(13, dtype=int64)]\n",
      "[array(12, dtype=int64), array(9, dtype=int64), array(4, dtype=int64), array(14, dtype=int64), array(19, dtype=int64), array(13, dtype=int64), array(8, dtype=int64), array(12, dtype=int64), array(8, dtype=int64), array(16, dtype=int64), array(9, dtype=int64), array(13, dtype=int64), array(18, dtype=int64), array(10, dtype=int64), array(13, dtype=int64), array(6, dtype=int64)]\n",
      "[array(12, dtype=int64), array(9, dtype=int64), array(4, dtype=int64), array(14, dtype=int64), array(19, dtype=int64), array(13, dtype=int64), array(8, dtype=int64), array(12, dtype=int64), array(8, dtype=int64), array(16, dtype=int64), array(9, dtype=int64), array(13, dtype=int64), array(18, dtype=int64), array(10, dtype=int64), array(13, dtype=int64), array(6, dtype=int64), array(5, dtype=int64)]\n",
      "[array(12, dtype=int64), array(9, dtype=int64), array(4, dtype=int64), array(14, dtype=int64), array(19, dtype=int64), array(13, dtype=int64), array(8, dtype=int64), array(12, dtype=int64), array(8, dtype=int64), array(16, dtype=int64), array(9, dtype=int64), array(13, dtype=int64), array(18, dtype=int64), array(10, dtype=int64), array(13, dtype=int64), array(6, dtype=int64), array(5, dtype=int64), array(11, dtype=int64)]\n",
      "[array(12, dtype=int64), array(9, dtype=int64), array(4, dtype=int64), array(14, dtype=int64), array(19, dtype=int64), array(13, dtype=int64), array(8, dtype=int64), array(12, dtype=int64), array(8, dtype=int64), array(16, dtype=int64), array(9, dtype=int64), array(13, dtype=int64), array(18, dtype=int64), array(10, dtype=int64), array(13, dtype=int64), array(6, dtype=int64), array(5, dtype=int64), array(11, dtype=int64), array(18, dtype=int64)]\n",
      "[array(12, dtype=int64), array(9, dtype=int64), array(4, dtype=int64), array(14, dtype=int64), array(19, dtype=int64), array(13, dtype=int64), array(8, dtype=int64), array(12, dtype=int64), array(8, dtype=int64), array(16, dtype=int64), array(9, dtype=int64), array(13, dtype=int64), array(18, dtype=int64), array(10, dtype=int64), array(13, dtype=int64), array(6, dtype=int64), array(5, dtype=int64), array(11, dtype=int64), array(18, dtype=int64), array(13, dtype=int64)]\n",
      "[array(12, dtype=int64), array(9, dtype=int64), array(4, dtype=int64), array(14, dtype=int64), array(19, dtype=int64), array(13, dtype=int64), array(8, dtype=int64), array(12, dtype=int64), array(8, dtype=int64), array(16, dtype=int64), array(9, dtype=int64), array(13, dtype=int64), array(18, dtype=int64), array(10, dtype=int64), array(13, dtype=int64), array(6, dtype=int64), array(5, dtype=int64), array(11, dtype=int64), array(18, dtype=int64), array(13, dtype=int64), array(16, dtype=int64)]\n",
      "[array(12, dtype=int64), array(9, dtype=int64), array(4, dtype=int64), array(14, dtype=int64), array(19, dtype=int64), array(13, dtype=int64), array(8, dtype=int64), array(12, dtype=int64), array(8, dtype=int64), array(16, dtype=int64), array(9, dtype=int64), array(13, dtype=int64), array(18, dtype=int64), array(10, dtype=int64), array(13, dtype=int64), array(6, dtype=int64), array(5, dtype=int64), array(11, dtype=int64), array(18, dtype=int64), array(13, dtype=int64), array(16, dtype=int64), array(14, dtype=int64)]\n",
      "[array(12, dtype=int64), array(9, dtype=int64), array(4, dtype=int64), array(14, dtype=int64), array(19, dtype=int64), array(13, dtype=int64), array(8, dtype=int64), array(12, dtype=int64), array(8, dtype=int64), array(16, dtype=int64), array(9, dtype=int64), array(13, dtype=int64), array(18, dtype=int64), array(10, dtype=int64), array(13, dtype=int64), array(6, dtype=int64), array(5, dtype=int64), array(11, dtype=int64), array(18, dtype=int64), array(13, dtype=int64), array(16, dtype=int64), array(14, dtype=int64), array(8, dtype=int64)]\n",
      "[array(12, dtype=int64), array(9, dtype=int64), array(4, dtype=int64), array(14, dtype=int64), array(19, dtype=int64), array(13, dtype=int64), array(8, dtype=int64), array(12, dtype=int64), array(8, dtype=int64), array(16, dtype=int64), array(9, dtype=int64), array(13, dtype=int64), array(18, dtype=int64), array(10, dtype=int64), array(13, dtype=int64), array(6, dtype=int64), array(5, dtype=int64), array(11, dtype=int64), array(18, dtype=int64), array(13, dtype=int64), array(16, dtype=int64), array(14, dtype=int64), array(8, dtype=int64), array(9, dtype=int64)]\n",
      "[array(12, dtype=int64), array(9, dtype=int64), array(4, dtype=int64), array(14, dtype=int64), array(19, dtype=int64), array(13, dtype=int64), array(8, dtype=int64), array(12, dtype=int64), array(8, dtype=int64), array(16, dtype=int64), array(9, dtype=int64), array(13, dtype=int64), array(18, dtype=int64), array(10, dtype=int64), array(13, dtype=int64), array(6, dtype=int64), array(5, dtype=int64), array(11, dtype=int64), array(18, dtype=int64), array(13, dtype=int64), array(16, dtype=int64), array(14, dtype=int64), array(8, dtype=int64), array(9, dtype=int64), array(10, dtype=int64)]\n",
      "[array(12, dtype=int64), array(9, dtype=int64), array(4, dtype=int64), array(14, dtype=int64), array(19, dtype=int64), array(13, dtype=int64), array(8, dtype=int64), array(12, dtype=int64), array(8, dtype=int64), array(16, dtype=int64), array(9, dtype=int64), array(13, dtype=int64), array(18, dtype=int64), array(10, dtype=int64), array(13, dtype=int64), array(6, dtype=int64), array(5, dtype=int64), array(11, dtype=int64), array(18, dtype=int64), array(13, dtype=int64), array(16, dtype=int64), array(14, dtype=int64), array(8, dtype=int64), array(9, dtype=int64), array(10, dtype=int64), array(17, dtype=int64)]\n",
      "[array(12, dtype=int64), array(9, dtype=int64), array(4, dtype=int64), array(14, dtype=int64), array(19, dtype=int64), array(13, dtype=int64), array(8, dtype=int64), array(12, dtype=int64), array(8, dtype=int64), array(16, dtype=int64), array(9, dtype=int64), array(13, dtype=int64), array(18, dtype=int64), array(10, dtype=int64), array(13, dtype=int64), array(6, dtype=int64), array(5, dtype=int64), array(11, dtype=int64), array(18, dtype=int64), array(13, dtype=int64), array(16, dtype=int64), array(14, dtype=int64), array(8, dtype=int64), array(9, dtype=int64), array(10, dtype=int64), array(17, dtype=int64), array(15, dtype=int64)]\n",
      "[array(12, dtype=int64), array(9, dtype=int64), array(4, dtype=int64), array(14, dtype=int64), array(19, dtype=int64), array(13, dtype=int64), array(8, dtype=int64), array(12, dtype=int64), array(8, dtype=int64), array(16, dtype=int64), array(9, dtype=int64), array(13, dtype=int64), array(18, dtype=int64), array(10, dtype=int64), array(13, dtype=int64), array(6, dtype=int64), array(5, dtype=int64), array(11, dtype=int64), array(18, dtype=int64), array(13, dtype=int64), array(16, dtype=int64), array(14, dtype=int64), array(8, dtype=int64), array(9, dtype=int64), array(10, dtype=int64), array(17, dtype=int64), array(15, dtype=int64), array(17, dtype=int64)]\n",
      "[array(12, dtype=int64), array(9, dtype=int64), array(4, dtype=int64), array(14, dtype=int64), array(19, dtype=int64), array(13, dtype=int64), array(8, dtype=int64), array(12, dtype=int64), array(8, dtype=int64), array(16, dtype=int64), array(9, dtype=int64), array(13, dtype=int64), array(18, dtype=int64), array(10, dtype=int64), array(13, dtype=int64), array(6, dtype=int64), array(5, dtype=int64), array(11, dtype=int64), array(18, dtype=int64), array(13, dtype=int64), array(16, dtype=int64), array(14, dtype=int64), array(8, dtype=int64), array(9, dtype=int64), array(10, dtype=int64), array(17, dtype=int64), array(15, dtype=int64), array(17, dtype=int64), array(9, dtype=int64)]\n",
      "[array(12, dtype=int64), array(9, dtype=int64), array(4, dtype=int64), array(14, dtype=int64), array(19, dtype=int64), array(13, dtype=int64), array(8, dtype=int64), array(12, dtype=int64), array(8, dtype=int64), array(16, dtype=int64), array(9, dtype=int64), array(13, dtype=int64), array(18, dtype=int64), array(10, dtype=int64), array(13, dtype=int64), array(6, dtype=int64), array(5, dtype=int64), array(11, dtype=int64), array(18, dtype=int64), array(13, dtype=int64), array(16, dtype=int64), array(14, dtype=int64), array(8, dtype=int64), array(9, dtype=int64), array(10, dtype=int64), array(17, dtype=int64), array(15, dtype=int64), array(17, dtype=int64), array(9, dtype=int64), array(11, dtype=int64)]\n",
      "[array(12, dtype=int64), array(9, dtype=int64), array(4, dtype=int64), array(14, dtype=int64), array(19, dtype=int64), array(13, dtype=int64), array(8, dtype=int64), array(12, dtype=int64), array(8, dtype=int64), array(16, dtype=int64), array(9, dtype=int64), array(13, dtype=int64), array(18, dtype=int64), array(10, dtype=int64), array(13, dtype=int64), array(6, dtype=int64), array(5, dtype=int64), array(11, dtype=int64), array(18, dtype=int64), array(13, dtype=int64), array(16, dtype=int64), array(14, dtype=int64), array(8, dtype=int64), array(9, dtype=int64), array(10, dtype=int64), array(17, dtype=int64), array(15, dtype=int64), array(17, dtype=int64), array(9, dtype=int64), array(11, dtype=int64), array(12, dtype=int64)]\n",
      "[array(12, dtype=int64), array(9, dtype=int64), array(4, dtype=int64), array(14, dtype=int64), array(19, dtype=int64), array(13, dtype=int64), array(8, dtype=int64), array(12, dtype=int64), array(8, dtype=int64), array(16, dtype=int64), array(9, dtype=int64), array(13, dtype=int64), array(18, dtype=int64), array(10, dtype=int64), array(13, dtype=int64), array(6, dtype=int64), array(5, dtype=int64), array(11, dtype=int64), array(18, dtype=int64), array(13, dtype=int64), array(16, dtype=int64), array(14, dtype=int64), array(8, dtype=int64), array(9, dtype=int64), array(10, dtype=int64), array(17, dtype=int64), array(15, dtype=int64), array(17, dtype=int64), array(9, dtype=int64), array(11, dtype=int64), array(12, dtype=int64), array(22, dtype=int64)]\n",
      "[array(12, dtype=int64), array(9, dtype=int64), array(4, dtype=int64), array(14, dtype=int64), array(19, dtype=int64), array(13, dtype=int64), array(8, dtype=int64), array(12, dtype=int64), array(8, dtype=int64), array(16, dtype=int64), array(9, dtype=int64), array(13, dtype=int64), array(18, dtype=int64), array(10, dtype=int64), array(13, dtype=int64), array(6, dtype=int64), array(5, dtype=int64), array(11, dtype=int64), array(18, dtype=int64), array(13, dtype=int64), array(16, dtype=int64), array(14, dtype=int64), array(8, dtype=int64), array(9, dtype=int64), array(10, dtype=int64), array(17, dtype=int64), array(15, dtype=int64), array(17, dtype=int64), array(9, dtype=int64), array(11, dtype=int64), array(12, dtype=int64), array(22, dtype=int64), array(16, dtype=int64)]\n",
      "[array(12, dtype=int64), array(9, dtype=int64), array(4, dtype=int64), array(14, dtype=int64), array(19, dtype=int64), array(13, dtype=int64), array(8, dtype=int64), array(12, dtype=int64), array(8, dtype=int64), array(16, dtype=int64), array(9, dtype=int64), array(13, dtype=int64), array(18, dtype=int64), array(10, dtype=int64), array(13, dtype=int64), array(6, dtype=int64), array(5, dtype=int64), array(11, dtype=int64), array(18, dtype=int64), array(13, dtype=int64), array(16, dtype=int64), array(14, dtype=int64), array(8, dtype=int64), array(9, dtype=int64), array(10, dtype=int64), array(17, dtype=int64), array(15, dtype=int64), array(17, dtype=int64), array(9, dtype=int64), array(11, dtype=int64), array(12, dtype=int64), array(22, dtype=int64), array(16, dtype=int64), array(17, dtype=int64)]\n",
      "[array(12, dtype=int64), array(9, dtype=int64), array(4, dtype=int64), array(14, dtype=int64), array(19, dtype=int64), array(13, dtype=int64), array(8, dtype=int64), array(12, dtype=int64), array(8, dtype=int64), array(16, dtype=int64), array(9, dtype=int64), array(13, dtype=int64), array(18, dtype=int64), array(10, dtype=int64), array(13, dtype=int64), array(6, dtype=int64), array(5, dtype=int64), array(11, dtype=int64), array(18, dtype=int64), array(13, dtype=int64), array(16, dtype=int64), array(14, dtype=int64), array(8, dtype=int64), array(9, dtype=int64), array(10, dtype=int64), array(17, dtype=int64), array(15, dtype=int64), array(17, dtype=int64), array(9, dtype=int64), array(11, dtype=int64), array(12, dtype=int64), array(22, dtype=int64), array(16, dtype=int64), array(17, dtype=int64), array(12, dtype=int64)]\n",
      "[array(12, dtype=int64), array(9, dtype=int64), array(4, dtype=int64), array(14, dtype=int64), array(19, dtype=int64), array(13, dtype=int64), array(8, dtype=int64), array(12, dtype=int64), array(8, dtype=int64), array(16, dtype=int64), array(9, dtype=int64), array(13, dtype=int64), array(18, dtype=int64), array(10, dtype=int64), array(13, dtype=int64), array(6, dtype=int64), array(5, dtype=int64), array(11, dtype=int64), array(18, dtype=int64), array(13, dtype=int64), array(16, dtype=int64), array(14, dtype=int64), array(8, dtype=int64), array(9, dtype=int64), array(10, dtype=int64), array(17, dtype=int64), array(15, dtype=int64), array(17, dtype=int64), array(9, dtype=int64), array(11, dtype=int64), array(12, dtype=int64), array(22, dtype=int64), array(16, dtype=int64), array(17, dtype=int64), array(12, dtype=int64), array(11, dtype=int64)]\n",
      "[array(12, dtype=int64), array(9, dtype=int64), array(4, dtype=int64), array(14, dtype=int64), array(19, dtype=int64), array(13, dtype=int64), array(8, dtype=int64), array(12, dtype=int64), array(8, dtype=int64), array(16, dtype=int64), array(9, dtype=int64), array(13, dtype=int64), array(18, dtype=int64), array(10, dtype=int64), array(13, dtype=int64), array(6, dtype=int64), array(5, dtype=int64), array(11, dtype=int64), array(18, dtype=int64), array(13, dtype=int64), array(16, dtype=int64), array(14, dtype=int64), array(8, dtype=int64), array(9, dtype=int64), array(10, dtype=int64), array(17, dtype=int64), array(15, dtype=int64), array(17, dtype=int64), array(9, dtype=int64), array(11, dtype=int64), array(12, dtype=int64), array(22, dtype=int64), array(16, dtype=int64), array(17, dtype=int64), array(12, dtype=int64), array(11, dtype=int64), array(13, dtype=int64)]\n",
      "[array(12, dtype=int64), array(9, dtype=int64), array(4, dtype=int64), array(14, dtype=int64), array(19, dtype=int64), array(13, dtype=int64), array(8, dtype=int64), array(12, dtype=int64), array(8, dtype=int64), array(16, dtype=int64), array(9, dtype=int64), array(13, dtype=int64), array(18, dtype=int64), array(10, dtype=int64), array(13, dtype=int64), array(6, dtype=int64), array(5, dtype=int64), array(11, dtype=int64), array(18, dtype=int64), array(13, dtype=int64), array(16, dtype=int64), array(14, dtype=int64), array(8, dtype=int64), array(9, dtype=int64), array(10, dtype=int64), array(17, dtype=int64), array(15, dtype=int64), array(17, dtype=int64), array(9, dtype=int64), array(11, dtype=int64), array(12, dtype=int64), array(22, dtype=int64), array(16, dtype=int64), array(17, dtype=int64), array(12, dtype=int64), array(11, dtype=int64), array(13, dtype=int64), array(13, dtype=int64)]\n",
      "[array(12, dtype=int64), array(9, dtype=int64), array(4, dtype=int64), array(14, dtype=int64), array(19, dtype=int64), array(13, dtype=int64), array(8, dtype=int64), array(12, dtype=int64), array(8, dtype=int64), array(16, dtype=int64), array(9, dtype=int64), array(13, dtype=int64), array(18, dtype=int64), array(10, dtype=int64), array(13, dtype=int64), array(6, dtype=int64), array(5, dtype=int64), array(11, dtype=int64), array(18, dtype=int64), array(13, dtype=int64), array(16, dtype=int64), array(14, dtype=int64), array(8, dtype=int64), array(9, dtype=int64), array(10, dtype=int64), array(17, dtype=int64), array(15, dtype=int64), array(17, dtype=int64), array(9, dtype=int64), array(11, dtype=int64), array(12, dtype=int64), array(22, dtype=int64), array(16, dtype=int64), array(17, dtype=int64), array(12, dtype=int64), array(11, dtype=int64), array(13, dtype=int64), array(13, dtype=int64), array(7, dtype=int64)]\n",
      "[array(12, dtype=int64), array(9, dtype=int64), array(4, dtype=int64), array(14, dtype=int64), array(19, dtype=int64), array(13, dtype=int64), array(8, dtype=int64), array(12, dtype=int64), array(8, dtype=int64), array(16, dtype=int64), array(9, dtype=int64), array(13, dtype=int64), array(18, dtype=int64), array(10, dtype=int64), array(13, dtype=int64), array(6, dtype=int64), array(5, dtype=int64), array(11, dtype=int64), array(18, dtype=int64), array(13, dtype=int64), array(16, dtype=int64), array(14, dtype=int64), array(8, dtype=int64), array(9, dtype=int64), array(10, dtype=int64), array(17, dtype=int64), array(15, dtype=int64), array(17, dtype=int64), array(9, dtype=int64), array(11, dtype=int64), array(12, dtype=int64), array(22, dtype=int64), array(16, dtype=int64), array(17, dtype=int64), array(12, dtype=int64), array(11, dtype=int64), array(13, dtype=int64), array(13, dtype=int64), array(7, dtype=int64), array(3, dtype=int64)]\n",
      "[array(12, dtype=int64), array(9, dtype=int64), array(4, dtype=int64), array(14, dtype=int64), array(19, dtype=int64), array(13, dtype=int64), array(8, dtype=int64), array(12, dtype=int64), array(8, dtype=int64), array(16, dtype=int64), array(9, dtype=int64), array(13, dtype=int64), array(18, dtype=int64), array(10, dtype=int64), array(13, dtype=int64), array(6, dtype=int64), array(5, dtype=int64), array(11, dtype=int64), array(18, dtype=int64), array(13, dtype=int64), array(16, dtype=int64), array(14, dtype=int64), array(8, dtype=int64), array(9, dtype=int64), array(10, dtype=int64), array(17, dtype=int64), array(15, dtype=int64), array(17, dtype=int64), array(9, dtype=int64), array(11, dtype=int64), array(12, dtype=int64), array(22, dtype=int64), array(16, dtype=int64), array(17, dtype=int64), array(12, dtype=int64), array(11, dtype=int64), array(13, dtype=int64), array(13, dtype=int64), array(7, dtype=int64), array(3, dtype=int64), array(12, dtype=int64)]\n",
      "[array(12, dtype=int64), array(9, dtype=int64), array(4, dtype=int64), array(14, dtype=int64), array(19, dtype=int64), array(13, dtype=int64), array(8, dtype=int64), array(12, dtype=int64), array(8, dtype=int64), array(16, dtype=int64), array(9, dtype=int64), array(13, dtype=int64), array(18, dtype=int64), array(10, dtype=int64), array(13, dtype=int64), array(6, dtype=int64), array(5, dtype=int64), array(11, dtype=int64), array(18, dtype=int64), array(13, dtype=int64), array(16, dtype=int64), array(14, dtype=int64), array(8, dtype=int64), array(9, dtype=int64), array(10, dtype=int64), array(17, dtype=int64), array(15, dtype=int64), array(17, dtype=int64), array(9, dtype=int64), array(11, dtype=int64), array(12, dtype=int64), array(22, dtype=int64), array(16, dtype=int64), array(17, dtype=int64), array(12, dtype=int64), array(11, dtype=int64), array(13, dtype=int64), array(13, dtype=int64), array(7, dtype=int64), array(3, dtype=int64), array(12, dtype=int64), array(9, dtype=int64)]\n",
      "[array(12, dtype=int64), array(9, dtype=int64), array(4, dtype=int64), array(14, dtype=int64), array(19, dtype=int64), array(13, dtype=int64), array(8, dtype=int64), array(12, dtype=int64), array(8, dtype=int64), array(16, dtype=int64), array(9, dtype=int64), array(13, dtype=int64), array(18, dtype=int64), array(10, dtype=int64), array(13, dtype=int64), array(6, dtype=int64), array(5, dtype=int64), array(11, dtype=int64), array(18, dtype=int64), array(13, dtype=int64), array(16, dtype=int64), array(14, dtype=int64), array(8, dtype=int64), array(9, dtype=int64), array(10, dtype=int64), array(17, dtype=int64), array(15, dtype=int64), array(17, dtype=int64), array(9, dtype=int64), array(11, dtype=int64), array(12, dtype=int64), array(22, dtype=int64), array(16, dtype=int64), array(17, dtype=int64), array(12, dtype=int64), array(11, dtype=int64), array(13, dtype=int64), array(13, dtype=int64), array(7, dtype=int64), array(3, dtype=int64), array(12, dtype=int64), array(9, dtype=int64), array(8, dtype=int64)]\n",
      "[array(12, dtype=int64), array(9, dtype=int64), array(4, dtype=int64), array(14, dtype=int64), array(19, dtype=int64), array(13, dtype=int64), array(8, dtype=int64), array(12, dtype=int64), array(8, dtype=int64), array(16, dtype=int64), array(9, dtype=int64), array(13, dtype=int64), array(18, dtype=int64), array(10, dtype=int64), array(13, dtype=int64), array(6, dtype=int64), array(5, dtype=int64), array(11, dtype=int64), array(18, dtype=int64), array(13, dtype=int64), array(16, dtype=int64), array(14, dtype=int64), array(8, dtype=int64), array(9, dtype=int64), array(10, dtype=int64), array(17, dtype=int64), array(15, dtype=int64), array(17, dtype=int64), array(9, dtype=int64), array(11, dtype=int64), array(12, dtype=int64), array(22, dtype=int64), array(16, dtype=int64), array(17, dtype=int64), array(12, dtype=int64), array(11, dtype=int64), array(13, dtype=int64), array(13, dtype=int64), array(7, dtype=int64), array(3, dtype=int64), array(12, dtype=int64), array(9, dtype=int64), array(8, dtype=int64), array(11, dtype=int64)]\n",
      "[array(12, dtype=int64), array(9, dtype=int64), array(4, dtype=int64), array(14, dtype=int64), array(19, dtype=int64), array(13, dtype=int64), array(8, dtype=int64), array(12, dtype=int64), array(8, dtype=int64), array(16, dtype=int64), array(9, dtype=int64), array(13, dtype=int64), array(18, dtype=int64), array(10, dtype=int64), array(13, dtype=int64), array(6, dtype=int64), array(5, dtype=int64), array(11, dtype=int64), array(18, dtype=int64), array(13, dtype=int64), array(16, dtype=int64), array(14, dtype=int64), array(8, dtype=int64), array(9, dtype=int64), array(10, dtype=int64), array(17, dtype=int64), array(15, dtype=int64), array(17, dtype=int64), array(9, dtype=int64), array(11, dtype=int64), array(12, dtype=int64), array(22, dtype=int64), array(16, dtype=int64), array(17, dtype=int64), array(12, dtype=int64), array(11, dtype=int64), array(13, dtype=int64), array(13, dtype=int64), array(7, dtype=int64), array(3, dtype=int64), array(12, dtype=int64), array(9, dtype=int64), array(8, dtype=int64), array(11, dtype=int64), array(13, dtype=int64)]\n",
      "[array(12, dtype=int64), array(9, dtype=int64), array(4, dtype=int64), array(14, dtype=int64), array(19, dtype=int64), array(13, dtype=int64), array(8, dtype=int64), array(12, dtype=int64), array(8, dtype=int64), array(16, dtype=int64), array(9, dtype=int64), array(13, dtype=int64), array(18, dtype=int64), array(10, dtype=int64), array(13, dtype=int64), array(6, dtype=int64), array(5, dtype=int64), array(11, dtype=int64), array(18, dtype=int64), array(13, dtype=int64), array(16, dtype=int64), array(14, dtype=int64), array(8, dtype=int64), array(9, dtype=int64), array(10, dtype=int64), array(17, dtype=int64), array(15, dtype=int64), array(17, dtype=int64), array(9, dtype=int64), array(11, dtype=int64), array(12, dtype=int64), array(22, dtype=int64), array(16, dtype=int64), array(17, dtype=int64), array(12, dtype=int64), array(11, dtype=int64), array(13, dtype=int64), array(13, dtype=int64), array(7, dtype=int64), array(3, dtype=int64), array(12, dtype=int64), array(9, dtype=int64), array(8, dtype=int64), array(11, dtype=int64), array(13, dtype=int64), array(15, dtype=int64)]\n",
      "[array(12, dtype=int64), array(9, dtype=int64), array(4, dtype=int64), array(14, dtype=int64), array(19, dtype=int64), array(13, dtype=int64), array(8, dtype=int64), array(12, dtype=int64), array(8, dtype=int64), array(16, dtype=int64), array(9, dtype=int64), array(13, dtype=int64), array(18, dtype=int64), array(10, dtype=int64), array(13, dtype=int64), array(6, dtype=int64), array(5, dtype=int64), array(11, dtype=int64), array(18, dtype=int64), array(13, dtype=int64), array(16, dtype=int64), array(14, dtype=int64), array(8, dtype=int64), array(9, dtype=int64), array(10, dtype=int64), array(17, dtype=int64), array(15, dtype=int64), array(17, dtype=int64), array(9, dtype=int64), array(11, dtype=int64), array(12, dtype=int64), array(22, dtype=int64), array(16, dtype=int64), array(17, dtype=int64), array(12, dtype=int64), array(11, dtype=int64), array(13, dtype=int64), array(13, dtype=int64), array(7, dtype=int64), array(3, dtype=int64), array(12, dtype=int64), array(9, dtype=int64), array(8, dtype=int64), array(11, dtype=int64), array(13, dtype=int64), array(15, dtype=int64), array(13, dtype=int64)]\n",
      "[array(12, dtype=int64), array(9, dtype=int64), array(4, dtype=int64), array(14, dtype=int64), array(19, dtype=int64), array(13, dtype=int64), array(8, dtype=int64), array(12, dtype=int64), array(8, dtype=int64), array(16, dtype=int64), array(9, dtype=int64), array(13, dtype=int64), array(18, dtype=int64), array(10, dtype=int64), array(13, dtype=int64), array(6, dtype=int64), array(5, dtype=int64), array(11, dtype=int64), array(18, dtype=int64), array(13, dtype=int64), array(16, dtype=int64), array(14, dtype=int64), array(8, dtype=int64), array(9, dtype=int64), array(10, dtype=int64), array(17, dtype=int64), array(15, dtype=int64), array(17, dtype=int64), array(9, dtype=int64), array(11, dtype=int64), array(12, dtype=int64), array(22, dtype=int64), array(16, dtype=int64), array(17, dtype=int64), array(12, dtype=int64), array(11, dtype=int64), array(13, dtype=int64), array(13, dtype=int64), array(7, dtype=int64), array(3, dtype=int64), array(12, dtype=int64), array(9, dtype=int64), array(8, dtype=int64), array(11, dtype=int64), array(13, dtype=int64), array(15, dtype=int64), array(13, dtype=int64), array(8, dtype=int64)]\n",
      "[array(12, dtype=int64), array(9, dtype=int64), array(4, dtype=int64), array(14, dtype=int64), array(19, dtype=int64), array(13, dtype=int64), array(8, dtype=int64), array(12, dtype=int64), array(8, dtype=int64), array(16, dtype=int64), array(9, dtype=int64), array(13, dtype=int64), array(18, dtype=int64), array(10, dtype=int64), array(13, dtype=int64), array(6, dtype=int64), array(5, dtype=int64), array(11, dtype=int64), array(18, dtype=int64), array(13, dtype=int64), array(16, dtype=int64), array(14, dtype=int64), array(8, dtype=int64), array(9, dtype=int64), array(10, dtype=int64), array(17, dtype=int64), array(15, dtype=int64), array(17, dtype=int64), array(9, dtype=int64), array(11, dtype=int64), array(12, dtype=int64), array(22, dtype=int64), array(16, dtype=int64), array(17, dtype=int64), array(12, dtype=int64), array(11, dtype=int64), array(13, dtype=int64), array(13, dtype=int64), array(7, dtype=int64), array(3, dtype=int64), array(12, dtype=int64), array(9, dtype=int64), array(8, dtype=int64), array(11, dtype=int64), array(13, dtype=int64), array(15, dtype=int64), array(13, dtype=int64), array(8, dtype=int64), array(10, dtype=int64)]\n",
      "[array(12, dtype=int64), array(9, dtype=int64), array(4, dtype=int64), array(14, dtype=int64), array(19, dtype=int64), array(13, dtype=int64), array(8, dtype=int64), array(12, dtype=int64), array(8, dtype=int64), array(16, dtype=int64), array(9, dtype=int64), array(13, dtype=int64), array(18, dtype=int64), array(10, dtype=int64), array(13, dtype=int64), array(6, dtype=int64), array(5, dtype=int64), array(11, dtype=int64), array(18, dtype=int64), array(13, dtype=int64), array(16, dtype=int64), array(14, dtype=int64), array(8, dtype=int64), array(9, dtype=int64), array(10, dtype=int64), array(17, dtype=int64), array(15, dtype=int64), array(17, dtype=int64), array(9, dtype=int64), array(11, dtype=int64), array(12, dtype=int64), array(22, dtype=int64), array(16, dtype=int64), array(17, dtype=int64), array(12, dtype=int64), array(11, dtype=int64), array(13, dtype=int64), array(13, dtype=int64), array(7, dtype=int64), array(3, dtype=int64), array(12, dtype=int64), array(9, dtype=int64), array(8, dtype=int64), array(11, dtype=int64), array(13, dtype=int64), array(15, dtype=int64), array(13, dtype=int64), array(8, dtype=int64), array(10, dtype=int64), array(14, dtype=int64)]\n",
      "[array(12, dtype=int64), array(9, dtype=int64), array(4, dtype=int64), array(14, dtype=int64), array(19, dtype=int64), array(13, dtype=int64), array(8, dtype=int64), array(12, dtype=int64), array(8, dtype=int64), array(16, dtype=int64), array(9, dtype=int64), array(13, dtype=int64), array(18, dtype=int64), array(10, dtype=int64), array(13, dtype=int64), array(6, dtype=int64), array(5, dtype=int64), array(11, dtype=int64), array(18, dtype=int64), array(13, dtype=int64), array(16, dtype=int64), array(14, dtype=int64), array(8, dtype=int64), array(9, dtype=int64), array(10, dtype=int64), array(17, dtype=int64), array(15, dtype=int64), array(17, dtype=int64), array(9, dtype=int64), array(11, dtype=int64), array(12, dtype=int64), array(22, dtype=int64), array(16, dtype=int64), array(17, dtype=int64), array(12, dtype=int64), array(11, dtype=int64), array(13, dtype=int64), array(13, dtype=int64), array(7, dtype=int64), array(3, dtype=int64), array(12, dtype=int64), array(9, dtype=int64), array(8, dtype=int64), array(11, dtype=int64), array(13, dtype=int64), array(15, dtype=int64), array(13, dtype=int64), array(8, dtype=int64), array(10, dtype=int64), array(14, dtype=int64), array(10, dtype=int64)]\n",
      "[array(12, dtype=int64), array(9, dtype=int64), array(4, dtype=int64), array(14, dtype=int64), array(19, dtype=int64), array(13, dtype=int64), array(8, dtype=int64), array(12, dtype=int64), array(8, dtype=int64), array(16, dtype=int64), array(9, dtype=int64), array(13, dtype=int64), array(18, dtype=int64), array(10, dtype=int64), array(13, dtype=int64), array(6, dtype=int64), array(5, dtype=int64), array(11, dtype=int64), array(18, dtype=int64), array(13, dtype=int64), array(16, dtype=int64), array(14, dtype=int64), array(8, dtype=int64), array(9, dtype=int64), array(10, dtype=int64), array(17, dtype=int64), array(15, dtype=int64), array(17, dtype=int64), array(9, dtype=int64), array(11, dtype=int64), array(12, dtype=int64), array(22, dtype=int64), array(16, dtype=int64), array(17, dtype=int64), array(12, dtype=int64), array(11, dtype=int64), array(13, dtype=int64), array(13, dtype=int64), array(7, dtype=int64), array(3, dtype=int64), array(12, dtype=int64), array(9, dtype=int64), array(8, dtype=int64), array(11, dtype=int64), array(13, dtype=int64), array(15, dtype=int64), array(13, dtype=int64), array(8, dtype=int64), array(10, dtype=int64), array(14, dtype=int64), array(10, dtype=int64), array(4, dtype=int64)]\n",
      "[array(12, dtype=int64), array(9, dtype=int64), array(4, dtype=int64), array(14, dtype=int64), array(19, dtype=int64), array(13, dtype=int64), array(8, dtype=int64), array(12, dtype=int64), array(8, dtype=int64), array(16, dtype=int64), array(9, dtype=int64), array(13, dtype=int64), array(18, dtype=int64), array(10, dtype=int64), array(13, dtype=int64), array(6, dtype=int64), array(5, dtype=int64), array(11, dtype=int64), array(18, dtype=int64), array(13, dtype=int64), array(16, dtype=int64), array(14, dtype=int64), array(8, dtype=int64), array(9, dtype=int64), array(10, dtype=int64), array(17, dtype=int64), array(15, dtype=int64), array(17, dtype=int64), array(9, dtype=int64), array(11, dtype=int64), array(12, dtype=int64), array(22, dtype=int64), array(16, dtype=int64), array(17, dtype=int64), array(12, dtype=int64), array(11, dtype=int64), array(13, dtype=int64), array(13, dtype=int64), array(7, dtype=int64), array(3, dtype=int64), array(12, dtype=int64), array(9, dtype=int64), array(8, dtype=int64), array(11, dtype=int64), array(13, dtype=int64), array(15, dtype=int64), array(13, dtype=int64), array(8, dtype=int64), array(10, dtype=int64), array(14, dtype=int64), array(10, dtype=int64), array(4, dtype=int64), array(11, dtype=int64)]\n",
      "[array(12, dtype=int64), array(9, dtype=int64), array(4, dtype=int64), array(14, dtype=int64), array(19, dtype=int64), array(13, dtype=int64), array(8, dtype=int64), array(12, dtype=int64), array(8, dtype=int64), array(16, dtype=int64), array(9, dtype=int64), array(13, dtype=int64), array(18, dtype=int64), array(10, dtype=int64), array(13, dtype=int64), array(6, dtype=int64), array(5, dtype=int64), array(11, dtype=int64), array(18, dtype=int64), array(13, dtype=int64), array(16, dtype=int64), array(14, dtype=int64), array(8, dtype=int64), array(9, dtype=int64), array(10, dtype=int64), array(17, dtype=int64), array(15, dtype=int64), array(17, dtype=int64), array(9, dtype=int64), array(11, dtype=int64), array(12, dtype=int64), array(22, dtype=int64), array(16, dtype=int64), array(17, dtype=int64), array(12, dtype=int64), array(11, dtype=int64), array(13, dtype=int64), array(13, dtype=int64), array(7, dtype=int64), array(3, dtype=int64), array(12, dtype=int64), array(9, dtype=int64), array(8, dtype=int64), array(11, dtype=int64), array(13, dtype=int64), array(15, dtype=int64), array(13, dtype=int64), array(8, dtype=int64), array(10, dtype=int64), array(14, dtype=int64), array(10, dtype=int64), array(4, dtype=int64), array(11, dtype=int64), array(16, dtype=int64)]\n",
      "[array(12, dtype=int64), array(9, dtype=int64), array(4, dtype=int64), array(14, dtype=int64), array(19, dtype=int64), array(13, dtype=int64), array(8, dtype=int64), array(12, dtype=int64), array(8, dtype=int64), array(16, dtype=int64), array(9, dtype=int64), array(13, dtype=int64), array(18, dtype=int64), array(10, dtype=int64), array(13, dtype=int64), array(6, dtype=int64), array(5, dtype=int64), array(11, dtype=int64), array(18, dtype=int64), array(13, dtype=int64), array(16, dtype=int64), array(14, dtype=int64), array(8, dtype=int64), array(9, dtype=int64), array(10, dtype=int64), array(17, dtype=int64), array(15, dtype=int64), array(17, dtype=int64), array(9, dtype=int64), array(11, dtype=int64), array(12, dtype=int64), array(22, dtype=int64), array(16, dtype=int64), array(17, dtype=int64), array(12, dtype=int64), array(11, dtype=int64), array(13, dtype=int64), array(13, dtype=int64), array(7, dtype=int64), array(3, dtype=int64), array(12, dtype=int64), array(9, dtype=int64), array(8, dtype=int64), array(11, dtype=int64), array(13, dtype=int64), array(15, dtype=int64), array(13, dtype=int64), array(8, dtype=int64), array(10, dtype=int64), array(14, dtype=int64), array(10, dtype=int64), array(4, dtype=int64), array(11, dtype=int64), array(16, dtype=int64), array(13, dtype=int64)]\n",
      "[array(12, dtype=int64), array(9, dtype=int64), array(4, dtype=int64), array(14, dtype=int64), array(19, dtype=int64), array(13, dtype=int64), array(8, dtype=int64), array(12, dtype=int64), array(8, dtype=int64), array(16, dtype=int64), array(9, dtype=int64), array(13, dtype=int64), array(18, dtype=int64), array(10, dtype=int64), array(13, dtype=int64), array(6, dtype=int64), array(5, dtype=int64), array(11, dtype=int64), array(18, dtype=int64), array(13, dtype=int64), array(16, dtype=int64), array(14, dtype=int64), array(8, dtype=int64), array(9, dtype=int64), array(10, dtype=int64), array(17, dtype=int64), array(15, dtype=int64), array(17, dtype=int64), array(9, dtype=int64), array(11, dtype=int64), array(12, dtype=int64), array(22, dtype=int64), array(16, dtype=int64), array(17, dtype=int64), array(12, dtype=int64), array(11, dtype=int64), array(13, dtype=int64), array(13, dtype=int64), array(7, dtype=int64), array(3, dtype=int64), array(12, dtype=int64), array(9, dtype=int64), array(8, dtype=int64), array(11, dtype=int64), array(13, dtype=int64), array(15, dtype=int64), array(13, dtype=int64), array(8, dtype=int64), array(10, dtype=int64), array(14, dtype=int64), array(10, dtype=int64), array(4, dtype=int64), array(11, dtype=int64), array(16, dtype=int64), array(13, dtype=int64), array(12, dtype=int64)]\n",
      "[array(12, dtype=int64), array(9, dtype=int64), array(4, dtype=int64), array(14, dtype=int64), array(19, dtype=int64), array(13, dtype=int64), array(8, dtype=int64), array(12, dtype=int64), array(8, dtype=int64), array(16, dtype=int64), array(9, dtype=int64), array(13, dtype=int64), array(18, dtype=int64), array(10, dtype=int64), array(13, dtype=int64), array(6, dtype=int64), array(5, dtype=int64), array(11, dtype=int64), array(18, dtype=int64), array(13, dtype=int64), array(16, dtype=int64), array(14, dtype=int64), array(8, dtype=int64), array(9, dtype=int64), array(10, dtype=int64), array(17, dtype=int64), array(15, dtype=int64), array(17, dtype=int64), array(9, dtype=int64), array(11, dtype=int64), array(12, dtype=int64), array(22, dtype=int64), array(16, dtype=int64), array(17, dtype=int64), array(12, dtype=int64), array(11, dtype=int64), array(13, dtype=int64), array(13, dtype=int64), array(7, dtype=int64), array(3, dtype=int64), array(12, dtype=int64), array(9, dtype=int64), array(8, dtype=int64), array(11, dtype=int64), array(13, dtype=int64), array(15, dtype=int64), array(13, dtype=int64), array(8, dtype=int64), array(10, dtype=int64), array(14, dtype=int64), array(10, dtype=int64), array(4, dtype=int64), array(11, dtype=int64), array(16, dtype=int64), array(13, dtype=int64), array(12, dtype=int64), array(14, dtype=int64)]\n",
      "[array(12, dtype=int64), array(9, dtype=int64), array(4, dtype=int64), array(14, dtype=int64), array(19, dtype=int64), array(13, dtype=int64), array(8, dtype=int64), array(12, dtype=int64), array(8, dtype=int64), array(16, dtype=int64), array(9, dtype=int64), array(13, dtype=int64), array(18, dtype=int64), array(10, dtype=int64), array(13, dtype=int64), array(6, dtype=int64), array(5, dtype=int64), array(11, dtype=int64), array(18, dtype=int64), array(13, dtype=int64), array(16, dtype=int64), array(14, dtype=int64), array(8, dtype=int64), array(9, dtype=int64), array(10, dtype=int64), array(17, dtype=int64), array(15, dtype=int64), array(17, dtype=int64), array(9, dtype=int64), array(11, dtype=int64), array(12, dtype=int64), array(22, dtype=int64), array(16, dtype=int64), array(17, dtype=int64), array(12, dtype=int64), array(11, dtype=int64), array(13, dtype=int64), array(13, dtype=int64), array(7, dtype=int64), array(3, dtype=int64), array(12, dtype=int64), array(9, dtype=int64), array(8, dtype=int64), array(11, dtype=int64), array(13, dtype=int64), array(15, dtype=int64), array(13, dtype=int64), array(8, dtype=int64), array(10, dtype=int64), array(14, dtype=int64), array(10, dtype=int64), array(4, dtype=int64), array(11, dtype=int64), array(16, dtype=int64), array(13, dtype=int64), array(12, dtype=int64), array(14, dtype=int64), array(18, dtype=int64)]\n",
      "[array(12, dtype=int64), array(9, dtype=int64), array(4, dtype=int64), array(14, dtype=int64), array(19, dtype=int64), array(13, dtype=int64), array(8, dtype=int64), array(12, dtype=int64), array(8, dtype=int64), array(16, dtype=int64), array(9, dtype=int64), array(13, dtype=int64), array(18, dtype=int64), array(10, dtype=int64), array(13, dtype=int64), array(6, dtype=int64), array(5, dtype=int64), array(11, dtype=int64), array(18, dtype=int64), array(13, dtype=int64), array(16, dtype=int64), array(14, dtype=int64), array(8, dtype=int64), array(9, dtype=int64), array(10, dtype=int64), array(17, dtype=int64), array(15, dtype=int64), array(17, dtype=int64), array(9, dtype=int64), array(11, dtype=int64), array(12, dtype=int64), array(22, dtype=int64), array(16, dtype=int64), array(17, dtype=int64), array(12, dtype=int64), array(11, dtype=int64), array(13, dtype=int64), array(13, dtype=int64), array(7, dtype=int64), array(3, dtype=int64), array(12, dtype=int64), array(9, dtype=int64), array(8, dtype=int64), array(11, dtype=int64), array(13, dtype=int64), array(15, dtype=int64), array(13, dtype=int64), array(8, dtype=int64), array(10, dtype=int64), array(14, dtype=int64), array(10, dtype=int64), array(4, dtype=int64), array(11, dtype=int64), array(16, dtype=int64), array(13, dtype=int64), array(12, dtype=int64), array(14, dtype=int64), array(18, dtype=int64), array(13, dtype=int64)]\n",
      "[array(12, dtype=int64), array(9, dtype=int64), array(4, dtype=int64), array(14, dtype=int64), array(19, dtype=int64), array(13, dtype=int64), array(8, dtype=int64), array(12, dtype=int64), array(8, dtype=int64), array(16, dtype=int64), array(9, dtype=int64), array(13, dtype=int64), array(18, dtype=int64), array(10, dtype=int64), array(13, dtype=int64), array(6, dtype=int64), array(5, dtype=int64), array(11, dtype=int64), array(18, dtype=int64), array(13, dtype=int64), array(16, dtype=int64), array(14, dtype=int64), array(8, dtype=int64), array(9, dtype=int64), array(10, dtype=int64), array(17, dtype=int64), array(15, dtype=int64), array(17, dtype=int64), array(9, dtype=int64), array(11, dtype=int64), array(12, dtype=int64), array(22, dtype=int64), array(16, dtype=int64), array(17, dtype=int64), array(12, dtype=int64), array(11, dtype=int64), array(13, dtype=int64), array(13, dtype=int64), array(7, dtype=int64), array(3, dtype=int64), array(12, dtype=int64), array(9, dtype=int64), array(8, dtype=int64), array(11, dtype=int64), array(13, dtype=int64), array(15, dtype=int64), array(13, dtype=int64), array(8, dtype=int64), array(10, dtype=int64), array(14, dtype=int64), array(10, dtype=int64), array(4, dtype=int64), array(11, dtype=int64), array(16, dtype=int64), array(13, dtype=int64), array(12, dtype=int64), array(14, dtype=int64), array(18, dtype=int64), array(13, dtype=int64), array(20, dtype=int64)]\n",
      "[array(12, dtype=int64), array(9, dtype=int64), array(4, dtype=int64), array(14, dtype=int64), array(19, dtype=int64), array(13, dtype=int64), array(8, dtype=int64), array(12, dtype=int64), array(8, dtype=int64), array(16, dtype=int64), array(9, dtype=int64), array(13, dtype=int64), array(18, dtype=int64), array(10, dtype=int64), array(13, dtype=int64), array(6, dtype=int64), array(5, dtype=int64), array(11, dtype=int64), array(18, dtype=int64), array(13, dtype=int64), array(16, dtype=int64), array(14, dtype=int64), array(8, dtype=int64), array(9, dtype=int64), array(10, dtype=int64), array(17, dtype=int64), array(15, dtype=int64), array(17, dtype=int64), array(9, dtype=int64), array(11, dtype=int64), array(12, dtype=int64), array(22, dtype=int64), array(16, dtype=int64), array(17, dtype=int64), array(12, dtype=int64), array(11, dtype=int64), array(13, dtype=int64), array(13, dtype=int64), array(7, dtype=int64), array(3, dtype=int64), array(12, dtype=int64), array(9, dtype=int64), array(8, dtype=int64), array(11, dtype=int64), array(13, dtype=int64), array(15, dtype=int64), array(13, dtype=int64), array(8, dtype=int64), array(10, dtype=int64), array(14, dtype=int64), array(10, dtype=int64), array(4, dtype=int64), array(11, dtype=int64), array(16, dtype=int64), array(13, dtype=int64), array(12, dtype=int64), array(14, dtype=int64), array(18, dtype=int64), array(13, dtype=int64), array(20, dtype=int64), array(19, dtype=int64)]\n",
      "[array(12, dtype=int64), array(9, dtype=int64), array(4, dtype=int64), array(14, dtype=int64), array(19, dtype=int64), array(13, dtype=int64), array(8, dtype=int64), array(12, dtype=int64), array(8, dtype=int64), array(16, dtype=int64), array(9, dtype=int64), array(13, dtype=int64), array(18, dtype=int64), array(10, dtype=int64), array(13, dtype=int64), array(6, dtype=int64), array(5, dtype=int64), array(11, dtype=int64), array(18, dtype=int64), array(13, dtype=int64), array(16, dtype=int64), array(14, dtype=int64), array(8, dtype=int64), array(9, dtype=int64), array(10, dtype=int64), array(17, dtype=int64), array(15, dtype=int64), array(17, dtype=int64), array(9, dtype=int64), array(11, dtype=int64), array(12, dtype=int64), array(22, dtype=int64), array(16, dtype=int64), array(17, dtype=int64), array(12, dtype=int64), array(11, dtype=int64), array(13, dtype=int64), array(13, dtype=int64), array(7, dtype=int64), array(3, dtype=int64), array(12, dtype=int64), array(9, dtype=int64), array(8, dtype=int64), array(11, dtype=int64), array(13, dtype=int64), array(15, dtype=int64), array(13, dtype=int64), array(8, dtype=int64), array(10, dtype=int64), array(14, dtype=int64), array(10, dtype=int64), array(4, dtype=int64), array(11, dtype=int64), array(16, dtype=int64), array(13, dtype=int64), array(12, dtype=int64), array(14, dtype=int64), array(18, dtype=int64), array(13, dtype=int64), array(20, dtype=int64), array(19, dtype=int64), array(13, dtype=int64)]\n",
      "[array(12, dtype=int64), array(9, dtype=int64), array(4, dtype=int64), array(14, dtype=int64), array(19, dtype=int64), array(13, dtype=int64), array(8, dtype=int64), array(12, dtype=int64), array(8, dtype=int64), array(16, dtype=int64), array(9, dtype=int64), array(13, dtype=int64), array(18, dtype=int64), array(10, dtype=int64), array(13, dtype=int64), array(6, dtype=int64), array(5, dtype=int64), array(11, dtype=int64), array(18, dtype=int64), array(13, dtype=int64), array(16, dtype=int64), array(14, dtype=int64), array(8, dtype=int64), array(9, dtype=int64), array(10, dtype=int64), array(17, dtype=int64), array(15, dtype=int64), array(17, dtype=int64), array(9, dtype=int64), array(11, dtype=int64), array(12, dtype=int64), array(22, dtype=int64), array(16, dtype=int64), array(17, dtype=int64), array(12, dtype=int64), array(11, dtype=int64), array(13, dtype=int64), array(13, dtype=int64), array(7, dtype=int64), array(3, dtype=int64), array(12, dtype=int64), array(9, dtype=int64), array(8, dtype=int64), array(11, dtype=int64), array(13, dtype=int64), array(15, dtype=int64), array(13, dtype=int64), array(8, dtype=int64), array(10, dtype=int64), array(14, dtype=int64), array(10, dtype=int64), array(4, dtype=int64), array(11, dtype=int64), array(16, dtype=int64), array(13, dtype=int64), array(12, dtype=int64), array(14, dtype=int64), array(18, dtype=int64), array(13, dtype=int64), array(20, dtype=int64), array(19, dtype=int64), array(13, dtype=int64), array(9, dtype=int64)]\n",
      "[array(12, dtype=int64), array(9, dtype=int64), array(4, dtype=int64), array(14, dtype=int64), array(19, dtype=int64), array(13, dtype=int64), array(8, dtype=int64), array(12, dtype=int64), array(8, dtype=int64), array(16, dtype=int64), array(9, dtype=int64), array(13, dtype=int64), array(18, dtype=int64), array(10, dtype=int64), array(13, dtype=int64), array(6, dtype=int64), array(5, dtype=int64), array(11, dtype=int64), array(18, dtype=int64), array(13, dtype=int64), array(16, dtype=int64), array(14, dtype=int64), array(8, dtype=int64), array(9, dtype=int64), array(10, dtype=int64), array(17, dtype=int64), array(15, dtype=int64), array(17, dtype=int64), array(9, dtype=int64), array(11, dtype=int64), array(12, dtype=int64), array(22, dtype=int64), array(16, dtype=int64), array(17, dtype=int64), array(12, dtype=int64), array(11, dtype=int64), array(13, dtype=int64), array(13, dtype=int64), array(7, dtype=int64), array(3, dtype=int64), array(12, dtype=int64), array(9, dtype=int64), array(8, dtype=int64), array(11, dtype=int64), array(13, dtype=int64), array(15, dtype=int64), array(13, dtype=int64), array(8, dtype=int64), array(10, dtype=int64), array(14, dtype=int64), array(10, dtype=int64), array(4, dtype=int64), array(11, dtype=int64), array(16, dtype=int64), array(13, dtype=int64), array(12, dtype=int64), array(14, dtype=int64), array(18, dtype=int64), array(13, dtype=int64), array(20, dtype=int64), array(19, dtype=int64), array(13, dtype=int64), array(9, dtype=int64), array(3, dtype=int64)]\n",
      "[array(12, dtype=int64), array(9, dtype=int64), array(4, dtype=int64), array(14, dtype=int64), array(19, dtype=int64), array(13, dtype=int64), array(8, dtype=int64), array(12, dtype=int64), array(8, dtype=int64), array(16, dtype=int64), array(9, dtype=int64), array(13, dtype=int64), array(18, dtype=int64), array(10, dtype=int64), array(13, dtype=int64), array(6, dtype=int64), array(5, dtype=int64), array(11, dtype=int64), array(18, dtype=int64), array(13, dtype=int64), array(16, dtype=int64), array(14, dtype=int64), array(8, dtype=int64), array(9, dtype=int64), array(10, dtype=int64), array(17, dtype=int64), array(15, dtype=int64), array(17, dtype=int64), array(9, dtype=int64), array(11, dtype=int64), array(12, dtype=int64), array(22, dtype=int64), array(16, dtype=int64), array(17, dtype=int64), array(12, dtype=int64), array(11, dtype=int64), array(13, dtype=int64), array(13, dtype=int64), array(7, dtype=int64), array(3, dtype=int64), array(12, dtype=int64), array(9, dtype=int64), array(8, dtype=int64), array(11, dtype=int64), array(13, dtype=int64), array(15, dtype=int64), array(13, dtype=int64), array(8, dtype=int64), array(10, dtype=int64), array(14, dtype=int64), array(10, dtype=int64), array(4, dtype=int64), array(11, dtype=int64), array(16, dtype=int64), array(13, dtype=int64), array(12, dtype=int64), array(14, dtype=int64), array(18, dtype=int64), array(13, dtype=int64), array(20, dtype=int64), array(19, dtype=int64), array(13, dtype=int64), array(9, dtype=int64), array(3, dtype=int64), array(11, dtype=int64)]\n",
      "[array(12, dtype=int64), array(9, dtype=int64), array(4, dtype=int64), array(14, dtype=int64), array(19, dtype=int64), array(13, dtype=int64), array(8, dtype=int64), array(12, dtype=int64), array(8, dtype=int64), array(16, dtype=int64), array(9, dtype=int64), array(13, dtype=int64), array(18, dtype=int64), array(10, dtype=int64), array(13, dtype=int64), array(6, dtype=int64), array(5, dtype=int64), array(11, dtype=int64), array(18, dtype=int64), array(13, dtype=int64), array(16, dtype=int64), array(14, dtype=int64), array(8, dtype=int64), array(9, dtype=int64), array(10, dtype=int64), array(17, dtype=int64), array(15, dtype=int64), array(17, dtype=int64), array(9, dtype=int64), array(11, dtype=int64), array(12, dtype=int64), array(22, dtype=int64), array(16, dtype=int64), array(17, dtype=int64), array(12, dtype=int64), array(11, dtype=int64), array(13, dtype=int64), array(13, dtype=int64), array(7, dtype=int64), array(3, dtype=int64), array(12, dtype=int64), array(9, dtype=int64), array(8, dtype=int64), array(11, dtype=int64), array(13, dtype=int64), array(15, dtype=int64), array(13, dtype=int64), array(8, dtype=int64), array(10, dtype=int64), array(14, dtype=int64), array(10, dtype=int64), array(4, dtype=int64), array(11, dtype=int64), array(16, dtype=int64), array(13, dtype=int64), array(12, dtype=int64), array(14, dtype=int64), array(18, dtype=int64), array(13, dtype=int64), array(20, dtype=int64), array(19, dtype=int64), array(13, dtype=int64), array(9, dtype=int64), array(3, dtype=int64), array(11, dtype=int64), array(4, dtype=int64)]\n",
      "[array(12, dtype=int64), array(9, dtype=int64), array(4, dtype=int64), array(14, dtype=int64), array(19, dtype=int64), array(13, dtype=int64), array(8, dtype=int64), array(12, dtype=int64), array(8, dtype=int64), array(16, dtype=int64), array(9, dtype=int64), array(13, dtype=int64), array(18, dtype=int64), array(10, dtype=int64), array(13, dtype=int64), array(6, dtype=int64), array(5, dtype=int64), array(11, dtype=int64), array(18, dtype=int64), array(13, dtype=int64), array(16, dtype=int64), array(14, dtype=int64), array(8, dtype=int64), array(9, dtype=int64), array(10, dtype=int64), array(17, dtype=int64), array(15, dtype=int64), array(17, dtype=int64), array(9, dtype=int64), array(11, dtype=int64), array(12, dtype=int64), array(22, dtype=int64), array(16, dtype=int64), array(17, dtype=int64), array(12, dtype=int64), array(11, dtype=int64), array(13, dtype=int64), array(13, dtype=int64), array(7, dtype=int64), array(3, dtype=int64), array(12, dtype=int64), array(9, dtype=int64), array(8, dtype=int64), array(11, dtype=int64), array(13, dtype=int64), array(15, dtype=int64), array(13, dtype=int64), array(8, dtype=int64), array(10, dtype=int64), array(14, dtype=int64), array(10, dtype=int64), array(4, dtype=int64), array(11, dtype=int64), array(16, dtype=int64), array(13, dtype=int64), array(12, dtype=int64), array(14, dtype=int64), array(18, dtype=int64), array(13, dtype=int64), array(20, dtype=int64), array(19, dtype=int64), array(13, dtype=int64), array(9, dtype=int64), array(3, dtype=int64), array(11, dtype=int64), array(4, dtype=int64), array(9, dtype=int64)]\n",
      "[array(12, dtype=int64), array(9, dtype=int64), array(4, dtype=int64), array(14, dtype=int64), array(19, dtype=int64), array(13, dtype=int64), array(8, dtype=int64), array(12, dtype=int64), array(8, dtype=int64), array(16, dtype=int64), array(9, dtype=int64), array(13, dtype=int64), array(18, dtype=int64), array(10, dtype=int64), array(13, dtype=int64), array(6, dtype=int64), array(5, dtype=int64), array(11, dtype=int64), array(18, dtype=int64), array(13, dtype=int64), array(16, dtype=int64), array(14, dtype=int64), array(8, dtype=int64), array(9, dtype=int64), array(10, dtype=int64), array(17, dtype=int64), array(15, dtype=int64), array(17, dtype=int64), array(9, dtype=int64), array(11, dtype=int64), array(12, dtype=int64), array(22, dtype=int64), array(16, dtype=int64), array(17, dtype=int64), array(12, dtype=int64), array(11, dtype=int64), array(13, dtype=int64), array(13, dtype=int64), array(7, dtype=int64), array(3, dtype=int64), array(12, dtype=int64), array(9, dtype=int64), array(8, dtype=int64), array(11, dtype=int64), array(13, dtype=int64), array(15, dtype=int64), array(13, dtype=int64), array(8, dtype=int64), array(10, dtype=int64), array(14, dtype=int64), array(10, dtype=int64), array(4, dtype=int64), array(11, dtype=int64), array(16, dtype=int64), array(13, dtype=int64), array(12, dtype=int64), array(14, dtype=int64), array(18, dtype=int64), array(13, dtype=int64), array(20, dtype=int64), array(19, dtype=int64), array(13, dtype=int64), array(9, dtype=int64), array(3, dtype=int64), array(11, dtype=int64), array(4, dtype=int64), array(9, dtype=int64), array(17, dtype=int64)]\n",
      "[array(12, dtype=int64), array(9, dtype=int64), array(4, dtype=int64), array(14, dtype=int64), array(19, dtype=int64), array(13, dtype=int64), array(8, dtype=int64), array(12, dtype=int64), array(8, dtype=int64), array(16, dtype=int64), array(9, dtype=int64), array(13, dtype=int64), array(18, dtype=int64), array(10, dtype=int64), array(13, dtype=int64), array(6, dtype=int64), array(5, dtype=int64), array(11, dtype=int64), array(18, dtype=int64), array(13, dtype=int64), array(16, dtype=int64), array(14, dtype=int64), array(8, dtype=int64), array(9, dtype=int64), array(10, dtype=int64), array(17, dtype=int64), array(15, dtype=int64), array(17, dtype=int64), array(9, dtype=int64), array(11, dtype=int64), array(12, dtype=int64), array(22, dtype=int64), array(16, dtype=int64), array(17, dtype=int64), array(12, dtype=int64), array(11, dtype=int64), array(13, dtype=int64), array(13, dtype=int64), array(7, dtype=int64), array(3, dtype=int64), array(12, dtype=int64), array(9, dtype=int64), array(8, dtype=int64), array(11, dtype=int64), array(13, dtype=int64), array(15, dtype=int64), array(13, dtype=int64), array(8, dtype=int64), array(10, dtype=int64), array(14, dtype=int64), array(10, dtype=int64), array(4, dtype=int64), array(11, dtype=int64), array(16, dtype=int64), array(13, dtype=int64), array(12, dtype=int64), array(14, dtype=int64), array(18, dtype=int64), array(13, dtype=int64), array(20, dtype=int64), array(19, dtype=int64), array(13, dtype=int64), array(9, dtype=int64), array(3, dtype=int64), array(11, dtype=int64), array(4, dtype=int64), array(9, dtype=int64), array(17, dtype=int64), array(21, dtype=int64)]\n",
      "[array(12, dtype=int64), array(9, dtype=int64), array(4, dtype=int64), array(14, dtype=int64), array(19, dtype=int64), array(13, dtype=int64), array(8, dtype=int64), array(12, dtype=int64), array(8, dtype=int64), array(16, dtype=int64), array(9, dtype=int64), array(13, dtype=int64), array(18, dtype=int64), array(10, dtype=int64), array(13, dtype=int64), array(6, dtype=int64), array(5, dtype=int64), array(11, dtype=int64), array(18, dtype=int64), array(13, dtype=int64), array(16, dtype=int64), array(14, dtype=int64), array(8, dtype=int64), array(9, dtype=int64), array(10, dtype=int64), array(17, dtype=int64), array(15, dtype=int64), array(17, dtype=int64), array(9, dtype=int64), array(11, dtype=int64), array(12, dtype=int64), array(22, dtype=int64), array(16, dtype=int64), array(17, dtype=int64), array(12, dtype=int64), array(11, dtype=int64), array(13, dtype=int64), array(13, dtype=int64), array(7, dtype=int64), array(3, dtype=int64), array(12, dtype=int64), array(9, dtype=int64), array(8, dtype=int64), array(11, dtype=int64), array(13, dtype=int64), array(15, dtype=int64), array(13, dtype=int64), array(8, dtype=int64), array(10, dtype=int64), array(14, dtype=int64), array(10, dtype=int64), array(4, dtype=int64), array(11, dtype=int64), array(16, dtype=int64), array(13, dtype=int64), array(12, dtype=int64), array(14, dtype=int64), array(18, dtype=int64), array(13, dtype=int64), array(20, dtype=int64), array(19, dtype=int64), array(13, dtype=int64), array(9, dtype=int64), array(3, dtype=int64), array(11, dtype=int64), array(4, dtype=int64), array(9, dtype=int64), array(17, dtype=int64), array(21, dtype=int64), array(14, dtype=int64)]\n",
      "[array(12, dtype=int64), array(9, dtype=int64), array(4, dtype=int64), array(14, dtype=int64), array(19, dtype=int64), array(13, dtype=int64), array(8, dtype=int64), array(12, dtype=int64), array(8, dtype=int64), array(16, dtype=int64), array(9, dtype=int64), array(13, dtype=int64), array(18, dtype=int64), array(10, dtype=int64), array(13, dtype=int64), array(6, dtype=int64), array(5, dtype=int64), array(11, dtype=int64), array(18, dtype=int64), array(13, dtype=int64), array(16, dtype=int64), array(14, dtype=int64), array(8, dtype=int64), array(9, dtype=int64), array(10, dtype=int64), array(17, dtype=int64), array(15, dtype=int64), array(17, dtype=int64), array(9, dtype=int64), array(11, dtype=int64), array(12, dtype=int64), array(22, dtype=int64), array(16, dtype=int64), array(17, dtype=int64), array(12, dtype=int64), array(11, dtype=int64), array(13, dtype=int64), array(13, dtype=int64), array(7, dtype=int64), array(3, dtype=int64), array(12, dtype=int64), array(9, dtype=int64), array(8, dtype=int64), array(11, dtype=int64), array(13, dtype=int64), array(15, dtype=int64), array(13, dtype=int64), array(8, dtype=int64), array(10, dtype=int64), array(14, dtype=int64), array(10, dtype=int64), array(4, dtype=int64), array(11, dtype=int64), array(16, dtype=int64), array(13, dtype=int64), array(12, dtype=int64), array(14, dtype=int64), array(18, dtype=int64), array(13, dtype=int64), array(20, dtype=int64), array(19, dtype=int64), array(13, dtype=int64), array(9, dtype=int64), array(3, dtype=int64), array(11, dtype=int64), array(4, dtype=int64), array(9, dtype=int64), array(17, dtype=int64), array(21, dtype=int64), array(14, dtype=int64), array(15, dtype=int64)]\n",
      "[array(12, dtype=int64), array(9, dtype=int64), array(4, dtype=int64), array(14, dtype=int64), array(19, dtype=int64), array(13, dtype=int64), array(8, dtype=int64), array(12, dtype=int64), array(8, dtype=int64), array(16, dtype=int64), array(9, dtype=int64), array(13, dtype=int64), array(18, dtype=int64), array(10, dtype=int64), array(13, dtype=int64), array(6, dtype=int64), array(5, dtype=int64), array(11, dtype=int64), array(18, dtype=int64), array(13, dtype=int64), array(16, dtype=int64), array(14, dtype=int64), array(8, dtype=int64), array(9, dtype=int64), array(10, dtype=int64), array(17, dtype=int64), array(15, dtype=int64), array(17, dtype=int64), array(9, dtype=int64), array(11, dtype=int64), array(12, dtype=int64), array(22, dtype=int64), array(16, dtype=int64), array(17, dtype=int64), array(12, dtype=int64), array(11, dtype=int64), array(13, dtype=int64), array(13, dtype=int64), array(7, dtype=int64), array(3, dtype=int64), array(12, dtype=int64), array(9, dtype=int64), array(8, dtype=int64), array(11, dtype=int64), array(13, dtype=int64), array(15, dtype=int64), array(13, dtype=int64), array(8, dtype=int64), array(10, dtype=int64), array(14, dtype=int64), array(10, dtype=int64), array(4, dtype=int64), array(11, dtype=int64), array(16, dtype=int64), array(13, dtype=int64), array(12, dtype=int64), array(14, dtype=int64), array(18, dtype=int64), array(13, dtype=int64), array(20, dtype=int64), array(19, dtype=int64), array(13, dtype=int64), array(9, dtype=int64), array(3, dtype=int64), array(11, dtype=int64), array(4, dtype=int64), array(9, dtype=int64), array(17, dtype=int64), array(21, dtype=int64), array(14, dtype=int64), array(15, dtype=int64), array(14, dtype=int64)]\n",
      "[array(12, dtype=int64), array(9, dtype=int64), array(4, dtype=int64), array(14, dtype=int64), array(19, dtype=int64), array(13, dtype=int64), array(8, dtype=int64), array(12, dtype=int64), array(8, dtype=int64), array(16, dtype=int64), array(9, dtype=int64), array(13, dtype=int64), array(18, dtype=int64), array(10, dtype=int64), array(13, dtype=int64), array(6, dtype=int64), array(5, dtype=int64), array(11, dtype=int64), array(18, dtype=int64), array(13, dtype=int64), array(16, dtype=int64), array(14, dtype=int64), array(8, dtype=int64), array(9, dtype=int64), array(10, dtype=int64), array(17, dtype=int64), array(15, dtype=int64), array(17, dtype=int64), array(9, dtype=int64), array(11, dtype=int64), array(12, dtype=int64), array(22, dtype=int64), array(16, dtype=int64), array(17, dtype=int64), array(12, dtype=int64), array(11, dtype=int64), array(13, dtype=int64), array(13, dtype=int64), array(7, dtype=int64), array(3, dtype=int64), array(12, dtype=int64), array(9, dtype=int64), array(8, dtype=int64), array(11, dtype=int64), array(13, dtype=int64), array(15, dtype=int64), array(13, dtype=int64), array(8, dtype=int64), array(10, dtype=int64), array(14, dtype=int64), array(10, dtype=int64), array(4, dtype=int64), array(11, dtype=int64), array(16, dtype=int64), array(13, dtype=int64), array(12, dtype=int64), array(14, dtype=int64), array(18, dtype=int64), array(13, dtype=int64), array(20, dtype=int64), array(19, dtype=int64), array(13, dtype=int64), array(9, dtype=int64), array(3, dtype=int64), array(11, dtype=int64), array(4, dtype=int64), array(9, dtype=int64), array(17, dtype=int64), array(21, dtype=int64), array(14, dtype=int64), array(15, dtype=int64), array(14, dtype=int64), array(13, dtype=int64)]\n",
      "[array(12, dtype=int64), array(9, dtype=int64), array(4, dtype=int64), array(14, dtype=int64), array(19, dtype=int64), array(13, dtype=int64), array(8, dtype=int64), array(12, dtype=int64), array(8, dtype=int64), array(16, dtype=int64), array(9, dtype=int64), array(13, dtype=int64), array(18, dtype=int64), array(10, dtype=int64), array(13, dtype=int64), array(6, dtype=int64), array(5, dtype=int64), array(11, dtype=int64), array(18, dtype=int64), array(13, dtype=int64), array(16, dtype=int64), array(14, dtype=int64), array(8, dtype=int64), array(9, dtype=int64), array(10, dtype=int64), array(17, dtype=int64), array(15, dtype=int64), array(17, dtype=int64), array(9, dtype=int64), array(11, dtype=int64), array(12, dtype=int64), array(22, dtype=int64), array(16, dtype=int64), array(17, dtype=int64), array(12, dtype=int64), array(11, dtype=int64), array(13, dtype=int64), array(13, dtype=int64), array(7, dtype=int64), array(3, dtype=int64), array(12, dtype=int64), array(9, dtype=int64), array(8, dtype=int64), array(11, dtype=int64), array(13, dtype=int64), array(15, dtype=int64), array(13, dtype=int64), array(8, dtype=int64), array(10, dtype=int64), array(14, dtype=int64), array(10, dtype=int64), array(4, dtype=int64), array(11, dtype=int64), array(16, dtype=int64), array(13, dtype=int64), array(12, dtype=int64), array(14, dtype=int64), array(18, dtype=int64), array(13, dtype=int64), array(20, dtype=int64), array(19, dtype=int64), array(13, dtype=int64), array(9, dtype=int64), array(3, dtype=int64), array(11, dtype=int64), array(4, dtype=int64), array(9, dtype=int64), array(17, dtype=int64), array(21, dtype=int64), array(14, dtype=int64), array(15, dtype=int64), array(14, dtype=int64), array(13, dtype=int64), array(9, dtype=int64)]\n",
      "[array(12, dtype=int64), array(9, dtype=int64), array(4, dtype=int64), array(14, dtype=int64), array(19, dtype=int64), array(13, dtype=int64), array(8, dtype=int64), array(12, dtype=int64), array(8, dtype=int64), array(16, dtype=int64), array(9, dtype=int64), array(13, dtype=int64), array(18, dtype=int64), array(10, dtype=int64), array(13, dtype=int64), array(6, dtype=int64), array(5, dtype=int64), array(11, dtype=int64), array(18, dtype=int64), array(13, dtype=int64), array(16, dtype=int64), array(14, dtype=int64), array(8, dtype=int64), array(9, dtype=int64), array(10, dtype=int64), array(17, dtype=int64), array(15, dtype=int64), array(17, dtype=int64), array(9, dtype=int64), array(11, dtype=int64), array(12, dtype=int64), array(22, dtype=int64), array(16, dtype=int64), array(17, dtype=int64), array(12, dtype=int64), array(11, dtype=int64), array(13, dtype=int64), array(13, dtype=int64), array(7, dtype=int64), array(3, dtype=int64), array(12, dtype=int64), array(9, dtype=int64), array(8, dtype=int64), array(11, dtype=int64), array(13, dtype=int64), array(15, dtype=int64), array(13, dtype=int64), array(8, dtype=int64), array(10, dtype=int64), array(14, dtype=int64), array(10, dtype=int64), array(4, dtype=int64), array(11, dtype=int64), array(16, dtype=int64), array(13, dtype=int64), array(12, dtype=int64), array(14, dtype=int64), array(18, dtype=int64), array(13, dtype=int64), array(20, dtype=int64), array(19, dtype=int64), array(13, dtype=int64), array(9, dtype=int64), array(3, dtype=int64), array(11, dtype=int64), array(4, dtype=int64), array(9, dtype=int64), array(17, dtype=int64), array(21, dtype=int64), array(14, dtype=int64), array(15, dtype=int64), array(14, dtype=int64), array(13, dtype=int64), array(9, dtype=int64), array(12, dtype=int64)]\n",
      "[array(12, dtype=int64), array(9, dtype=int64), array(4, dtype=int64), array(14, dtype=int64), array(19, dtype=int64), array(13, dtype=int64), array(8, dtype=int64), array(12, dtype=int64), array(8, dtype=int64), array(16, dtype=int64), array(9, dtype=int64), array(13, dtype=int64), array(18, dtype=int64), array(10, dtype=int64), array(13, dtype=int64), array(6, dtype=int64), array(5, dtype=int64), array(11, dtype=int64), array(18, dtype=int64), array(13, dtype=int64), array(16, dtype=int64), array(14, dtype=int64), array(8, dtype=int64), array(9, dtype=int64), array(10, dtype=int64), array(17, dtype=int64), array(15, dtype=int64), array(17, dtype=int64), array(9, dtype=int64), array(11, dtype=int64), array(12, dtype=int64), array(22, dtype=int64), array(16, dtype=int64), array(17, dtype=int64), array(12, dtype=int64), array(11, dtype=int64), array(13, dtype=int64), array(13, dtype=int64), array(7, dtype=int64), array(3, dtype=int64), array(12, dtype=int64), array(9, dtype=int64), array(8, dtype=int64), array(11, dtype=int64), array(13, dtype=int64), array(15, dtype=int64), array(13, dtype=int64), array(8, dtype=int64), array(10, dtype=int64), array(14, dtype=int64), array(10, dtype=int64), array(4, dtype=int64), array(11, dtype=int64), array(16, dtype=int64), array(13, dtype=int64), array(12, dtype=int64), array(14, dtype=int64), array(18, dtype=int64), array(13, dtype=int64), array(20, dtype=int64), array(19, dtype=int64), array(13, dtype=int64), array(9, dtype=int64), array(3, dtype=int64), array(11, dtype=int64), array(4, dtype=int64), array(9, dtype=int64), array(17, dtype=int64), array(21, dtype=int64), array(14, dtype=int64), array(15, dtype=int64), array(14, dtype=int64), array(13, dtype=int64), array(9, dtype=int64), array(12, dtype=int64), array(11, dtype=int64)]\n",
      "[array(12, dtype=int64), array(9, dtype=int64), array(4, dtype=int64), array(14, dtype=int64), array(19, dtype=int64), array(13, dtype=int64), array(8, dtype=int64), array(12, dtype=int64), array(8, dtype=int64), array(16, dtype=int64), array(9, dtype=int64), array(13, dtype=int64), array(18, dtype=int64), array(10, dtype=int64), array(13, dtype=int64), array(6, dtype=int64), array(5, dtype=int64), array(11, dtype=int64), array(18, dtype=int64), array(13, dtype=int64), array(16, dtype=int64), array(14, dtype=int64), array(8, dtype=int64), array(9, dtype=int64), array(10, dtype=int64), array(17, dtype=int64), array(15, dtype=int64), array(17, dtype=int64), array(9, dtype=int64), array(11, dtype=int64), array(12, dtype=int64), array(22, dtype=int64), array(16, dtype=int64), array(17, dtype=int64), array(12, dtype=int64), array(11, dtype=int64), array(13, dtype=int64), array(13, dtype=int64), array(7, dtype=int64), array(3, dtype=int64), array(12, dtype=int64), array(9, dtype=int64), array(8, dtype=int64), array(11, dtype=int64), array(13, dtype=int64), array(15, dtype=int64), array(13, dtype=int64), array(8, dtype=int64), array(10, dtype=int64), array(14, dtype=int64), array(10, dtype=int64), array(4, dtype=int64), array(11, dtype=int64), array(16, dtype=int64), array(13, dtype=int64), array(12, dtype=int64), array(14, dtype=int64), array(18, dtype=int64), array(13, dtype=int64), array(20, dtype=int64), array(19, dtype=int64), array(13, dtype=int64), array(9, dtype=int64), array(3, dtype=int64), array(11, dtype=int64), array(4, dtype=int64), array(9, dtype=int64), array(17, dtype=int64), array(21, dtype=int64), array(14, dtype=int64), array(15, dtype=int64), array(14, dtype=int64), array(13, dtype=int64), array(9, dtype=int64), array(12, dtype=int64), array(11, dtype=int64), array(17, dtype=int64)]\n",
      "[array(12, dtype=int64), array(9, dtype=int64), array(4, dtype=int64), array(14, dtype=int64), array(19, dtype=int64), array(13, dtype=int64), array(8, dtype=int64), array(12, dtype=int64), array(8, dtype=int64), array(16, dtype=int64), array(9, dtype=int64), array(13, dtype=int64), array(18, dtype=int64), array(10, dtype=int64), array(13, dtype=int64), array(6, dtype=int64), array(5, dtype=int64), array(11, dtype=int64), array(18, dtype=int64), array(13, dtype=int64), array(16, dtype=int64), array(14, dtype=int64), array(8, dtype=int64), array(9, dtype=int64), array(10, dtype=int64), array(17, dtype=int64), array(15, dtype=int64), array(17, dtype=int64), array(9, dtype=int64), array(11, dtype=int64), array(12, dtype=int64), array(22, dtype=int64), array(16, dtype=int64), array(17, dtype=int64), array(12, dtype=int64), array(11, dtype=int64), array(13, dtype=int64), array(13, dtype=int64), array(7, dtype=int64), array(3, dtype=int64), array(12, dtype=int64), array(9, dtype=int64), array(8, dtype=int64), array(11, dtype=int64), array(13, dtype=int64), array(15, dtype=int64), array(13, dtype=int64), array(8, dtype=int64), array(10, dtype=int64), array(14, dtype=int64), array(10, dtype=int64), array(4, dtype=int64), array(11, dtype=int64), array(16, dtype=int64), array(13, dtype=int64), array(12, dtype=int64), array(14, dtype=int64), array(18, dtype=int64), array(13, dtype=int64), array(20, dtype=int64), array(19, dtype=int64), array(13, dtype=int64), array(9, dtype=int64), array(3, dtype=int64), array(11, dtype=int64), array(4, dtype=int64), array(9, dtype=int64), array(17, dtype=int64), array(21, dtype=int64), array(14, dtype=int64), array(15, dtype=int64), array(14, dtype=int64), array(13, dtype=int64), array(9, dtype=int64), array(12, dtype=int64), array(11, dtype=int64), array(17, dtype=int64), array(16, dtype=int64)]\n",
      "[array(12, dtype=int64), array(9, dtype=int64), array(4, dtype=int64), array(14, dtype=int64), array(19, dtype=int64), array(13, dtype=int64), array(8, dtype=int64), array(12, dtype=int64), array(8, dtype=int64), array(16, dtype=int64), array(9, dtype=int64), array(13, dtype=int64), array(18, dtype=int64), array(10, dtype=int64), array(13, dtype=int64), array(6, dtype=int64), array(5, dtype=int64), array(11, dtype=int64), array(18, dtype=int64), array(13, dtype=int64), array(16, dtype=int64), array(14, dtype=int64), array(8, dtype=int64), array(9, dtype=int64), array(10, dtype=int64), array(17, dtype=int64), array(15, dtype=int64), array(17, dtype=int64), array(9, dtype=int64), array(11, dtype=int64), array(12, dtype=int64), array(22, dtype=int64), array(16, dtype=int64), array(17, dtype=int64), array(12, dtype=int64), array(11, dtype=int64), array(13, dtype=int64), array(13, dtype=int64), array(7, dtype=int64), array(3, dtype=int64), array(12, dtype=int64), array(9, dtype=int64), array(8, dtype=int64), array(11, dtype=int64), array(13, dtype=int64), array(15, dtype=int64), array(13, dtype=int64), array(8, dtype=int64), array(10, dtype=int64), array(14, dtype=int64), array(10, dtype=int64), array(4, dtype=int64), array(11, dtype=int64), array(16, dtype=int64), array(13, dtype=int64), array(12, dtype=int64), array(14, dtype=int64), array(18, dtype=int64), array(13, dtype=int64), array(20, dtype=int64), array(19, dtype=int64), array(13, dtype=int64), array(9, dtype=int64), array(3, dtype=int64), array(11, dtype=int64), array(4, dtype=int64), array(9, dtype=int64), array(17, dtype=int64), array(21, dtype=int64), array(14, dtype=int64), array(15, dtype=int64), array(14, dtype=int64), array(13, dtype=int64), array(9, dtype=int64), array(12, dtype=int64), array(11, dtype=int64), array(17, dtype=int64), array(16, dtype=int64), array(15, dtype=int64)]\n",
      "[array(12, dtype=int64), array(9, dtype=int64), array(4, dtype=int64), array(14, dtype=int64), array(19, dtype=int64), array(13, dtype=int64), array(8, dtype=int64), array(12, dtype=int64), array(8, dtype=int64), array(16, dtype=int64), array(9, dtype=int64), array(13, dtype=int64), array(18, dtype=int64), array(10, dtype=int64), array(13, dtype=int64), array(6, dtype=int64), array(5, dtype=int64), array(11, dtype=int64), array(18, dtype=int64), array(13, dtype=int64), array(16, dtype=int64), array(14, dtype=int64), array(8, dtype=int64), array(9, dtype=int64), array(10, dtype=int64), array(17, dtype=int64), array(15, dtype=int64), array(17, dtype=int64), array(9, dtype=int64), array(11, dtype=int64), array(12, dtype=int64), array(22, dtype=int64), array(16, dtype=int64), array(17, dtype=int64), array(12, dtype=int64), array(11, dtype=int64), array(13, dtype=int64), array(13, dtype=int64), array(7, dtype=int64), array(3, dtype=int64), array(12, dtype=int64), array(9, dtype=int64), array(8, dtype=int64), array(11, dtype=int64), array(13, dtype=int64), array(15, dtype=int64), array(13, dtype=int64), array(8, dtype=int64), array(10, dtype=int64), array(14, dtype=int64), array(10, dtype=int64), array(4, dtype=int64), array(11, dtype=int64), array(16, dtype=int64), array(13, dtype=int64), array(12, dtype=int64), array(14, dtype=int64), array(18, dtype=int64), array(13, dtype=int64), array(20, dtype=int64), array(19, dtype=int64), array(13, dtype=int64), array(9, dtype=int64), array(3, dtype=int64), array(11, dtype=int64), array(4, dtype=int64), array(9, dtype=int64), array(17, dtype=int64), array(21, dtype=int64), array(14, dtype=int64), array(15, dtype=int64), array(14, dtype=int64), array(13, dtype=int64), array(9, dtype=int64), array(12, dtype=int64), array(11, dtype=int64), array(17, dtype=int64), array(16, dtype=int64), array(15, dtype=int64), array(15, dtype=int64)]\n",
      "[array(12, dtype=int64), array(9, dtype=int64), array(4, dtype=int64), array(14, dtype=int64), array(19, dtype=int64), array(13, dtype=int64), array(8, dtype=int64), array(12, dtype=int64), array(8, dtype=int64), array(16, dtype=int64), array(9, dtype=int64), array(13, dtype=int64), array(18, dtype=int64), array(10, dtype=int64), array(13, dtype=int64), array(6, dtype=int64), array(5, dtype=int64), array(11, dtype=int64), array(18, dtype=int64), array(13, dtype=int64), array(16, dtype=int64), array(14, dtype=int64), array(8, dtype=int64), array(9, dtype=int64), array(10, dtype=int64), array(17, dtype=int64), array(15, dtype=int64), array(17, dtype=int64), array(9, dtype=int64), array(11, dtype=int64), array(12, dtype=int64), array(22, dtype=int64), array(16, dtype=int64), array(17, dtype=int64), array(12, dtype=int64), array(11, dtype=int64), array(13, dtype=int64), array(13, dtype=int64), array(7, dtype=int64), array(3, dtype=int64), array(12, dtype=int64), array(9, dtype=int64), array(8, dtype=int64), array(11, dtype=int64), array(13, dtype=int64), array(15, dtype=int64), array(13, dtype=int64), array(8, dtype=int64), array(10, dtype=int64), array(14, dtype=int64), array(10, dtype=int64), array(4, dtype=int64), array(11, dtype=int64), array(16, dtype=int64), array(13, dtype=int64), array(12, dtype=int64), array(14, dtype=int64), array(18, dtype=int64), array(13, dtype=int64), array(20, dtype=int64), array(19, dtype=int64), array(13, dtype=int64), array(9, dtype=int64), array(3, dtype=int64), array(11, dtype=int64), array(4, dtype=int64), array(9, dtype=int64), array(17, dtype=int64), array(21, dtype=int64), array(14, dtype=int64), array(15, dtype=int64), array(14, dtype=int64), array(13, dtype=int64), array(9, dtype=int64), array(12, dtype=int64), array(11, dtype=int64), array(17, dtype=int64), array(16, dtype=int64), array(15, dtype=int64), array(15, dtype=int64), array(11, dtype=int64)]\n",
      "[array(12, dtype=int64), array(9, dtype=int64), array(4, dtype=int64), array(14, dtype=int64), array(19, dtype=int64), array(13, dtype=int64), array(8, dtype=int64), array(12, dtype=int64), array(8, dtype=int64), array(16, dtype=int64), array(9, dtype=int64), array(13, dtype=int64), array(18, dtype=int64), array(10, dtype=int64), array(13, dtype=int64), array(6, dtype=int64), array(5, dtype=int64), array(11, dtype=int64), array(18, dtype=int64), array(13, dtype=int64), array(16, dtype=int64), array(14, dtype=int64), array(8, dtype=int64), array(9, dtype=int64), array(10, dtype=int64), array(17, dtype=int64), array(15, dtype=int64), array(17, dtype=int64), array(9, dtype=int64), array(11, dtype=int64), array(12, dtype=int64), array(22, dtype=int64), array(16, dtype=int64), array(17, dtype=int64), array(12, dtype=int64), array(11, dtype=int64), array(13, dtype=int64), array(13, dtype=int64), array(7, dtype=int64), array(3, dtype=int64), array(12, dtype=int64), array(9, dtype=int64), array(8, dtype=int64), array(11, dtype=int64), array(13, dtype=int64), array(15, dtype=int64), array(13, dtype=int64), array(8, dtype=int64), array(10, dtype=int64), array(14, dtype=int64), array(10, dtype=int64), array(4, dtype=int64), array(11, dtype=int64), array(16, dtype=int64), array(13, dtype=int64), array(12, dtype=int64), array(14, dtype=int64), array(18, dtype=int64), array(13, dtype=int64), array(20, dtype=int64), array(19, dtype=int64), array(13, dtype=int64), array(9, dtype=int64), array(3, dtype=int64), array(11, dtype=int64), array(4, dtype=int64), array(9, dtype=int64), array(17, dtype=int64), array(21, dtype=int64), array(14, dtype=int64), array(15, dtype=int64), array(14, dtype=int64), array(13, dtype=int64), array(9, dtype=int64), array(12, dtype=int64), array(11, dtype=int64), array(17, dtype=int64), array(16, dtype=int64), array(15, dtype=int64), array(15, dtype=int64), array(11, dtype=int64), array(15, dtype=int64)]\n",
      "[array(12, dtype=int64), array(9, dtype=int64), array(4, dtype=int64), array(14, dtype=int64), array(19, dtype=int64), array(13, dtype=int64), array(8, dtype=int64), array(12, dtype=int64), array(8, dtype=int64), array(16, dtype=int64), array(9, dtype=int64), array(13, dtype=int64), array(18, dtype=int64), array(10, dtype=int64), array(13, dtype=int64), array(6, dtype=int64), array(5, dtype=int64), array(11, dtype=int64), array(18, dtype=int64), array(13, dtype=int64), array(16, dtype=int64), array(14, dtype=int64), array(8, dtype=int64), array(9, dtype=int64), array(10, dtype=int64), array(17, dtype=int64), array(15, dtype=int64), array(17, dtype=int64), array(9, dtype=int64), array(11, dtype=int64), array(12, dtype=int64), array(22, dtype=int64), array(16, dtype=int64), array(17, dtype=int64), array(12, dtype=int64), array(11, dtype=int64), array(13, dtype=int64), array(13, dtype=int64), array(7, dtype=int64), array(3, dtype=int64), array(12, dtype=int64), array(9, dtype=int64), array(8, dtype=int64), array(11, dtype=int64), array(13, dtype=int64), array(15, dtype=int64), array(13, dtype=int64), array(8, dtype=int64), array(10, dtype=int64), array(14, dtype=int64), array(10, dtype=int64), array(4, dtype=int64), array(11, dtype=int64), array(16, dtype=int64), array(13, dtype=int64), array(12, dtype=int64), array(14, dtype=int64), array(18, dtype=int64), array(13, dtype=int64), array(20, dtype=int64), array(19, dtype=int64), array(13, dtype=int64), array(9, dtype=int64), array(3, dtype=int64), array(11, dtype=int64), array(4, dtype=int64), array(9, dtype=int64), array(17, dtype=int64), array(21, dtype=int64), array(14, dtype=int64), array(15, dtype=int64), array(14, dtype=int64), array(13, dtype=int64), array(9, dtype=int64), array(12, dtype=int64), array(11, dtype=int64), array(17, dtype=int64), array(16, dtype=int64), array(15, dtype=int64), array(15, dtype=int64), array(11, dtype=int64), array(15, dtype=int64), array(4, dtype=int64)]\n",
      "[array(12, dtype=int64), array(9, dtype=int64), array(4, dtype=int64), array(14, dtype=int64), array(19, dtype=int64), array(13, dtype=int64), array(8, dtype=int64), array(12, dtype=int64), array(8, dtype=int64), array(16, dtype=int64), array(9, dtype=int64), array(13, dtype=int64), array(18, dtype=int64), array(10, dtype=int64), array(13, dtype=int64), array(6, dtype=int64), array(5, dtype=int64), array(11, dtype=int64), array(18, dtype=int64), array(13, dtype=int64), array(16, dtype=int64), array(14, dtype=int64), array(8, dtype=int64), array(9, dtype=int64), array(10, dtype=int64), array(17, dtype=int64), array(15, dtype=int64), array(17, dtype=int64), array(9, dtype=int64), array(11, dtype=int64), array(12, dtype=int64), array(22, dtype=int64), array(16, dtype=int64), array(17, dtype=int64), array(12, dtype=int64), array(11, dtype=int64), array(13, dtype=int64), array(13, dtype=int64), array(7, dtype=int64), array(3, dtype=int64), array(12, dtype=int64), array(9, dtype=int64), array(8, dtype=int64), array(11, dtype=int64), array(13, dtype=int64), array(15, dtype=int64), array(13, dtype=int64), array(8, dtype=int64), array(10, dtype=int64), array(14, dtype=int64), array(10, dtype=int64), array(4, dtype=int64), array(11, dtype=int64), array(16, dtype=int64), array(13, dtype=int64), array(12, dtype=int64), array(14, dtype=int64), array(18, dtype=int64), array(13, dtype=int64), array(20, dtype=int64), array(19, dtype=int64), array(13, dtype=int64), array(9, dtype=int64), array(3, dtype=int64), array(11, dtype=int64), array(4, dtype=int64), array(9, dtype=int64), array(17, dtype=int64), array(21, dtype=int64), array(14, dtype=int64), array(15, dtype=int64), array(14, dtype=int64), array(13, dtype=int64), array(9, dtype=int64), array(12, dtype=int64), array(11, dtype=int64), array(17, dtype=int64), array(16, dtype=int64), array(15, dtype=int64), array(15, dtype=int64), array(11, dtype=int64), array(15, dtype=int64), array(4, dtype=int64), array(10, dtype=int64)]\n",
      "[array(12, dtype=int64), array(9, dtype=int64), array(4, dtype=int64), array(14, dtype=int64), array(19, dtype=int64), array(13, dtype=int64), array(8, dtype=int64), array(12, dtype=int64), array(8, dtype=int64), array(16, dtype=int64), array(9, dtype=int64), array(13, dtype=int64), array(18, dtype=int64), array(10, dtype=int64), array(13, dtype=int64), array(6, dtype=int64), array(5, dtype=int64), array(11, dtype=int64), array(18, dtype=int64), array(13, dtype=int64), array(16, dtype=int64), array(14, dtype=int64), array(8, dtype=int64), array(9, dtype=int64), array(10, dtype=int64), array(17, dtype=int64), array(15, dtype=int64), array(17, dtype=int64), array(9, dtype=int64), array(11, dtype=int64), array(12, dtype=int64), array(22, dtype=int64), array(16, dtype=int64), array(17, dtype=int64), array(12, dtype=int64), array(11, dtype=int64), array(13, dtype=int64), array(13, dtype=int64), array(7, dtype=int64), array(3, dtype=int64), array(12, dtype=int64), array(9, dtype=int64), array(8, dtype=int64), array(11, dtype=int64), array(13, dtype=int64), array(15, dtype=int64), array(13, dtype=int64), array(8, dtype=int64), array(10, dtype=int64), array(14, dtype=int64), array(10, dtype=int64), array(4, dtype=int64), array(11, dtype=int64), array(16, dtype=int64), array(13, dtype=int64), array(12, dtype=int64), array(14, dtype=int64), array(18, dtype=int64), array(13, dtype=int64), array(20, dtype=int64), array(19, dtype=int64), array(13, dtype=int64), array(9, dtype=int64), array(3, dtype=int64), array(11, dtype=int64), array(4, dtype=int64), array(9, dtype=int64), array(17, dtype=int64), array(21, dtype=int64), array(14, dtype=int64), array(15, dtype=int64), array(14, dtype=int64), array(13, dtype=int64), array(9, dtype=int64), array(12, dtype=int64), array(11, dtype=int64), array(17, dtype=int64), array(16, dtype=int64), array(15, dtype=int64), array(15, dtype=int64), array(11, dtype=int64), array(15, dtype=int64), array(4, dtype=int64), array(10, dtype=int64), array(9, dtype=int64)]\n",
      "[array(12, dtype=int64), array(9, dtype=int64), array(4, dtype=int64), array(14, dtype=int64), array(19, dtype=int64), array(13, dtype=int64), array(8, dtype=int64), array(12, dtype=int64), array(8, dtype=int64), array(16, dtype=int64), array(9, dtype=int64), array(13, dtype=int64), array(18, dtype=int64), array(10, dtype=int64), array(13, dtype=int64), array(6, dtype=int64), array(5, dtype=int64), array(11, dtype=int64), array(18, dtype=int64), array(13, dtype=int64), array(16, dtype=int64), array(14, dtype=int64), array(8, dtype=int64), array(9, dtype=int64), array(10, dtype=int64), array(17, dtype=int64), array(15, dtype=int64), array(17, dtype=int64), array(9, dtype=int64), array(11, dtype=int64), array(12, dtype=int64), array(22, dtype=int64), array(16, dtype=int64), array(17, dtype=int64), array(12, dtype=int64), array(11, dtype=int64), array(13, dtype=int64), array(13, dtype=int64), array(7, dtype=int64), array(3, dtype=int64), array(12, dtype=int64), array(9, dtype=int64), array(8, dtype=int64), array(11, dtype=int64), array(13, dtype=int64), array(15, dtype=int64), array(13, dtype=int64), array(8, dtype=int64), array(10, dtype=int64), array(14, dtype=int64), array(10, dtype=int64), array(4, dtype=int64), array(11, dtype=int64), array(16, dtype=int64), array(13, dtype=int64), array(12, dtype=int64), array(14, dtype=int64), array(18, dtype=int64), array(13, dtype=int64), array(20, dtype=int64), array(19, dtype=int64), array(13, dtype=int64), array(9, dtype=int64), array(3, dtype=int64), array(11, dtype=int64), array(4, dtype=int64), array(9, dtype=int64), array(17, dtype=int64), array(21, dtype=int64), array(14, dtype=int64), array(15, dtype=int64), array(14, dtype=int64), array(13, dtype=int64), array(9, dtype=int64), array(12, dtype=int64), array(11, dtype=int64), array(17, dtype=int64), array(16, dtype=int64), array(15, dtype=int64), array(15, dtype=int64), array(11, dtype=int64), array(15, dtype=int64), array(4, dtype=int64), array(10, dtype=int64), array(9, dtype=int64), array(12, dtype=int64)]\n",
      "[array(12, dtype=int64), array(9, dtype=int64), array(4, dtype=int64), array(14, dtype=int64), array(19, dtype=int64), array(13, dtype=int64), array(8, dtype=int64), array(12, dtype=int64), array(8, dtype=int64), array(16, dtype=int64), array(9, dtype=int64), array(13, dtype=int64), array(18, dtype=int64), array(10, dtype=int64), array(13, dtype=int64), array(6, dtype=int64), array(5, dtype=int64), array(11, dtype=int64), array(18, dtype=int64), array(13, dtype=int64), array(16, dtype=int64), array(14, dtype=int64), array(8, dtype=int64), array(9, dtype=int64), array(10, dtype=int64), array(17, dtype=int64), array(15, dtype=int64), array(17, dtype=int64), array(9, dtype=int64), array(11, dtype=int64), array(12, dtype=int64), array(22, dtype=int64), array(16, dtype=int64), array(17, dtype=int64), array(12, dtype=int64), array(11, dtype=int64), array(13, dtype=int64), array(13, dtype=int64), array(7, dtype=int64), array(3, dtype=int64), array(12, dtype=int64), array(9, dtype=int64), array(8, dtype=int64), array(11, dtype=int64), array(13, dtype=int64), array(15, dtype=int64), array(13, dtype=int64), array(8, dtype=int64), array(10, dtype=int64), array(14, dtype=int64), array(10, dtype=int64), array(4, dtype=int64), array(11, dtype=int64), array(16, dtype=int64), array(13, dtype=int64), array(12, dtype=int64), array(14, dtype=int64), array(18, dtype=int64), array(13, dtype=int64), array(20, dtype=int64), array(19, dtype=int64), array(13, dtype=int64), array(9, dtype=int64), array(3, dtype=int64), array(11, dtype=int64), array(4, dtype=int64), array(9, dtype=int64), array(17, dtype=int64), array(21, dtype=int64), array(14, dtype=int64), array(15, dtype=int64), array(14, dtype=int64), array(13, dtype=int64), array(9, dtype=int64), array(12, dtype=int64), array(11, dtype=int64), array(17, dtype=int64), array(16, dtype=int64), array(15, dtype=int64), array(15, dtype=int64), array(11, dtype=int64), array(15, dtype=int64), array(4, dtype=int64), array(10, dtype=int64), array(9, dtype=int64), array(12, dtype=int64), array(5, dtype=int64)]\n",
      "[array(12, dtype=int64), array(9, dtype=int64), array(4, dtype=int64), array(14, dtype=int64), array(19, dtype=int64), array(13, dtype=int64), array(8, dtype=int64), array(12, dtype=int64), array(8, dtype=int64), array(16, dtype=int64), array(9, dtype=int64), array(13, dtype=int64), array(18, dtype=int64), array(10, dtype=int64), array(13, dtype=int64), array(6, dtype=int64), array(5, dtype=int64), array(11, dtype=int64), array(18, dtype=int64), array(13, dtype=int64), array(16, dtype=int64), array(14, dtype=int64), array(8, dtype=int64), array(9, dtype=int64), array(10, dtype=int64), array(17, dtype=int64), array(15, dtype=int64), array(17, dtype=int64), array(9, dtype=int64), array(11, dtype=int64), array(12, dtype=int64), array(22, dtype=int64), array(16, dtype=int64), array(17, dtype=int64), array(12, dtype=int64), array(11, dtype=int64), array(13, dtype=int64), array(13, dtype=int64), array(7, dtype=int64), array(3, dtype=int64), array(12, dtype=int64), array(9, dtype=int64), array(8, dtype=int64), array(11, dtype=int64), array(13, dtype=int64), array(15, dtype=int64), array(13, dtype=int64), array(8, dtype=int64), array(10, dtype=int64), array(14, dtype=int64), array(10, dtype=int64), array(4, dtype=int64), array(11, dtype=int64), array(16, dtype=int64), array(13, dtype=int64), array(12, dtype=int64), array(14, dtype=int64), array(18, dtype=int64), array(13, dtype=int64), array(20, dtype=int64), array(19, dtype=int64), array(13, dtype=int64), array(9, dtype=int64), array(3, dtype=int64), array(11, dtype=int64), array(4, dtype=int64), array(9, dtype=int64), array(17, dtype=int64), array(21, dtype=int64), array(14, dtype=int64), array(15, dtype=int64), array(14, dtype=int64), array(13, dtype=int64), array(9, dtype=int64), array(12, dtype=int64), array(11, dtype=int64), array(17, dtype=int64), array(16, dtype=int64), array(15, dtype=int64), array(15, dtype=int64), array(11, dtype=int64), array(15, dtype=int64), array(4, dtype=int64), array(10, dtype=int64), array(9, dtype=int64), array(12, dtype=int64), array(5, dtype=int64), array(6, dtype=int64)]\n",
      "[array(12, dtype=int64), array(9, dtype=int64), array(4, dtype=int64), array(14, dtype=int64), array(19, dtype=int64), array(13, dtype=int64), array(8, dtype=int64), array(12, dtype=int64), array(8, dtype=int64), array(16, dtype=int64), array(9, dtype=int64), array(13, dtype=int64), array(18, dtype=int64), array(10, dtype=int64), array(13, dtype=int64), array(6, dtype=int64), array(5, dtype=int64), array(11, dtype=int64), array(18, dtype=int64), array(13, dtype=int64), array(16, dtype=int64), array(14, dtype=int64), array(8, dtype=int64), array(9, dtype=int64), array(10, dtype=int64), array(17, dtype=int64), array(15, dtype=int64), array(17, dtype=int64), array(9, dtype=int64), array(11, dtype=int64), array(12, dtype=int64), array(22, dtype=int64), array(16, dtype=int64), array(17, dtype=int64), array(12, dtype=int64), array(11, dtype=int64), array(13, dtype=int64), array(13, dtype=int64), array(7, dtype=int64), array(3, dtype=int64), array(12, dtype=int64), array(9, dtype=int64), array(8, dtype=int64), array(11, dtype=int64), array(13, dtype=int64), array(15, dtype=int64), array(13, dtype=int64), array(8, dtype=int64), array(10, dtype=int64), array(14, dtype=int64), array(10, dtype=int64), array(4, dtype=int64), array(11, dtype=int64), array(16, dtype=int64), array(13, dtype=int64), array(12, dtype=int64), array(14, dtype=int64), array(18, dtype=int64), array(13, dtype=int64), array(20, dtype=int64), array(19, dtype=int64), array(13, dtype=int64), array(9, dtype=int64), array(3, dtype=int64), array(11, dtype=int64), array(4, dtype=int64), array(9, dtype=int64), array(17, dtype=int64), array(21, dtype=int64), array(14, dtype=int64), array(15, dtype=int64), array(14, dtype=int64), array(13, dtype=int64), array(9, dtype=int64), array(12, dtype=int64), array(11, dtype=int64), array(17, dtype=int64), array(16, dtype=int64), array(15, dtype=int64), array(15, dtype=int64), array(11, dtype=int64), array(15, dtype=int64), array(4, dtype=int64), array(10, dtype=int64), array(9, dtype=int64), array(12, dtype=int64), array(5, dtype=int64), array(6, dtype=int64), array(10, dtype=int64)]\n",
      "[array(12, dtype=int64), array(9, dtype=int64), array(4, dtype=int64), array(14, dtype=int64), array(19, dtype=int64), array(13, dtype=int64), array(8, dtype=int64), array(12, dtype=int64), array(8, dtype=int64), array(16, dtype=int64), array(9, dtype=int64), array(13, dtype=int64), array(18, dtype=int64), array(10, dtype=int64), array(13, dtype=int64), array(6, dtype=int64), array(5, dtype=int64), array(11, dtype=int64), array(18, dtype=int64), array(13, dtype=int64), array(16, dtype=int64), array(14, dtype=int64), array(8, dtype=int64), array(9, dtype=int64), array(10, dtype=int64), array(17, dtype=int64), array(15, dtype=int64), array(17, dtype=int64), array(9, dtype=int64), array(11, dtype=int64), array(12, dtype=int64), array(22, dtype=int64), array(16, dtype=int64), array(17, dtype=int64), array(12, dtype=int64), array(11, dtype=int64), array(13, dtype=int64), array(13, dtype=int64), array(7, dtype=int64), array(3, dtype=int64), array(12, dtype=int64), array(9, dtype=int64), array(8, dtype=int64), array(11, dtype=int64), array(13, dtype=int64), array(15, dtype=int64), array(13, dtype=int64), array(8, dtype=int64), array(10, dtype=int64), array(14, dtype=int64), array(10, dtype=int64), array(4, dtype=int64), array(11, dtype=int64), array(16, dtype=int64), array(13, dtype=int64), array(12, dtype=int64), array(14, dtype=int64), array(18, dtype=int64), array(13, dtype=int64), array(20, dtype=int64), array(19, dtype=int64), array(13, dtype=int64), array(9, dtype=int64), array(3, dtype=int64), array(11, dtype=int64), array(4, dtype=int64), array(9, dtype=int64), array(17, dtype=int64), array(21, dtype=int64), array(14, dtype=int64), array(15, dtype=int64), array(14, dtype=int64), array(13, dtype=int64), array(9, dtype=int64), array(12, dtype=int64), array(11, dtype=int64), array(17, dtype=int64), array(16, dtype=int64), array(15, dtype=int64), array(15, dtype=int64), array(11, dtype=int64), array(15, dtype=int64), array(4, dtype=int64), array(10, dtype=int64), array(9, dtype=int64), array(12, dtype=int64), array(5, dtype=int64), array(6, dtype=int64), array(10, dtype=int64), array(11, dtype=int64)]\n"
     ]
    }
   ],
   "source": [
    "a = []\n",
    "for i in range(len(vet)):\n",
    "    a.append( np.array((vet.iloc[i]=='Yes').sum()))\n",
    "    print(a)"
   ]
  },
  {
   "cell_type": "code",
   "execution_count": 10,
   "metadata": {},
   "outputs": [
    {
     "data": {
      "text/plain": [
       "(array([ 3,  4,  5,  6,  7,  8,  9, 10, 11, 12, 13, 14, 15, 16, 17, 18, 19,\n",
       "        20, 21, 22], dtype=int64),\n",
       " array([ 2,  4,  2,  2,  1,  5,  9,  6,  9,  8, 12,  6,  6,  5,  5,  3,  2,\n",
       "         1,  1,  1], dtype=int64))"
      ]
     },
     "execution_count": 10,
     "metadata": {},
     "output_type": "execute_result"
    }
   ],
   "source": [
    "np.unique(np.array(a), return_counts=True)"
   ]
  },
  {
   "cell_type": "code",
   "execution_count": 26,
   "metadata": {},
   "outputs": [
    {
     "name": "stdout",
     "output_type": "stream",
     "text": [
      "[array(0, dtype=int64)]\n",
      "[array(0, dtype=int64), array(1, dtype=int64)]\n",
      "[array(0, dtype=int64), array(1, dtype=int64), array(4, dtype=int64)]\n",
      "[array(0, dtype=int64), array(1, dtype=int64), array(4, dtype=int64), array(0, dtype=int64)]\n",
      "[array(0, dtype=int64), array(1, dtype=int64), array(4, dtype=int64), array(0, dtype=int64), array(0, dtype=int64)]\n",
      "[array(0, dtype=int64), array(1, dtype=int64), array(4, dtype=int64), array(0, dtype=int64), array(0, dtype=int64), array(1, dtype=int64)]\n",
      "[array(0, dtype=int64), array(1, dtype=int64), array(4, dtype=int64), array(0, dtype=int64), array(0, dtype=int64), array(1, dtype=int64), array(4, dtype=int64)]\n",
      "[array(0, dtype=int64), array(1, dtype=int64), array(4, dtype=int64), array(0, dtype=int64), array(0, dtype=int64), array(1, dtype=int64), array(4, dtype=int64), array(0, dtype=int64)]\n",
      "[array(0, dtype=int64), array(1, dtype=int64), array(4, dtype=int64), array(0, dtype=int64), array(0, dtype=int64), array(1, dtype=int64), array(4, dtype=int64), array(0, dtype=int64), array(0, dtype=int64)]\n",
      "[array(0, dtype=int64), array(1, dtype=int64), array(4, dtype=int64), array(0, dtype=int64), array(0, dtype=int64), array(1, dtype=int64), array(4, dtype=int64), array(0, dtype=int64), array(0, dtype=int64), array(1, dtype=int64)]\n",
      "[array(0, dtype=int64), array(1, dtype=int64), array(4, dtype=int64), array(0, dtype=int64), array(0, dtype=int64), array(1, dtype=int64), array(4, dtype=int64), array(0, dtype=int64), array(0, dtype=int64), array(1, dtype=int64), array(2, dtype=int64)]\n",
      "[array(0, dtype=int64), array(1, dtype=int64), array(4, dtype=int64), array(0, dtype=int64), array(0, dtype=int64), array(1, dtype=int64), array(4, dtype=int64), array(0, dtype=int64), array(0, dtype=int64), array(1, dtype=int64), array(2, dtype=int64), array(2, dtype=int64)]\n",
      "[array(0, dtype=int64), array(1, dtype=int64), array(4, dtype=int64), array(0, dtype=int64), array(0, dtype=int64), array(1, dtype=int64), array(4, dtype=int64), array(0, dtype=int64), array(0, dtype=int64), array(1, dtype=int64), array(2, dtype=int64), array(2, dtype=int64), array(0, dtype=int64)]\n",
      "[array(0, dtype=int64), array(1, dtype=int64), array(4, dtype=int64), array(0, dtype=int64), array(0, dtype=int64), array(1, dtype=int64), array(4, dtype=int64), array(0, dtype=int64), array(0, dtype=int64), array(1, dtype=int64), array(2, dtype=int64), array(2, dtype=int64), array(0, dtype=int64), array(5, dtype=int64)]\n",
      "[array(0, dtype=int64), array(1, dtype=int64), array(4, dtype=int64), array(0, dtype=int64), array(0, dtype=int64), array(1, dtype=int64), array(4, dtype=int64), array(0, dtype=int64), array(0, dtype=int64), array(1, dtype=int64), array(2, dtype=int64), array(2, dtype=int64), array(0, dtype=int64), array(5, dtype=int64), array(0, dtype=int64)]\n",
      "[array(0, dtype=int64), array(1, dtype=int64), array(4, dtype=int64), array(0, dtype=int64), array(0, dtype=int64), array(1, dtype=int64), array(4, dtype=int64), array(0, dtype=int64), array(0, dtype=int64), array(1, dtype=int64), array(2, dtype=int64), array(2, dtype=int64), array(0, dtype=int64), array(5, dtype=int64), array(0, dtype=int64), array(3, dtype=int64)]\n",
      "[array(0, dtype=int64), array(1, dtype=int64), array(4, dtype=int64), array(0, dtype=int64), array(0, dtype=int64), array(1, dtype=int64), array(4, dtype=int64), array(0, dtype=int64), array(0, dtype=int64), array(1, dtype=int64), array(2, dtype=int64), array(2, dtype=int64), array(0, dtype=int64), array(5, dtype=int64), array(0, dtype=int64), array(3, dtype=int64), array(0, dtype=int64)]\n",
      "[array(0, dtype=int64), array(1, dtype=int64), array(4, dtype=int64), array(0, dtype=int64), array(0, dtype=int64), array(1, dtype=int64), array(4, dtype=int64), array(0, dtype=int64), array(0, dtype=int64), array(1, dtype=int64), array(2, dtype=int64), array(2, dtype=int64), array(0, dtype=int64), array(5, dtype=int64), array(0, dtype=int64), array(3, dtype=int64), array(0, dtype=int64), array(3, dtype=int64)]\n",
      "[array(0, dtype=int64), array(1, dtype=int64), array(4, dtype=int64), array(0, dtype=int64), array(0, dtype=int64), array(1, dtype=int64), array(4, dtype=int64), array(0, dtype=int64), array(0, dtype=int64), array(1, dtype=int64), array(2, dtype=int64), array(2, dtype=int64), array(0, dtype=int64), array(5, dtype=int64), array(0, dtype=int64), array(3, dtype=int64), array(0, dtype=int64), array(3, dtype=int64), array(2, dtype=int64)]\n",
      "[array(0, dtype=int64), array(1, dtype=int64), array(4, dtype=int64), array(0, dtype=int64), array(0, dtype=int64), array(1, dtype=int64), array(4, dtype=int64), array(0, dtype=int64), array(0, dtype=int64), array(1, dtype=int64), array(2, dtype=int64), array(2, dtype=int64), array(0, dtype=int64), array(5, dtype=int64), array(0, dtype=int64), array(3, dtype=int64), array(0, dtype=int64), array(3, dtype=int64), array(2, dtype=int64), array(1, dtype=int64)]\n",
      "[array(0, dtype=int64), array(1, dtype=int64), array(4, dtype=int64), array(0, dtype=int64), array(0, dtype=int64), array(1, dtype=int64), array(4, dtype=int64), array(0, dtype=int64), array(0, dtype=int64), array(1, dtype=int64), array(2, dtype=int64), array(2, dtype=int64), array(0, dtype=int64), array(5, dtype=int64), array(0, dtype=int64), array(3, dtype=int64), array(0, dtype=int64), array(3, dtype=int64), array(2, dtype=int64), array(1, dtype=int64), array(4, dtype=int64)]\n",
      "[array(0, dtype=int64), array(1, dtype=int64), array(4, dtype=int64), array(0, dtype=int64), array(0, dtype=int64), array(1, dtype=int64), array(4, dtype=int64), array(0, dtype=int64), array(0, dtype=int64), array(1, dtype=int64), array(2, dtype=int64), array(2, dtype=int64), array(0, dtype=int64), array(5, dtype=int64), array(0, dtype=int64), array(3, dtype=int64), array(0, dtype=int64), array(3, dtype=int64), array(2, dtype=int64), array(1, dtype=int64), array(4, dtype=int64), array(0, dtype=int64)]\n",
      "[array(0, dtype=int64), array(1, dtype=int64), array(4, dtype=int64), array(0, dtype=int64), array(0, dtype=int64), array(1, dtype=int64), array(4, dtype=int64), array(0, dtype=int64), array(0, dtype=int64), array(1, dtype=int64), array(2, dtype=int64), array(2, dtype=int64), array(0, dtype=int64), array(5, dtype=int64), array(0, dtype=int64), array(3, dtype=int64), array(0, dtype=int64), array(3, dtype=int64), array(2, dtype=int64), array(1, dtype=int64), array(4, dtype=int64), array(0, dtype=int64), array(1, dtype=int64)]\n",
      "[array(0, dtype=int64), array(1, dtype=int64), array(4, dtype=int64), array(0, dtype=int64), array(0, dtype=int64), array(1, dtype=int64), array(4, dtype=int64), array(0, dtype=int64), array(0, dtype=int64), array(1, dtype=int64), array(2, dtype=int64), array(2, dtype=int64), array(0, dtype=int64), array(5, dtype=int64), array(0, dtype=int64), array(3, dtype=int64), array(0, dtype=int64), array(3, dtype=int64), array(2, dtype=int64), array(1, dtype=int64), array(4, dtype=int64), array(0, dtype=int64), array(1, dtype=int64), array(2, dtype=int64)]\n",
      "[array(0, dtype=int64), array(1, dtype=int64), array(4, dtype=int64), array(0, dtype=int64), array(0, dtype=int64), array(1, dtype=int64), array(4, dtype=int64), array(0, dtype=int64), array(0, dtype=int64), array(1, dtype=int64), array(2, dtype=int64), array(2, dtype=int64), array(0, dtype=int64), array(5, dtype=int64), array(0, dtype=int64), array(3, dtype=int64), array(0, dtype=int64), array(3, dtype=int64), array(2, dtype=int64), array(1, dtype=int64), array(4, dtype=int64), array(0, dtype=int64), array(1, dtype=int64), array(2, dtype=int64), array(2, dtype=int64)]\n",
      "[array(0, dtype=int64), array(1, dtype=int64), array(4, dtype=int64), array(0, dtype=int64), array(0, dtype=int64), array(1, dtype=int64), array(4, dtype=int64), array(0, dtype=int64), array(0, dtype=int64), array(1, dtype=int64), array(2, dtype=int64), array(2, dtype=int64), array(0, dtype=int64), array(5, dtype=int64), array(0, dtype=int64), array(3, dtype=int64), array(0, dtype=int64), array(3, dtype=int64), array(2, dtype=int64), array(1, dtype=int64), array(4, dtype=int64), array(0, dtype=int64), array(1, dtype=int64), array(2, dtype=int64), array(2, dtype=int64), array(4, dtype=int64)]\n",
      "[array(0, dtype=int64), array(1, dtype=int64), array(4, dtype=int64), array(0, dtype=int64), array(0, dtype=int64), array(1, dtype=int64), array(4, dtype=int64), array(0, dtype=int64), array(0, dtype=int64), array(1, dtype=int64), array(2, dtype=int64), array(2, dtype=int64), array(0, dtype=int64), array(5, dtype=int64), array(0, dtype=int64), array(3, dtype=int64), array(0, dtype=int64), array(3, dtype=int64), array(2, dtype=int64), array(1, dtype=int64), array(4, dtype=int64), array(0, dtype=int64), array(1, dtype=int64), array(2, dtype=int64), array(2, dtype=int64), array(4, dtype=int64), array(2, dtype=int64)]\n",
      "[array(0, dtype=int64), array(1, dtype=int64), array(4, dtype=int64), array(0, dtype=int64), array(0, dtype=int64), array(1, dtype=int64), array(4, dtype=int64), array(0, dtype=int64), array(0, dtype=int64), array(1, dtype=int64), array(2, dtype=int64), array(2, dtype=int64), array(0, dtype=int64), array(5, dtype=int64), array(0, dtype=int64), array(3, dtype=int64), array(0, dtype=int64), array(3, dtype=int64), array(2, dtype=int64), array(1, dtype=int64), array(4, dtype=int64), array(0, dtype=int64), array(1, dtype=int64), array(2, dtype=int64), array(2, dtype=int64), array(4, dtype=int64), array(2, dtype=int64), array(3, dtype=int64)]\n",
      "[array(0, dtype=int64), array(1, dtype=int64), array(4, dtype=int64), array(0, dtype=int64), array(0, dtype=int64), array(1, dtype=int64), array(4, dtype=int64), array(0, dtype=int64), array(0, dtype=int64), array(1, dtype=int64), array(2, dtype=int64), array(2, dtype=int64), array(0, dtype=int64), array(5, dtype=int64), array(0, dtype=int64), array(3, dtype=int64), array(0, dtype=int64), array(3, dtype=int64), array(2, dtype=int64), array(1, dtype=int64), array(4, dtype=int64), array(0, dtype=int64), array(1, dtype=int64), array(2, dtype=int64), array(2, dtype=int64), array(4, dtype=int64), array(2, dtype=int64), array(3, dtype=int64), array(1, dtype=int64)]\n",
      "[array(0, dtype=int64), array(1, dtype=int64), array(4, dtype=int64), array(0, dtype=int64), array(0, dtype=int64), array(1, dtype=int64), array(4, dtype=int64), array(0, dtype=int64), array(0, dtype=int64), array(1, dtype=int64), array(2, dtype=int64), array(2, dtype=int64), array(0, dtype=int64), array(5, dtype=int64), array(0, dtype=int64), array(3, dtype=int64), array(0, dtype=int64), array(3, dtype=int64), array(2, dtype=int64), array(1, dtype=int64), array(4, dtype=int64), array(0, dtype=int64), array(1, dtype=int64), array(2, dtype=int64), array(2, dtype=int64), array(4, dtype=int64), array(2, dtype=int64), array(3, dtype=int64), array(1, dtype=int64), array(2, dtype=int64)]\n",
      "[array(0, dtype=int64), array(1, dtype=int64), array(4, dtype=int64), array(0, dtype=int64), array(0, dtype=int64), array(1, dtype=int64), array(4, dtype=int64), array(0, dtype=int64), array(0, dtype=int64), array(1, dtype=int64), array(2, dtype=int64), array(2, dtype=int64), array(0, dtype=int64), array(5, dtype=int64), array(0, dtype=int64), array(3, dtype=int64), array(0, dtype=int64), array(3, dtype=int64), array(2, dtype=int64), array(1, dtype=int64), array(4, dtype=int64), array(0, dtype=int64), array(1, dtype=int64), array(2, dtype=int64), array(2, dtype=int64), array(4, dtype=int64), array(2, dtype=int64), array(3, dtype=int64), array(1, dtype=int64), array(2, dtype=int64), array(1, dtype=int64)]\n",
      "[array(0, dtype=int64), array(1, dtype=int64), array(4, dtype=int64), array(0, dtype=int64), array(0, dtype=int64), array(1, dtype=int64), array(4, dtype=int64), array(0, dtype=int64), array(0, dtype=int64), array(1, dtype=int64), array(2, dtype=int64), array(2, dtype=int64), array(0, dtype=int64), array(5, dtype=int64), array(0, dtype=int64), array(3, dtype=int64), array(0, dtype=int64), array(3, dtype=int64), array(2, dtype=int64), array(1, dtype=int64), array(4, dtype=int64), array(0, dtype=int64), array(1, dtype=int64), array(2, dtype=int64), array(2, dtype=int64), array(4, dtype=int64), array(2, dtype=int64), array(3, dtype=int64), array(1, dtype=int64), array(2, dtype=int64), array(1, dtype=int64), array(3, dtype=int64)]\n",
      "[array(0, dtype=int64), array(1, dtype=int64), array(4, dtype=int64), array(0, dtype=int64), array(0, dtype=int64), array(1, dtype=int64), array(4, dtype=int64), array(0, dtype=int64), array(0, dtype=int64), array(1, dtype=int64), array(2, dtype=int64), array(2, dtype=int64), array(0, dtype=int64), array(5, dtype=int64), array(0, dtype=int64), array(3, dtype=int64), array(0, dtype=int64), array(3, dtype=int64), array(2, dtype=int64), array(1, dtype=int64), array(4, dtype=int64), array(0, dtype=int64), array(1, dtype=int64), array(2, dtype=int64), array(2, dtype=int64), array(4, dtype=int64), array(2, dtype=int64), array(3, dtype=int64), array(1, dtype=int64), array(2, dtype=int64), array(1, dtype=int64), array(3, dtype=int64), array(5, dtype=int64)]\n",
      "[array(0, dtype=int64), array(1, dtype=int64), array(4, dtype=int64), array(0, dtype=int64), array(0, dtype=int64), array(1, dtype=int64), array(4, dtype=int64), array(0, dtype=int64), array(0, dtype=int64), array(1, dtype=int64), array(2, dtype=int64), array(2, dtype=int64), array(0, dtype=int64), array(5, dtype=int64), array(0, dtype=int64), array(3, dtype=int64), array(0, dtype=int64), array(3, dtype=int64), array(2, dtype=int64), array(1, dtype=int64), array(4, dtype=int64), array(0, dtype=int64), array(1, dtype=int64), array(2, dtype=int64), array(2, dtype=int64), array(4, dtype=int64), array(2, dtype=int64), array(3, dtype=int64), array(1, dtype=int64), array(2, dtype=int64), array(1, dtype=int64), array(3, dtype=int64), array(5, dtype=int64), array(1, dtype=int64)]\n",
      "[array(0, dtype=int64), array(1, dtype=int64), array(4, dtype=int64), array(0, dtype=int64), array(0, dtype=int64), array(1, dtype=int64), array(4, dtype=int64), array(0, dtype=int64), array(0, dtype=int64), array(1, dtype=int64), array(2, dtype=int64), array(2, dtype=int64), array(0, dtype=int64), array(5, dtype=int64), array(0, dtype=int64), array(3, dtype=int64), array(0, dtype=int64), array(3, dtype=int64), array(2, dtype=int64), array(1, dtype=int64), array(4, dtype=int64), array(0, dtype=int64), array(1, dtype=int64), array(2, dtype=int64), array(2, dtype=int64), array(4, dtype=int64), array(2, dtype=int64), array(3, dtype=int64), array(1, dtype=int64), array(2, dtype=int64), array(1, dtype=int64), array(3, dtype=int64), array(5, dtype=int64), array(1, dtype=int64), array(0, dtype=int64)]\n",
      "[array(0, dtype=int64), array(1, dtype=int64), array(4, dtype=int64), array(0, dtype=int64), array(0, dtype=int64), array(1, dtype=int64), array(4, dtype=int64), array(0, dtype=int64), array(0, dtype=int64), array(1, dtype=int64), array(2, dtype=int64), array(2, dtype=int64), array(0, dtype=int64), array(5, dtype=int64), array(0, dtype=int64), array(3, dtype=int64), array(0, dtype=int64), array(3, dtype=int64), array(2, dtype=int64), array(1, dtype=int64), array(4, dtype=int64), array(0, dtype=int64), array(1, dtype=int64), array(2, dtype=int64), array(2, dtype=int64), array(4, dtype=int64), array(2, dtype=int64), array(3, dtype=int64), array(1, dtype=int64), array(2, dtype=int64), array(1, dtype=int64), array(3, dtype=int64), array(5, dtype=int64), array(1, dtype=int64), array(0, dtype=int64), array(1, dtype=int64)]\n",
      "[array(0, dtype=int64), array(1, dtype=int64), array(4, dtype=int64), array(0, dtype=int64), array(0, dtype=int64), array(1, dtype=int64), array(4, dtype=int64), array(0, dtype=int64), array(0, dtype=int64), array(1, dtype=int64), array(2, dtype=int64), array(2, dtype=int64), array(0, dtype=int64), array(5, dtype=int64), array(0, dtype=int64), array(3, dtype=int64), array(0, dtype=int64), array(3, dtype=int64), array(2, dtype=int64), array(1, dtype=int64), array(4, dtype=int64), array(0, dtype=int64), array(1, dtype=int64), array(2, dtype=int64), array(2, dtype=int64), array(4, dtype=int64), array(2, dtype=int64), array(3, dtype=int64), array(1, dtype=int64), array(2, dtype=int64), array(1, dtype=int64), array(3, dtype=int64), array(5, dtype=int64), array(1, dtype=int64), array(0, dtype=int64), array(1, dtype=int64), array(2, dtype=int64)]\n",
      "[array(0, dtype=int64), array(1, dtype=int64), array(4, dtype=int64), array(0, dtype=int64), array(0, dtype=int64), array(1, dtype=int64), array(4, dtype=int64), array(0, dtype=int64), array(0, dtype=int64), array(1, dtype=int64), array(2, dtype=int64), array(2, dtype=int64), array(0, dtype=int64), array(5, dtype=int64), array(0, dtype=int64), array(3, dtype=int64), array(0, dtype=int64), array(3, dtype=int64), array(2, dtype=int64), array(1, dtype=int64), array(4, dtype=int64), array(0, dtype=int64), array(1, dtype=int64), array(2, dtype=int64), array(2, dtype=int64), array(4, dtype=int64), array(2, dtype=int64), array(3, dtype=int64), array(1, dtype=int64), array(2, dtype=int64), array(1, dtype=int64), array(3, dtype=int64), array(5, dtype=int64), array(1, dtype=int64), array(0, dtype=int64), array(1, dtype=int64), array(2, dtype=int64), array(4, dtype=int64)]\n",
      "[array(0, dtype=int64), array(1, dtype=int64), array(4, dtype=int64), array(0, dtype=int64), array(0, dtype=int64), array(1, dtype=int64), array(4, dtype=int64), array(0, dtype=int64), array(0, dtype=int64), array(1, dtype=int64), array(2, dtype=int64), array(2, dtype=int64), array(0, dtype=int64), array(5, dtype=int64), array(0, dtype=int64), array(3, dtype=int64), array(0, dtype=int64), array(3, dtype=int64), array(2, dtype=int64), array(1, dtype=int64), array(4, dtype=int64), array(0, dtype=int64), array(1, dtype=int64), array(2, dtype=int64), array(2, dtype=int64), array(4, dtype=int64), array(2, dtype=int64), array(3, dtype=int64), array(1, dtype=int64), array(2, dtype=int64), array(1, dtype=int64), array(3, dtype=int64), array(5, dtype=int64), array(1, dtype=int64), array(0, dtype=int64), array(1, dtype=int64), array(2, dtype=int64), array(4, dtype=int64), array(2, dtype=int64)]\n",
      "[array(0, dtype=int64), array(1, dtype=int64), array(4, dtype=int64), array(0, dtype=int64), array(0, dtype=int64), array(1, dtype=int64), array(4, dtype=int64), array(0, dtype=int64), array(0, dtype=int64), array(1, dtype=int64), array(2, dtype=int64), array(2, dtype=int64), array(0, dtype=int64), array(5, dtype=int64), array(0, dtype=int64), array(3, dtype=int64), array(0, dtype=int64), array(3, dtype=int64), array(2, dtype=int64), array(1, dtype=int64), array(4, dtype=int64), array(0, dtype=int64), array(1, dtype=int64), array(2, dtype=int64), array(2, dtype=int64), array(4, dtype=int64), array(2, dtype=int64), array(3, dtype=int64), array(1, dtype=int64), array(2, dtype=int64), array(1, dtype=int64), array(3, dtype=int64), array(5, dtype=int64), array(1, dtype=int64), array(0, dtype=int64), array(1, dtype=int64), array(2, dtype=int64), array(4, dtype=int64), array(2, dtype=int64), array(1, dtype=int64)]\n",
      "[array(0, dtype=int64), array(1, dtype=int64), array(4, dtype=int64), array(0, dtype=int64), array(0, dtype=int64), array(1, dtype=int64), array(4, dtype=int64), array(0, dtype=int64), array(0, dtype=int64), array(1, dtype=int64), array(2, dtype=int64), array(2, dtype=int64), array(0, dtype=int64), array(5, dtype=int64), array(0, dtype=int64), array(3, dtype=int64), array(0, dtype=int64), array(3, dtype=int64), array(2, dtype=int64), array(1, dtype=int64), array(4, dtype=int64), array(0, dtype=int64), array(1, dtype=int64), array(2, dtype=int64), array(2, dtype=int64), array(4, dtype=int64), array(2, dtype=int64), array(3, dtype=int64), array(1, dtype=int64), array(2, dtype=int64), array(1, dtype=int64), array(3, dtype=int64), array(5, dtype=int64), array(1, dtype=int64), array(0, dtype=int64), array(1, dtype=int64), array(2, dtype=int64), array(4, dtype=int64), array(2, dtype=int64), array(1, dtype=int64), array(1, dtype=int64)]\n",
      "[array(0, dtype=int64), array(1, dtype=int64), array(4, dtype=int64), array(0, dtype=int64), array(0, dtype=int64), array(1, dtype=int64), array(4, dtype=int64), array(0, dtype=int64), array(0, dtype=int64), array(1, dtype=int64), array(2, dtype=int64), array(2, dtype=int64), array(0, dtype=int64), array(5, dtype=int64), array(0, dtype=int64), array(3, dtype=int64), array(0, dtype=int64), array(3, dtype=int64), array(2, dtype=int64), array(1, dtype=int64), array(4, dtype=int64), array(0, dtype=int64), array(1, dtype=int64), array(2, dtype=int64), array(2, dtype=int64), array(4, dtype=int64), array(2, dtype=int64), array(3, dtype=int64), array(1, dtype=int64), array(2, dtype=int64), array(1, dtype=int64), array(3, dtype=int64), array(5, dtype=int64), array(1, dtype=int64), array(0, dtype=int64), array(1, dtype=int64), array(2, dtype=int64), array(4, dtype=int64), array(2, dtype=int64), array(1, dtype=int64), array(1, dtype=int64), array(1, dtype=int64)]\n",
      "[array(0, dtype=int64), array(1, dtype=int64), array(4, dtype=int64), array(0, dtype=int64), array(0, dtype=int64), array(1, dtype=int64), array(4, dtype=int64), array(0, dtype=int64), array(0, dtype=int64), array(1, dtype=int64), array(2, dtype=int64), array(2, dtype=int64), array(0, dtype=int64), array(5, dtype=int64), array(0, dtype=int64), array(3, dtype=int64), array(0, dtype=int64), array(3, dtype=int64), array(2, dtype=int64), array(1, dtype=int64), array(4, dtype=int64), array(0, dtype=int64), array(1, dtype=int64), array(2, dtype=int64), array(2, dtype=int64), array(4, dtype=int64), array(2, dtype=int64), array(3, dtype=int64), array(1, dtype=int64), array(2, dtype=int64), array(1, dtype=int64), array(3, dtype=int64), array(5, dtype=int64), array(1, dtype=int64), array(0, dtype=int64), array(1, dtype=int64), array(2, dtype=int64), array(4, dtype=int64), array(2, dtype=int64), array(1, dtype=int64), array(1, dtype=int64), array(1, dtype=int64), array(2, dtype=int64)]\n",
      "[array(0, dtype=int64), array(1, dtype=int64), array(4, dtype=int64), array(0, dtype=int64), array(0, dtype=int64), array(1, dtype=int64), array(4, dtype=int64), array(0, dtype=int64), array(0, dtype=int64), array(1, dtype=int64), array(2, dtype=int64), array(2, dtype=int64), array(0, dtype=int64), array(5, dtype=int64), array(0, dtype=int64), array(3, dtype=int64), array(0, dtype=int64), array(3, dtype=int64), array(2, dtype=int64), array(1, dtype=int64), array(4, dtype=int64), array(0, dtype=int64), array(1, dtype=int64), array(2, dtype=int64), array(2, dtype=int64), array(4, dtype=int64), array(2, dtype=int64), array(3, dtype=int64), array(1, dtype=int64), array(2, dtype=int64), array(1, dtype=int64), array(3, dtype=int64), array(5, dtype=int64), array(1, dtype=int64), array(0, dtype=int64), array(1, dtype=int64), array(2, dtype=int64), array(4, dtype=int64), array(2, dtype=int64), array(1, dtype=int64), array(1, dtype=int64), array(1, dtype=int64), array(2, dtype=int64), array(3, dtype=int64)]\n",
      "[array(0, dtype=int64), array(1, dtype=int64), array(4, dtype=int64), array(0, dtype=int64), array(0, dtype=int64), array(1, dtype=int64), array(4, dtype=int64), array(0, dtype=int64), array(0, dtype=int64), array(1, dtype=int64), array(2, dtype=int64), array(2, dtype=int64), array(0, dtype=int64), array(5, dtype=int64), array(0, dtype=int64), array(3, dtype=int64), array(0, dtype=int64), array(3, dtype=int64), array(2, dtype=int64), array(1, dtype=int64), array(4, dtype=int64), array(0, dtype=int64), array(1, dtype=int64), array(2, dtype=int64), array(2, dtype=int64), array(4, dtype=int64), array(2, dtype=int64), array(3, dtype=int64), array(1, dtype=int64), array(2, dtype=int64), array(1, dtype=int64), array(3, dtype=int64), array(5, dtype=int64), array(1, dtype=int64), array(0, dtype=int64), array(1, dtype=int64), array(2, dtype=int64), array(4, dtype=int64), array(2, dtype=int64), array(1, dtype=int64), array(1, dtype=int64), array(1, dtype=int64), array(2, dtype=int64), array(3, dtype=int64), array(3, dtype=int64)]\n",
      "[array(0, dtype=int64), array(1, dtype=int64), array(4, dtype=int64), array(0, dtype=int64), array(0, dtype=int64), array(1, dtype=int64), array(4, dtype=int64), array(0, dtype=int64), array(0, dtype=int64), array(1, dtype=int64), array(2, dtype=int64), array(2, dtype=int64), array(0, dtype=int64), array(5, dtype=int64), array(0, dtype=int64), array(3, dtype=int64), array(0, dtype=int64), array(3, dtype=int64), array(2, dtype=int64), array(1, dtype=int64), array(4, dtype=int64), array(0, dtype=int64), array(1, dtype=int64), array(2, dtype=int64), array(2, dtype=int64), array(4, dtype=int64), array(2, dtype=int64), array(3, dtype=int64), array(1, dtype=int64), array(2, dtype=int64), array(1, dtype=int64), array(3, dtype=int64), array(5, dtype=int64), array(1, dtype=int64), array(0, dtype=int64), array(1, dtype=int64), array(2, dtype=int64), array(4, dtype=int64), array(2, dtype=int64), array(1, dtype=int64), array(1, dtype=int64), array(1, dtype=int64), array(2, dtype=int64), array(3, dtype=int64), array(3, dtype=int64), array(2, dtype=int64)]\n",
      "[array(0, dtype=int64), array(1, dtype=int64), array(4, dtype=int64), array(0, dtype=int64), array(0, dtype=int64), array(1, dtype=int64), array(4, dtype=int64), array(0, dtype=int64), array(0, dtype=int64), array(1, dtype=int64), array(2, dtype=int64), array(2, dtype=int64), array(0, dtype=int64), array(5, dtype=int64), array(0, dtype=int64), array(3, dtype=int64), array(0, dtype=int64), array(3, dtype=int64), array(2, dtype=int64), array(1, dtype=int64), array(4, dtype=int64), array(0, dtype=int64), array(1, dtype=int64), array(2, dtype=int64), array(2, dtype=int64), array(4, dtype=int64), array(2, dtype=int64), array(3, dtype=int64), array(1, dtype=int64), array(2, dtype=int64), array(1, dtype=int64), array(3, dtype=int64), array(5, dtype=int64), array(1, dtype=int64), array(0, dtype=int64), array(1, dtype=int64), array(2, dtype=int64), array(4, dtype=int64), array(2, dtype=int64), array(1, dtype=int64), array(1, dtype=int64), array(1, dtype=int64), array(2, dtype=int64), array(3, dtype=int64), array(3, dtype=int64), array(2, dtype=int64), array(4, dtype=int64)]\n",
      "[array(0, dtype=int64), array(1, dtype=int64), array(4, dtype=int64), array(0, dtype=int64), array(0, dtype=int64), array(1, dtype=int64), array(4, dtype=int64), array(0, dtype=int64), array(0, dtype=int64), array(1, dtype=int64), array(2, dtype=int64), array(2, dtype=int64), array(0, dtype=int64), array(5, dtype=int64), array(0, dtype=int64), array(3, dtype=int64), array(0, dtype=int64), array(3, dtype=int64), array(2, dtype=int64), array(1, dtype=int64), array(4, dtype=int64), array(0, dtype=int64), array(1, dtype=int64), array(2, dtype=int64), array(2, dtype=int64), array(4, dtype=int64), array(2, dtype=int64), array(3, dtype=int64), array(1, dtype=int64), array(2, dtype=int64), array(1, dtype=int64), array(3, dtype=int64), array(5, dtype=int64), array(1, dtype=int64), array(0, dtype=int64), array(1, dtype=int64), array(2, dtype=int64), array(4, dtype=int64), array(2, dtype=int64), array(1, dtype=int64), array(1, dtype=int64), array(1, dtype=int64), array(2, dtype=int64), array(3, dtype=int64), array(3, dtype=int64), array(2, dtype=int64), array(4, dtype=int64), array(2, dtype=int64)]\n",
      "[array(0, dtype=int64), array(1, dtype=int64), array(4, dtype=int64), array(0, dtype=int64), array(0, dtype=int64), array(1, dtype=int64), array(4, dtype=int64), array(0, dtype=int64), array(0, dtype=int64), array(1, dtype=int64), array(2, dtype=int64), array(2, dtype=int64), array(0, dtype=int64), array(5, dtype=int64), array(0, dtype=int64), array(3, dtype=int64), array(0, dtype=int64), array(3, dtype=int64), array(2, dtype=int64), array(1, dtype=int64), array(4, dtype=int64), array(0, dtype=int64), array(1, dtype=int64), array(2, dtype=int64), array(2, dtype=int64), array(4, dtype=int64), array(2, dtype=int64), array(3, dtype=int64), array(1, dtype=int64), array(2, dtype=int64), array(1, dtype=int64), array(3, dtype=int64), array(5, dtype=int64), array(1, dtype=int64), array(0, dtype=int64), array(1, dtype=int64), array(2, dtype=int64), array(4, dtype=int64), array(2, dtype=int64), array(1, dtype=int64), array(1, dtype=int64), array(1, dtype=int64), array(2, dtype=int64), array(3, dtype=int64), array(3, dtype=int64), array(2, dtype=int64), array(4, dtype=int64), array(2, dtype=int64), array(1, dtype=int64)]\n",
      "[array(0, dtype=int64), array(1, dtype=int64), array(4, dtype=int64), array(0, dtype=int64), array(0, dtype=int64), array(1, dtype=int64), array(4, dtype=int64), array(0, dtype=int64), array(0, dtype=int64), array(1, dtype=int64), array(2, dtype=int64), array(2, dtype=int64), array(0, dtype=int64), array(5, dtype=int64), array(0, dtype=int64), array(3, dtype=int64), array(0, dtype=int64), array(3, dtype=int64), array(2, dtype=int64), array(1, dtype=int64), array(4, dtype=int64), array(0, dtype=int64), array(1, dtype=int64), array(2, dtype=int64), array(2, dtype=int64), array(4, dtype=int64), array(2, dtype=int64), array(3, dtype=int64), array(1, dtype=int64), array(2, dtype=int64), array(1, dtype=int64), array(3, dtype=int64), array(5, dtype=int64), array(1, dtype=int64), array(0, dtype=int64), array(1, dtype=int64), array(2, dtype=int64), array(4, dtype=int64), array(2, dtype=int64), array(1, dtype=int64), array(1, dtype=int64), array(1, dtype=int64), array(2, dtype=int64), array(3, dtype=int64), array(3, dtype=int64), array(2, dtype=int64), array(4, dtype=int64), array(2, dtype=int64), array(1, dtype=int64), array(2, dtype=int64)]\n",
      "[array(0, dtype=int64), array(1, dtype=int64), array(4, dtype=int64), array(0, dtype=int64), array(0, dtype=int64), array(1, dtype=int64), array(4, dtype=int64), array(0, dtype=int64), array(0, dtype=int64), array(1, dtype=int64), array(2, dtype=int64), array(2, dtype=int64), array(0, dtype=int64), array(5, dtype=int64), array(0, dtype=int64), array(3, dtype=int64), array(0, dtype=int64), array(3, dtype=int64), array(2, dtype=int64), array(1, dtype=int64), array(4, dtype=int64), array(0, dtype=int64), array(1, dtype=int64), array(2, dtype=int64), array(2, dtype=int64), array(4, dtype=int64), array(2, dtype=int64), array(3, dtype=int64), array(1, dtype=int64), array(2, dtype=int64), array(1, dtype=int64), array(3, dtype=int64), array(5, dtype=int64), array(1, dtype=int64), array(0, dtype=int64), array(1, dtype=int64), array(2, dtype=int64), array(4, dtype=int64), array(2, dtype=int64), array(1, dtype=int64), array(1, dtype=int64), array(1, dtype=int64), array(2, dtype=int64), array(3, dtype=int64), array(3, dtype=int64), array(2, dtype=int64), array(4, dtype=int64), array(2, dtype=int64), array(1, dtype=int64), array(2, dtype=int64), array(3, dtype=int64)]\n",
      "[array(0, dtype=int64), array(1, dtype=int64), array(4, dtype=int64), array(0, dtype=int64), array(0, dtype=int64), array(1, dtype=int64), array(4, dtype=int64), array(0, dtype=int64), array(0, dtype=int64), array(1, dtype=int64), array(2, dtype=int64), array(2, dtype=int64), array(0, dtype=int64), array(5, dtype=int64), array(0, dtype=int64), array(3, dtype=int64), array(0, dtype=int64), array(3, dtype=int64), array(2, dtype=int64), array(1, dtype=int64), array(4, dtype=int64), array(0, dtype=int64), array(1, dtype=int64), array(2, dtype=int64), array(2, dtype=int64), array(4, dtype=int64), array(2, dtype=int64), array(3, dtype=int64), array(1, dtype=int64), array(2, dtype=int64), array(1, dtype=int64), array(3, dtype=int64), array(5, dtype=int64), array(1, dtype=int64), array(0, dtype=int64), array(1, dtype=int64), array(2, dtype=int64), array(4, dtype=int64), array(2, dtype=int64), array(1, dtype=int64), array(1, dtype=int64), array(1, dtype=int64), array(2, dtype=int64), array(3, dtype=int64), array(3, dtype=int64), array(2, dtype=int64), array(4, dtype=int64), array(2, dtype=int64), array(1, dtype=int64), array(2, dtype=int64), array(3, dtype=int64), array(0, dtype=int64)]\n",
      "[array(0, dtype=int64), array(1, dtype=int64), array(4, dtype=int64), array(0, dtype=int64), array(0, dtype=int64), array(1, dtype=int64), array(4, dtype=int64), array(0, dtype=int64), array(0, dtype=int64), array(1, dtype=int64), array(2, dtype=int64), array(2, dtype=int64), array(0, dtype=int64), array(5, dtype=int64), array(0, dtype=int64), array(3, dtype=int64), array(0, dtype=int64), array(3, dtype=int64), array(2, dtype=int64), array(1, dtype=int64), array(4, dtype=int64), array(0, dtype=int64), array(1, dtype=int64), array(2, dtype=int64), array(2, dtype=int64), array(4, dtype=int64), array(2, dtype=int64), array(3, dtype=int64), array(1, dtype=int64), array(2, dtype=int64), array(1, dtype=int64), array(3, dtype=int64), array(5, dtype=int64), array(1, dtype=int64), array(0, dtype=int64), array(1, dtype=int64), array(2, dtype=int64), array(4, dtype=int64), array(2, dtype=int64), array(1, dtype=int64), array(1, dtype=int64), array(1, dtype=int64), array(2, dtype=int64), array(3, dtype=int64), array(3, dtype=int64), array(2, dtype=int64), array(4, dtype=int64), array(2, dtype=int64), array(1, dtype=int64), array(2, dtype=int64), array(3, dtype=int64), array(0, dtype=int64), array(5, dtype=int64)]\n",
      "[array(0, dtype=int64), array(1, dtype=int64), array(4, dtype=int64), array(0, dtype=int64), array(0, dtype=int64), array(1, dtype=int64), array(4, dtype=int64), array(0, dtype=int64), array(0, dtype=int64), array(1, dtype=int64), array(2, dtype=int64), array(2, dtype=int64), array(0, dtype=int64), array(5, dtype=int64), array(0, dtype=int64), array(3, dtype=int64), array(0, dtype=int64), array(3, dtype=int64), array(2, dtype=int64), array(1, dtype=int64), array(4, dtype=int64), array(0, dtype=int64), array(1, dtype=int64), array(2, dtype=int64), array(2, dtype=int64), array(4, dtype=int64), array(2, dtype=int64), array(3, dtype=int64), array(1, dtype=int64), array(2, dtype=int64), array(1, dtype=int64), array(3, dtype=int64), array(5, dtype=int64), array(1, dtype=int64), array(0, dtype=int64), array(1, dtype=int64), array(2, dtype=int64), array(4, dtype=int64), array(2, dtype=int64), array(1, dtype=int64), array(1, dtype=int64), array(1, dtype=int64), array(2, dtype=int64), array(3, dtype=int64), array(3, dtype=int64), array(2, dtype=int64), array(4, dtype=int64), array(2, dtype=int64), array(1, dtype=int64), array(2, dtype=int64), array(3, dtype=int64), array(0, dtype=int64), array(5, dtype=int64), array(3, dtype=int64)]\n",
      "[array(0, dtype=int64), array(1, dtype=int64), array(4, dtype=int64), array(0, dtype=int64), array(0, dtype=int64), array(1, dtype=int64), array(4, dtype=int64), array(0, dtype=int64), array(0, dtype=int64), array(1, dtype=int64), array(2, dtype=int64), array(2, dtype=int64), array(0, dtype=int64), array(5, dtype=int64), array(0, dtype=int64), array(3, dtype=int64), array(0, dtype=int64), array(3, dtype=int64), array(2, dtype=int64), array(1, dtype=int64), array(4, dtype=int64), array(0, dtype=int64), array(1, dtype=int64), array(2, dtype=int64), array(2, dtype=int64), array(4, dtype=int64), array(2, dtype=int64), array(3, dtype=int64), array(1, dtype=int64), array(2, dtype=int64), array(1, dtype=int64), array(3, dtype=int64), array(5, dtype=int64), array(1, dtype=int64), array(0, dtype=int64), array(1, dtype=int64), array(2, dtype=int64), array(4, dtype=int64), array(2, dtype=int64), array(1, dtype=int64), array(1, dtype=int64), array(1, dtype=int64), array(2, dtype=int64), array(3, dtype=int64), array(3, dtype=int64), array(2, dtype=int64), array(4, dtype=int64), array(2, dtype=int64), array(1, dtype=int64), array(2, dtype=int64), array(3, dtype=int64), array(0, dtype=int64), array(5, dtype=int64), array(3, dtype=int64), array(1, dtype=int64)]\n",
      "[array(0, dtype=int64), array(1, dtype=int64), array(4, dtype=int64), array(0, dtype=int64), array(0, dtype=int64), array(1, dtype=int64), array(4, dtype=int64), array(0, dtype=int64), array(0, dtype=int64), array(1, dtype=int64), array(2, dtype=int64), array(2, dtype=int64), array(0, dtype=int64), array(5, dtype=int64), array(0, dtype=int64), array(3, dtype=int64), array(0, dtype=int64), array(3, dtype=int64), array(2, dtype=int64), array(1, dtype=int64), array(4, dtype=int64), array(0, dtype=int64), array(1, dtype=int64), array(2, dtype=int64), array(2, dtype=int64), array(4, dtype=int64), array(2, dtype=int64), array(3, dtype=int64), array(1, dtype=int64), array(2, dtype=int64), array(1, dtype=int64), array(3, dtype=int64), array(5, dtype=int64), array(1, dtype=int64), array(0, dtype=int64), array(1, dtype=int64), array(2, dtype=int64), array(4, dtype=int64), array(2, dtype=int64), array(1, dtype=int64), array(1, dtype=int64), array(1, dtype=int64), array(2, dtype=int64), array(3, dtype=int64), array(3, dtype=int64), array(2, dtype=int64), array(4, dtype=int64), array(2, dtype=int64), array(1, dtype=int64), array(2, dtype=int64), array(3, dtype=int64), array(0, dtype=int64), array(5, dtype=int64), array(3, dtype=int64), array(1, dtype=int64), array(6, dtype=int64)]\n",
      "[array(0, dtype=int64), array(1, dtype=int64), array(4, dtype=int64), array(0, dtype=int64), array(0, dtype=int64), array(1, dtype=int64), array(4, dtype=int64), array(0, dtype=int64), array(0, dtype=int64), array(1, dtype=int64), array(2, dtype=int64), array(2, dtype=int64), array(0, dtype=int64), array(5, dtype=int64), array(0, dtype=int64), array(3, dtype=int64), array(0, dtype=int64), array(3, dtype=int64), array(2, dtype=int64), array(1, dtype=int64), array(4, dtype=int64), array(0, dtype=int64), array(1, dtype=int64), array(2, dtype=int64), array(2, dtype=int64), array(4, dtype=int64), array(2, dtype=int64), array(3, dtype=int64), array(1, dtype=int64), array(2, dtype=int64), array(1, dtype=int64), array(3, dtype=int64), array(5, dtype=int64), array(1, dtype=int64), array(0, dtype=int64), array(1, dtype=int64), array(2, dtype=int64), array(4, dtype=int64), array(2, dtype=int64), array(1, dtype=int64), array(1, dtype=int64), array(1, dtype=int64), array(2, dtype=int64), array(3, dtype=int64), array(3, dtype=int64), array(2, dtype=int64), array(4, dtype=int64), array(2, dtype=int64), array(1, dtype=int64), array(2, dtype=int64), array(3, dtype=int64), array(0, dtype=int64), array(5, dtype=int64), array(3, dtype=int64), array(1, dtype=int64), array(6, dtype=int64), array(0, dtype=int64)]\n",
      "[array(0, dtype=int64), array(1, dtype=int64), array(4, dtype=int64), array(0, dtype=int64), array(0, dtype=int64), array(1, dtype=int64), array(4, dtype=int64), array(0, dtype=int64), array(0, dtype=int64), array(1, dtype=int64), array(2, dtype=int64), array(2, dtype=int64), array(0, dtype=int64), array(5, dtype=int64), array(0, dtype=int64), array(3, dtype=int64), array(0, dtype=int64), array(3, dtype=int64), array(2, dtype=int64), array(1, dtype=int64), array(4, dtype=int64), array(0, dtype=int64), array(1, dtype=int64), array(2, dtype=int64), array(2, dtype=int64), array(4, dtype=int64), array(2, dtype=int64), array(3, dtype=int64), array(1, dtype=int64), array(2, dtype=int64), array(1, dtype=int64), array(3, dtype=int64), array(5, dtype=int64), array(1, dtype=int64), array(0, dtype=int64), array(1, dtype=int64), array(2, dtype=int64), array(4, dtype=int64), array(2, dtype=int64), array(1, dtype=int64), array(1, dtype=int64), array(1, dtype=int64), array(2, dtype=int64), array(3, dtype=int64), array(3, dtype=int64), array(2, dtype=int64), array(4, dtype=int64), array(2, dtype=int64), array(1, dtype=int64), array(2, dtype=int64), array(3, dtype=int64), array(0, dtype=int64), array(5, dtype=int64), array(3, dtype=int64), array(1, dtype=int64), array(6, dtype=int64), array(0, dtype=int64), array(1, dtype=int64)]\n"
     ]
    }
   ],
   "source": [
    "a = []\n",
    "for i in range(len(non_vet)):\n",
    "    a.append( np.array((non_vet.iloc[i]=='Yes').sum()))\n",
    "    print(a)"
   ]
  },
  {
   "cell_type": "code",
   "execution_count": 27,
   "metadata": {},
   "outputs": [
    {
     "data": {
      "text/plain": [
       "(array([0, 1, 2, 3, 4, 5, 6], dtype=int64),\n",
       " array([12, 15, 13,  8,  6,  3,  1], dtype=int64))"
      ]
     },
     "execution_count": 27,
     "metadata": {},
     "output_type": "execute_result"
    }
   ],
   "source": [
    "np.unique(np.array(a), return_counts=True)"
   ]
  },
  {
   "cell_type": "code",
   "execution_count": 11,
   "metadata": {},
   "outputs": [
    {
     "name": "stdout",
     "output_type": "stream",
     "text": [
      "[array(5, dtype=int64)]\n",
      "[array(5, dtype=int64), array(9, dtype=int64)]\n",
      "[array(5, dtype=int64), array(9, dtype=int64), array(10, dtype=int64)]\n",
      "[array(5, dtype=int64), array(9, dtype=int64), array(10, dtype=int64), array(4, dtype=int64)]\n",
      "[array(5, dtype=int64), array(9, dtype=int64), array(10, dtype=int64), array(4, dtype=int64), array(0, dtype=int64)]\n",
      "[array(5, dtype=int64), array(9, dtype=int64), array(10, dtype=int64), array(4, dtype=int64), array(0, dtype=int64), array(12, dtype=int64)]\n",
      "[array(5, dtype=int64), array(9, dtype=int64), array(10, dtype=int64), array(4, dtype=int64), array(0, dtype=int64), array(12, dtype=int64), array(10, dtype=int64)]\n",
      "[array(5, dtype=int64), array(9, dtype=int64), array(10, dtype=int64), array(4, dtype=int64), array(0, dtype=int64), array(12, dtype=int64), array(10, dtype=int64), array(7, dtype=int64)]\n",
      "[array(5, dtype=int64), array(9, dtype=int64), array(10, dtype=int64), array(4, dtype=int64), array(0, dtype=int64), array(12, dtype=int64), array(10, dtype=int64), array(7, dtype=int64), array(5, dtype=int64)]\n",
      "[array(5, dtype=int64), array(9, dtype=int64), array(10, dtype=int64), array(4, dtype=int64), array(0, dtype=int64), array(12, dtype=int64), array(10, dtype=int64), array(7, dtype=int64), array(5, dtype=int64), array(8, dtype=int64)]\n",
      "[array(5, dtype=int64), array(9, dtype=int64), array(10, dtype=int64), array(4, dtype=int64), array(0, dtype=int64), array(12, dtype=int64), array(10, dtype=int64), array(7, dtype=int64), array(5, dtype=int64), array(8, dtype=int64), array(9, dtype=int64)]\n",
      "[array(5, dtype=int64), array(9, dtype=int64), array(10, dtype=int64), array(4, dtype=int64), array(0, dtype=int64), array(12, dtype=int64), array(10, dtype=int64), array(7, dtype=int64), array(5, dtype=int64), array(8, dtype=int64), array(9, dtype=int64), array(11, dtype=int64)]\n",
      "[array(5, dtype=int64), array(9, dtype=int64), array(10, dtype=int64), array(4, dtype=int64), array(0, dtype=int64), array(12, dtype=int64), array(10, dtype=int64), array(7, dtype=int64), array(5, dtype=int64), array(8, dtype=int64), array(9, dtype=int64), array(11, dtype=int64), array(3, dtype=int64)]\n",
      "[array(5, dtype=int64), array(9, dtype=int64), array(10, dtype=int64), array(4, dtype=int64), array(0, dtype=int64), array(12, dtype=int64), array(10, dtype=int64), array(7, dtype=int64), array(5, dtype=int64), array(8, dtype=int64), array(9, dtype=int64), array(11, dtype=int64), array(3, dtype=int64), array(19, dtype=int64)]\n",
      "[array(5, dtype=int64), array(9, dtype=int64), array(10, dtype=int64), array(4, dtype=int64), array(0, dtype=int64), array(12, dtype=int64), array(10, dtype=int64), array(7, dtype=int64), array(5, dtype=int64), array(8, dtype=int64), array(9, dtype=int64), array(11, dtype=int64), array(3, dtype=int64), array(19, dtype=int64), array(5, dtype=int64)]\n",
      "[array(5, dtype=int64), array(9, dtype=int64), array(10, dtype=int64), array(4, dtype=int64), array(0, dtype=int64), array(12, dtype=int64), array(10, dtype=int64), array(7, dtype=int64), array(5, dtype=int64), array(8, dtype=int64), array(9, dtype=int64), array(11, dtype=int64), array(3, dtype=int64), array(19, dtype=int64), array(5, dtype=int64), array(8, dtype=int64)]\n",
      "[array(5, dtype=int64), array(9, dtype=int64), array(10, dtype=int64), array(4, dtype=int64), array(0, dtype=int64), array(12, dtype=int64), array(10, dtype=int64), array(7, dtype=int64), array(5, dtype=int64), array(8, dtype=int64), array(9, dtype=int64), array(11, dtype=int64), array(3, dtype=int64), array(19, dtype=int64), array(5, dtype=int64), array(8, dtype=int64), array(5, dtype=int64)]\n",
      "[array(5, dtype=int64), array(9, dtype=int64), array(10, dtype=int64), array(4, dtype=int64), array(0, dtype=int64), array(12, dtype=int64), array(10, dtype=int64), array(7, dtype=int64), array(5, dtype=int64), array(8, dtype=int64), array(9, dtype=int64), array(11, dtype=int64), array(3, dtype=int64), array(19, dtype=int64), array(5, dtype=int64), array(8, dtype=int64), array(5, dtype=int64), array(10, dtype=int64)]\n",
      "[array(5, dtype=int64), array(9, dtype=int64), array(10, dtype=int64), array(4, dtype=int64), array(0, dtype=int64), array(12, dtype=int64), array(10, dtype=int64), array(7, dtype=int64), array(5, dtype=int64), array(8, dtype=int64), array(9, dtype=int64), array(11, dtype=int64), array(3, dtype=int64), array(19, dtype=int64), array(5, dtype=int64), array(8, dtype=int64), array(5, dtype=int64), array(10, dtype=int64), array(9, dtype=int64)]\n",
      "[array(5, dtype=int64), array(9, dtype=int64), array(10, dtype=int64), array(4, dtype=int64), array(0, dtype=int64), array(12, dtype=int64), array(10, dtype=int64), array(7, dtype=int64), array(5, dtype=int64), array(8, dtype=int64), array(9, dtype=int64), array(11, dtype=int64), array(3, dtype=int64), array(19, dtype=int64), array(5, dtype=int64), array(8, dtype=int64), array(5, dtype=int64), array(10, dtype=int64), array(9, dtype=int64), array(10, dtype=int64)]\n",
      "[array(5, dtype=int64), array(9, dtype=int64), array(10, dtype=int64), array(4, dtype=int64), array(0, dtype=int64), array(12, dtype=int64), array(10, dtype=int64), array(7, dtype=int64), array(5, dtype=int64), array(8, dtype=int64), array(9, dtype=int64), array(11, dtype=int64), array(3, dtype=int64), array(19, dtype=int64), array(5, dtype=int64), array(8, dtype=int64), array(5, dtype=int64), array(10, dtype=int64), array(9, dtype=int64), array(10, dtype=int64), array(13, dtype=int64)]\n",
      "[array(5, dtype=int64), array(9, dtype=int64), array(10, dtype=int64), array(4, dtype=int64), array(0, dtype=int64), array(12, dtype=int64), array(10, dtype=int64), array(7, dtype=int64), array(5, dtype=int64), array(8, dtype=int64), array(9, dtype=int64), array(11, dtype=int64), array(3, dtype=int64), array(19, dtype=int64), array(5, dtype=int64), array(8, dtype=int64), array(5, dtype=int64), array(10, dtype=int64), array(9, dtype=int64), array(10, dtype=int64), array(13, dtype=int64), array(8, dtype=int64)]\n",
      "[array(5, dtype=int64), array(9, dtype=int64), array(10, dtype=int64), array(4, dtype=int64), array(0, dtype=int64), array(12, dtype=int64), array(10, dtype=int64), array(7, dtype=int64), array(5, dtype=int64), array(8, dtype=int64), array(9, dtype=int64), array(11, dtype=int64), array(3, dtype=int64), array(19, dtype=int64), array(5, dtype=int64), array(8, dtype=int64), array(5, dtype=int64), array(10, dtype=int64), array(9, dtype=int64), array(10, dtype=int64), array(13, dtype=int64), array(8, dtype=int64), array(4, dtype=int64)]\n",
      "[array(5, dtype=int64), array(9, dtype=int64), array(10, dtype=int64), array(4, dtype=int64), array(0, dtype=int64), array(12, dtype=int64), array(10, dtype=int64), array(7, dtype=int64), array(5, dtype=int64), array(8, dtype=int64), array(9, dtype=int64), array(11, dtype=int64), array(3, dtype=int64), array(19, dtype=int64), array(5, dtype=int64), array(8, dtype=int64), array(5, dtype=int64), array(10, dtype=int64), array(9, dtype=int64), array(10, dtype=int64), array(13, dtype=int64), array(8, dtype=int64), array(4, dtype=int64), array(11, dtype=int64)]\n",
      "[array(5, dtype=int64), array(9, dtype=int64), array(10, dtype=int64), array(4, dtype=int64), array(0, dtype=int64), array(12, dtype=int64), array(10, dtype=int64), array(7, dtype=int64), array(5, dtype=int64), array(8, dtype=int64), array(9, dtype=int64), array(11, dtype=int64), array(3, dtype=int64), array(19, dtype=int64), array(5, dtype=int64), array(8, dtype=int64), array(5, dtype=int64), array(10, dtype=int64), array(9, dtype=int64), array(10, dtype=int64), array(13, dtype=int64), array(8, dtype=int64), array(4, dtype=int64), array(11, dtype=int64), array(10, dtype=int64)]\n",
      "[array(5, dtype=int64), array(9, dtype=int64), array(10, dtype=int64), array(4, dtype=int64), array(0, dtype=int64), array(12, dtype=int64), array(10, dtype=int64), array(7, dtype=int64), array(5, dtype=int64), array(8, dtype=int64), array(9, dtype=int64), array(11, dtype=int64), array(3, dtype=int64), array(19, dtype=int64), array(5, dtype=int64), array(8, dtype=int64), array(5, dtype=int64), array(10, dtype=int64), array(9, dtype=int64), array(10, dtype=int64), array(13, dtype=int64), array(8, dtype=int64), array(4, dtype=int64), array(11, dtype=int64), array(10, dtype=int64), array(13, dtype=int64)]\n",
      "[array(5, dtype=int64), array(9, dtype=int64), array(10, dtype=int64), array(4, dtype=int64), array(0, dtype=int64), array(12, dtype=int64), array(10, dtype=int64), array(7, dtype=int64), array(5, dtype=int64), array(8, dtype=int64), array(9, dtype=int64), array(11, dtype=int64), array(3, dtype=int64), array(19, dtype=int64), array(5, dtype=int64), array(8, dtype=int64), array(5, dtype=int64), array(10, dtype=int64), array(9, dtype=int64), array(10, dtype=int64), array(13, dtype=int64), array(8, dtype=int64), array(4, dtype=int64), array(11, dtype=int64), array(10, dtype=int64), array(13, dtype=int64), array(10, dtype=int64)]\n",
      "[array(5, dtype=int64), array(9, dtype=int64), array(10, dtype=int64), array(4, dtype=int64), array(0, dtype=int64), array(12, dtype=int64), array(10, dtype=int64), array(7, dtype=int64), array(5, dtype=int64), array(8, dtype=int64), array(9, dtype=int64), array(11, dtype=int64), array(3, dtype=int64), array(19, dtype=int64), array(5, dtype=int64), array(8, dtype=int64), array(5, dtype=int64), array(10, dtype=int64), array(9, dtype=int64), array(10, dtype=int64), array(13, dtype=int64), array(8, dtype=int64), array(4, dtype=int64), array(11, dtype=int64), array(10, dtype=int64), array(13, dtype=int64), array(10, dtype=int64), array(9, dtype=int64)]\n",
      "[array(5, dtype=int64), array(9, dtype=int64), array(10, dtype=int64), array(4, dtype=int64), array(0, dtype=int64), array(12, dtype=int64), array(10, dtype=int64), array(7, dtype=int64), array(5, dtype=int64), array(8, dtype=int64), array(9, dtype=int64), array(11, dtype=int64), array(3, dtype=int64), array(19, dtype=int64), array(5, dtype=int64), array(8, dtype=int64), array(5, dtype=int64), array(10, dtype=int64), array(9, dtype=int64), array(10, dtype=int64), array(13, dtype=int64), array(8, dtype=int64), array(4, dtype=int64), array(11, dtype=int64), array(10, dtype=int64), array(13, dtype=int64), array(10, dtype=int64), array(9, dtype=int64), array(8, dtype=int64)]\n",
      "[array(5, dtype=int64), array(9, dtype=int64), array(10, dtype=int64), array(4, dtype=int64), array(0, dtype=int64), array(12, dtype=int64), array(10, dtype=int64), array(7, dtype=int64), array(5, dtype=int64), array(8, dtype=int64), array(9, dtype=int64), array(11, dtype=int64), array(3, dtype=int64), array(19, dtype=int64), array(5, dtype=int64), array(8, dtype=int64), array(5, dtype=int64), array(10, dtype=int64), array(9, dtype=int64), array(10, dtype=int64), array(13, dtype=int64), array(8, dtype=int64), array(4, dtype=int64), array(11, dtype=int64), array(10, dtype=int64), array(13, dtype=int64), array(10, dtype=int64), array(9, dtype=int64), array(8, dtype=int64), array(6, dtype=int64)]\n",
      "[array(5, dtype=int64), array(9, dtype=int64), array(10, dtype=int64), array(4, dtype=int64), array(0, dtype=int64), array(12, dtype=int64), array(10, dtype=int64), array(7, dtype=int64), array(5, dtype=int64), array(8, dtype=int64), array(9, dtype=int64), array(11, dtype=int64), array(3, dtype=int64), array(19, dtype=int64), array(5, dtype=int64), array(8, dtype=int64), array(5, dtype=int64), array(10, dtype=int64), array(9, dtype=int64), array(10, dtype=int64), array(13, dtype=int64), array(8, dtype=int64), array(4, dtype=int64), array(11, dtype=int64), array(10, dtype=int64), array(13, dtype=int64), array(10, dtype=int64), array(9, dtype=int64), array(8, dtype=int64), array(6, dtype=int64), array(8, dtype=int64)]\n",
      "[array(5, dtype=int64), array(9, dtype=int64), array(10, dtype=int64), array(4, dtype=int64), array(0, dtype=int64), array(12, dtype=int64), array(10, dtype=int64), array(7, dtype=int64), array(5, dtype=int64), array(8, dtype=int64), array(9, dtype=int64), array(11, dtype=int64), array(3, dtype=int64), array(19, dtype=int64), array(5, dtype=int64), array(8, dtype=int64), array(5, dtype=int64), array(10, dtype=int64), array(9, dtype=int64), array(10, dtype=int64), array(13, dtype=int64), array(8, dtype=int64), array(4, dtype=int64), array(11, dtype=int64), array(10, dtype=int64), array(13, dtype=int64), array(10, dtype=int64), array(9, dtype=int64), array(8, dtype=int64), array(6, dtype=int64), array(8, dtype=int64), array(8, dtype=int64)]\n",
      "[array(5, dtype=int64), array(9, dtype=int64), array(10, dtype=int64), array(4, dtype=int64), array(0, dtype=int64), array(12, dtype=int64), array(10, dtype=int64), array(7, dtype=int64), array(5, dtype=int64), array(8, dtype=int64), array(9, dtype=int64), array(11, dtype=int64), array(3, dtype=int64), array(19, dtype=int64), array(5, dtype=int64), array(8, dtype=int64), array(5, dtype=int64), array(10, dtype=int64), array(9, dtype=int64), array(10, dtype=int64), array(13, dtype=int64), array(8, dtype=int64), array(4, dtype=int64), array(11, dtype=int64), array(10, dtype=int64), array(13, dtype=int64), array(10, dtype=int64), array(9, dtype=int64), array(8, dtype=int64), array(6, dtype=int64), array(8, dtype=int64), array(8, dtype=int64), array(10, dtype=int64)]\n",
      "[array(5, dtype=int64), array(9, dtype=int64), array(10, dtype=int64), array(4, dtype=int64), array(0, dtype=int64), array(12, dtype=int64), array(10, dtype=int64), array(7, dtype=int64), array(5, dtype=int64), array(8, dtype=int64), array(9, dtype=int64), array(11, dtype=int64), array(3, dtype=int64), array(19, dtype=int64), array(5, dtype=int64), array(8, dtype=int64), array(5, dtype=int64), array(10, dtype=int64), array(9, dtype=int64), array(10, dtype=int64), array(13, dtype=int64), array(8, dtype=int64), array(4, dtype=int64), array(11, dtype=int64), array(10, dtype=int64), array(13, dtype=int64), array(10, dtype=int64), array(9, dtype=int64), array(8, dtype=int64), array(6, dtype=int64), array(8, dtype=int64), array(8, dtype=int64), array(10, dtype=int64), array(5, dtype=int64)]\n",
      "[array(5, dtype=int64), array(9, dtype=int64), array(10, dtype=int64), array(4, dtype=int64), array(0, dtype=int64), array(12, dtype=int64), array(10, dtype=int64), array(7, dtype=int64), array(5, dtype=int64), array(8, dtype=int64), array(9, dtype=int64), array(11, dtype=int64), array(3, dtype=int64), array(19, dtype=int64), array(5, dtype=int64), array(8, dtype=int64), array(5, dtype=int64), array(10, dtype=int64), array(9, dtype=int64), array(10, dtype=int64), array(13, dtype=int64), array(8, dtype=int64), array(4, dtype=int64), array(11, dtype=int64), array(10, dtype=int64), array(13, dtype=int64), array(10, dtype=int64), array(9, dtype=int64), array(8, dtype=int64), array(6, dtype=int64), array(8, dtype=int64), array(8, dtype=int64), array(10, dtype=int64), array(5, dtype=int64), array(4, dtype=int64)]\n",
      "[array(5, dtype=int64), array(9, dtype=int64), array(10, dtype=int64), array(4, dtype=int64), array(0, dtype=int64), array(12, dtype=int64), array(10, dtype=int64), array(7, dtype=int64), array(5, dtype=int64), array(8, dtype=int64), array(9, dtype=int64), array(11, dtype=int64), array(3, dtype=int64), array(19, dtype=int64), array(5, dtype=int64), array(8, dtype=int64), array(5, dtype=int64), array(10, dtype=int64), array(9, dtype=int64), array(10, dtype=int64), array(13, dtype=int64), array(8, dtype=int64), array(4, dtype=int64), array(11, dtype=int64), array(10, dtype=int64), array(13, dtype=int64), array(10, dtype=int64), array(9, dtype=int64), array(8, dtype=int64), array(6, dtype=int64), array(8, dtype=int64), array(8, dtype=int64), array(10, dtype=int64), array(5, dtype=int64), array(4, dtype=int64), array(8, dtype=int64)]\n",
      "[array(5, dtype=int64), array(9, dtype=int64), array(10, dtype=int64), array(4, dtype=int64), array(0, dtype=int64), array(12, dtype=int64), array(10, dtype=int64), array(7, dtype=int64), array(5, dtype=int64), array(8, dtype=int64), array(9, dtype=int64), array(11, dtype=int64), array(3, dtype=int64), array(19, dtype=int64), array(5, dtype=int64), array(8, dtype=int64), array(5, dtype=int64), array(10, dtype=int64), array(9, dtype=int64), array(10, dtype=int64), array(13, dtype=int64), array(8, dtype=int64), array(4, dtype=int64), array(11, dtype=int64), array(10, dtype=int64), array(13, dtype=int64), array(10, dtype=int64), array(9, dtype=int64), array(8, dtype=int64), array(6, dtype=int64), array(8, dtype=int64), array(8, dtype=int64), array(10, dtype=int64), array(5, dtype=int64), array(4, dtype=int64), array(8, dtype=int64), array(7, dtype=int64)]\n",
      "[array(5, dtype=int64), array(9, dtype=int64), array(10, dtype=int64), array(4, dtype=int64), array(0, dtype=int64), array(12, dtype=int64), array(10, dtype=int64), array(7, dtype=int64), array(5, dtype=int64), array(8, dtype=int64), array(9, dtype=int64), array(11, dtype=int64), array(3, dtype=int64), array(19, dtype=int64), array(5, dtype=int64), array(8, dtype=int64), array(5, dtype=int64), array(10, dtype=int64), array(9, dtype=int64), array(10, dtype=int64), array(13, dtype=int64), array(8, dtype=int64), array(4, dtype=int64), array(11, dtype=int64), array(10, dtype=int64), array(13, dtype=int64), array(10, dtype=int64), array(9, dtype=int64), array(8, dtype=int64), array(6, dtype=int64), array(8, dtype=int64), array(8, dtype=int64), array(10, dtype=int64), array(5, dtype=int64), array(4, dtype=int64), array(8, dtype=int64), array(7, dtype=int64), array(8, dtype=int64)]\n",
      "[array(5, dtype=int64), array(9, dtype=int64), array(10, dtype=int64), array(4, dtype=int64), array(0, dtype=int64), array(12, dtype=int64), array(10, dtype=int64), array(7, dtype=int64), array(5, dtype=int64), array(8, dtype=int64), array(9, dtype=int64), array(11, dtype=int64), array(3, dtype=int64), array(19, dtype=int64), array(5, dtype=int64), array(8, dtype=int64), array(5, dtype=int64), array(10, dtype=int64), array(9, dtype=int64), array(10, dtype=int64), array(13, dtype=int64), array(8, dtype=int64), array(4, dtype=int64), array(11, dtype=int64), array(10, dtype=int64), array(13, dtype=int64), array(10, dtype=int64), array(9, dtype=int64), array(8, dtype=int64), array(6, dtype=int64), array(8, dtype=int64), array(8, dtype=int64), array(10, dtype=int64), array(5, dtype=int64), array(4, dtype=int64), array(8, dtype=int64), array(7, dtype=int64), array(8, dtype=int64), array(7, dtype=int64)]\n",
      "[array(5, dtype=int64), array(9, dtype=int64), array(10, dtype=int64), array(4, dtype=int64), array(0, dtype=int64), array(12, dtype=int64), array(10, dtype=int64), array(7, dtype=int64), array(5, dtype=int64), array(8, dtype=int64), array(9, dtype=int64), array(11, dtype=int64), array(3, dtype=int64), array(19, dtype=int64), array(5, dtype=int64), array(8, dtype=int64), array(5, dtype=int64), array(10, dtype=int64), array(9, dtype=int64), array(10, dtype=int64), array(13, dtype=int64), array(8, dtype=int64), array(4, dtype=int64), array(11, dtype=int64), array(10, dtype=int64), array(13, dtype=int64), array(10, dtype=int64), array(9, dtype=int64), array(8, dtype=int64), array(6, dtype=int64), array(8, dtype=int64), array(8, dtype=int64), array(10, dtype=int64), array(5, dtype=int64), array(4, dtype=int64), array(8, dtype=int64), array(7, dtype=int64), array(8, dtype=int64), array(7, dtype=int64), array(5, dtype=int64)]\n",
      "[array(5, dtype=int64), array(9, dtype=int64), array(10, dtype=int64), array(4, dtype=int64), array(0, dtype=int64), array(12, dtype=int64), array(10, dtype=int64), array(7, dtype=int64), array(5, dtype=int64), array(8, dtype=int64), array(9, dtype=int64), array(11, dtype=int64), array(3, dtype=int64), array(19, dtype=int64), array(5, dtype=int64), array(8, dtype=int64), array(5, dtype=int64), array(10, dtype=int64), array(9, dtype=int64), array(10, dtype=int64), array(13, dtype=int64), array(8, dtype=int64), array(4, dtype=int64), array(11, dtype=int64), array(10, dtype=int64), array(13, dtype=int64), array(10, dtype=int64), array(9, dtype=int64), array(8, dtype=int64), array(6, dtype=int64), array(8, dtype=int64), array(8, dtype=int64), array(10, dtype=int64), array(5, dtype=int64), array(4, dtype=int64), array(8, dtype=int64), array(7, dtype=int64), array(8, dtype=int64), array(7, dtype=int64), array(5, dtype=int64), array(9, dtype=int64)]\n",
      "[array(5, dtype=int64), array(9, dtype=int64), array(10, dtype=int64), array(4, dtype=int64), array(0, dtype=int64), array(12, dtype=int64), array(10, dtype=int64), array(7, dtype=int64), array(5, dtype=int64), array(8, dtype=int64), array(9, dtype=int64), array(11, dtype=int64), array(3, dtype=int64), array(19, dtype=int64), array(5, dtype=int64), array(8, dtype=int64), array(5, dtype=int64), array(10, dtype=int64), array(9, dtype=int64), array(10, dtype=int64), array(13, dtype=int64), array(8, dtype=int64), array(4, dtype=int64), array(11, dtype=int64), array(10, dtype=int64), array(13, dtype=int64), array(10, dtype=int64), array(9, dtype=int64), array(8, dtype=int64), array(6, dtype=int64), array(8, dtype=int64), array(8, dtype=int64), array(10, dtype=int64), array(5, dtype=int64), array(4, dtype=int64), array(8, dtype=int64), array(7, dtype=int64), array(8, dtype=int64), array(7, dtype=int64), array(5, dtype=int64), array(9, dtype=int64), array(6, dtype=int64)]\n",
      "[array(5, dtype=int64), array(9, dtype=int64), array(10, dtype=int64), array(4, dtype=int64), array(0, dtype=int64), array(12, dtype=int64), array(10, dtype=int64), array(7, dtype=int64), array(5, dtype=int64), array(8, dtype=int64), array(9, dtype=int64), array(11, dtype=int64), array(3, dtype=int64), array(19, dtype=int64), array(5, dtype=int64), array(8, dtype=int64), array(5, dtype=int64), array(10, dtype=int64), array(9, dtype=int64), array(10, dtype=int64), array(13, dtype=int64), array(8, dtype=int64), array(4, dtype=int64), array(11, dtype=int64), array(10, dtype=int64), array(13, dtype=int64), array(10, dtype=int64), array(9, dtype=int64), array(8, dtype=int64), array(6, dtype=int64), array(8, dtype=int64), array(8, dtype=int64), array(10, dtype=int64), array(5, dtype=int64), array(4, dtype=int64), array(8, dtype=int64), array(7, dtype=int64), array(8, dtype=int64), array(7, dtype=int64), array(5, dtype=int64), array(9, dtype=int64), array(6, dtype=int64), array(7, dtype=int64)]\n",
      "[array(5, dtype=int64), array(9, dtype=int64), array(10, dtype=int64), array(4, dtype=int64), array(0, dtype=int64), array(12, dtype=int64), array(10, dtype=int64), array(7, dtype=int64), array(5, dtype=int64), array(8, dtype=int64), array(9, dtype=int64), array(11, dtype=int64), array(3, dtype=int64), array(19, dtype=int64), array(5, dtype=int64), array(8, dtype=int64), array(5, dtype=int64), array(10, dtype=int64), array(9, dtype=int64), array(10, dtype=int64), array(13, dtype=int64), array(8, dtype=int64), array(4, dtype=int64), array(11, dtype=int64), array(10, dtype=int64), array(13, dtype=int64), array(10, dtype=int64), array(9, dtype=int64), array(8, dtype=int64), array(6, dtype=int64), array(8, dtype=int64), array(8, dtype=int64), array(10, dtype=int64), array(5, dtype=int64), array(4, dtype=int64), array(8, dtype=int64), array(7, dtype=int64), array(8, dtype=int64), array(7, dtype=int64), array(5, dtype=int64), array(9, dtype=int64), array(6, dtype=int64), array(7, dtype=int64), array(9, dtype=int64)]\n",
      "[array(5, dtype=int64), array(9, dtype=int64), array(10, dtype=int64), array(4, dtype=int64), array(0, dtype=int64), array(12, dtype=int64), array(10, dtype=int64), array(7, dtype=int64), array(5, dtype=int64), array(8, dtype=int64), array(9, dtype=int64), array(11, dtype=int64), array(3, dtype=int64), array(19, dtype=int64), array(5, dtype=int64), array(8, dtype=int64), array(5, dtype=int64), array(10, dtype=int64), array(9, dtype=int64), array(10, dtype=int64), array(13, dtype=int64), array(8, dtype=int64), array(4, dtype=int64), array(11, dtype=int64), array(10, dtype=int64), array(13, dtype=int64), array(10, dtype=int64), array(9, dtype=int64), array(8, dtype=int64), array(6, dtype=int64), array(8, dtype=int64), array(8, dtype=int64), array(10, dtype=int64), array(5, dtype=int64), array(4, dtype=int64), array(8, dtype=int64), array(7, dtype=int64), array(8, dtype=int64), array(7, dtype=int64), array(5, dtype=int64), array(9, dtype=int64), array(6, dtype=int64), array(7, dtype=int64), array(9, dtype=int64), array(17, dtype=int64)]\n",
      "[array(5, dtype=int64), array(9, dtype=int64), array(10, dtype=int64), array(4, dtype=int64), array(0, dtype=int64), array(12, dtype=int64), array(10, dtype=int64), array(7, dtype=int64), array(5, dtype=int64), array(8, dtype=int64), array(9, dtype=int64), array(11, dtype=int64), array(3, dtype=int64), array(19, dtype=int64), array(5, dtype=int64), array(8, dtype=int64), array(5, dtype=int64), array(10, dtype=int64), array(9, dtype=int64), array(10, dtype=int64), array(13, dtype=int64), array(8, dtype=int64), array(4, dtype=int64), array(11, dtype=int64), array(10, dtype=int64), array(13, dtype=int64), array(10, dtype=int64), array(9, dtype=int64), array(8, dtype=int64), array(6, dtype=int64), array(8, dtype=int64), array(8, dtype=int64), array(10, dtype=int64), array(5, dtype=int64), array(4, dtype=int64), array(8, dtype=int64), array(7, dtype=int64), array(8, dtype=int64), array(7, dtype=int64), array(5, dtype=int64), array(9, dtype=int64), array(6, dtype=int64), array(7, dtype=int64), array(9, dtype=int64), array(17, dtype=int64), array(10, dtype=int64)]\n",
      "[array(5, dtype=int64), array(9, dtype=int64), array(10, dtype=int64), array(4, dtype=int64), array(0, dtype=int64), array(12, dtype=int64), array(10, dtype=int64), array(7, dtype=int64), array(5, dtype=int64), array(8, dtype=int64), array(9, dtype=int64), array(11, dtype=int64), array(3, dtype=int64), array(19, dtype=int64), array(5, dtype=int64), array(8, dtype=int64), array(5, dtype=int64), array(10, dtype=int64), array(9, dtype=int64), array(10, dtype=int64), array(13, dtype=int64), array(8, dtype=int64), array(4, dtype=int64), array(11, dtype=int64), array(10, dtype=int64), array(13, dtype=int64), array(10, dtype=int64), array(9, dtype=int64), array(8, dtype=int64), array(6, dtype=int64), array(8, dtype=int64), array(8, dtype=int64), array(10, dtype=int64), array(5, dtype=int64), array(4, dtype=int64), array(8, dtype=int64), array(7, dtype=int64), array(8, dtype=int64), array(7, dtype=int64), array(5, dtype=int64), array(9, dtype=int64), array(6, dtype=int64), array(7, dtype=int64), array(9, dtype=int64), array(17, dtype=int64), array(10, dtype=int64), array(13, dtype=int64)]\n",
      "[array(5, dtype=int64), array(9, dtype=int64), array(10, dtype=int64), array(4, dtype=int64), array(0, dtype=int64), array(12, dtype=int64), array(10, dtype=int64), array(7, dtype=int64), array(5, dtype=int64), array(8, dtype=int64), array(9, dtype=int64), array(11, dtype=int64), array(3, dtype=int64), array(19, dtype=int64), array(5, dtype=int64), array(8, dtype=int64), array(5, dtype=int64), array(10, dtype=int64), array(9, dtype=int64), array(10, dtype=int64), array(13, dtype=int64), array(8, dtype=int64), array(4, dtype=int64), array(11, dtype=int64), array(10, dtype=int64), array(13, dtype=int64), array(10, dtype=int64), array(9, dtype=int64), array(8, dtype=int64), array(6, dtype=int64), array(8, dtype=int64), array(8, dtype=int64), array(10, dtype=int64), array(5, dtype=int64), array(4, dtype=int64), array(8, dtype=int64), array(7, dtype=int64), array(8, dtype=int64), array(7, dtype=int64), array(5, dtype=int64), array(9, dtype=int64), array(6, dtype=int64), array(7, dtype=int64), array(9, dtype=int64), array(17, dtype=int64), array(10, dtype=int64), array(13, dtype=int64), array(9, dtype=int64)]\n",
      "[array(5, dtype=int64), array(9, dtype=int64), array(10, dtype=int64), array(4, dtype=int64), array(0, dtype=int64), array(12, dtype=int64), array(10, dtype=int64), array(7, dtype=int64), array(5, dtype=int64), array(8, dtype=int64), array(9, dtype=int64), array(11, dtype=int64), array(3, dtype=int64), array(19, dtype=int64), array(5, dtype=int64), array(8, dtype=int64), array(5, dtype=int64), array(10, dtype=int64), array(9, dtype=int64), array(10, dtype=int64), array(13, dtype=int64), array(8, dtype=int64), array(4, dtype=int64), array(11, dtype=int64), array(10, dtype=int64), array(13, dtype=int64), array(10, dtype=int64), array(9, dtype=int64), array(8, dtype=int64), array(6, dtype=int64), array(8, dtype=int64), array(8, dtype=int64), array(10, dtype=int64), array(5, dtype=int64), array(4, dtype=int64), array(8, dtype=int64), array(7, dtype=int64), array(8, dtype=int64), array(7, dtype=int64), array(5, dtype=int64), array(9, dtype=int64), array(6, dtype=int64), array(7, dtype=int64), array(9, dtype=int64), array(17, dtype=int64), array(10, dtype=int64), array(13, dtype=int64), array(9, dtype=int64), array(8, dtype=int64)]\n",
      "[array(5, dtype=int64), array(9, dtype=int64), array(10, dtype=int64), array(4, dtype=int64), array(0, dtype=int64), array(12, dtype=int64), array(10, dtype=int64), array(7, dtype=int64), array(5, dtype=int64), array(8, dtype=int64), array(9, dtype=int64), array(11, dtype=int64), array(3, dtype=int64), array(19, dtype=int64), array(5, dtype=int64), array(8, dtype=int64), array(5, dtype=int64), array(10, dtype=int64), array(9, dtype=int64), array(10, dtype=int64), array(13, dtype=int64), array(8, dtype=int64), array(4, dtype=int64), array(11, dtype=int64), array(10, dtype=int64), array(13, dtype=int64), array(10, dtype=int64), array(9, dtype=int64), array(8, dtype=int64), array(6, dtype=int64), array(8, dtype=int64), array(8, dtype=int64), array(10, dtype=int64), array(5, dtype=int64), array(4, dtype=int64), array(8, dtype=int64), array(7, dtype=int64), array(8, dtype=int64), array(7, dtype=int64), array(5, dtype=int64), array(9, dtype=int64), array(6, dtype=int64), array(7, dtype=int64), array(9, dtype=int64), array(17, dtype=int64), array(10, dtype=int64), array(13, dtype=int64), array(9, dtype=int64), array(8, dtype=int64), array(10, dtype=int64)]\n",
      "[array(5, dtype=int64), array(9, dtype=int64), array(10, dtype=int64), array(4, dtype=int64), array(0, dtype=int64), array(12, dtype=int64), array(10, dtype=int64), array(7, dtype=int64), array(5, dtype=int64), array(8, dtype=int64), array(9, dtype=int64), array(11, dtype=int64), array(3, dtype=int64), array(19, dtype=int64), array(5, dtype=int64), array(8, dtype=int64), array(5, dtype=int64), array(10, dtype=int64), array(9, dtype=int64), array(10, dtype=int64), array(13, dtype=int64), array(8, dtype=int64), array(4, dtype=int64), array(11, dtype=int64), array(10, dtype=int64), array(13, dtype=int64), array(10, dtype=int64), array(9, dtype=int64), array(8, dtype=int64), array(6, dtype=int64), array(8, dtype=int64), array(8, dtype=int64), array(10, dtype=int64), array(5, dtype=int64), array(4, dtype=int64), array(8, dtype=int64), array(7, dtype=int64), array(8, dtype=int64), array(7, dtype=int64), array(5, dtype=int64), array(9, dtype=int64), array(6, dtype=int64), array(7, dtype=int64), array(9, dtype=int64), array(17, dtype=int64), array(10, dtype=int64), array(13, dtype=int64), array(9, dtype=int64), array(8, dtype=int64), array(10, dtype=int64), array(9, dtype=int64)]\n",
      "[array(5, dtype=int64), array(9, dtype=int64), array(10, dtype=int64), array(4, dtype=int64), array(0, dtype=int64), array(12, dtype=int64), array(10, dtype=int64), array(7, dtype=int64), array(5, dtype=int64), array(8, dtype=int64), array(9, dtype=int64), array(11, dtype=int64), array(3, dtype=int64), array(19, dtype=int64), array(5, dtype=int64), array(8, dtype=int64), array(5, dtype=int64), array(10, dtype=int64), array(9, dtype=int64), array(10, dtype=int64), array(13, dtype=int64), array(8, dtype=int64), array(4, dtype=int64), array(11, dtype=int64), array(10, dtype=int64), array(13, dtype=int64), array(10, dtype=int64), array(9, dtype=int64), array(8, dtype=int64), array(6, dtype=int64), array(8, dtype=int64), array(8, dtype=int64), array(10, dtype=int64), array(5, dtype=int64), array(4, dtype=int64), array(8, dtype=int64), array(7, dtype=int64), array(8, dtype=int64), array(7, dtype=int64), array(5, dtype=int64), array(9, dtype=int64), array(6, dtype=int64), array(7, dtype=int64), array(9, dtype=int64), array(17, dtype=int64), array(10, dtype=int64), array(13, dtype=int64), array(9, dtype=int64), array(8, dtype=int64), array(10, dtype=int64), array(9, dtype=int64), array(0, dtype=int64)]\n",
      "[array(5, dtype=int64), array(9, dtype=int64), array(10, dtype=int64), array(4, dtype=int64), array(0, dtype=int64), array(12, dtype=int64), array(10, dtype=int64), array(7, dtype=int64), array(5, dtype=int64), array(8, dtype=int64), array(9, dtype=int64), array(11, dtype=int64), array(3, dtype=int64), array(19, dtype=int64), array(5, dtype=int64), array(8, dtype=int64), array(5, dtype=int64), array(10, dtype=int64), array(9, dtype=int64), array(10, dtype=int64), array(13, dtype=int64), array(8, dtype=int64), array(4, dtype=int64), array(11, dtype=int64), array(10, dtype=int64), array(13, dtype=int64), array(10, dtype=int64), array(9, dtype=int64), array(8, dtype=int64), array(6, dtype=int64), array(8, dtype=int64), array(8, dtype=int64), array(10, dtype=int64), array(5, dtype=int64), array(4, dtype=int64), array(8, dtype=int64), array(7, dtype=int64), array(8, dtype=int64), array(7, dtype=int64), array(5, dtype=int64), array(9, dtype=int64), array(6, dtype=int64), array(7, dtype=int64), array(9, dtype=int64), array(17, dtype=int64), array(10, dtype=int64), array(13, dtype=int64), array(9, dtype=int64), array(8, dtype=int64), array(10, dtype=int64), array(9, dtype=int64), array(0, dtype=int64), array(16, dtype=int64)]\n",
      "[array(5, dtype=int64), array(9, dtype=int64), array(10, dtype=int64), array(4, dtype=int64), array(0, dtype=int64), array(12, dtype=int64), array(10, dtype=int64), array(7, dtype=int64), array(5, dtype=int64), array(8, dtype=int64), array(9, dtype=int64), array(11, dtype=int64), array(3, dtype=int64), array(19, dtype=int64), array(5, dtype=int64), array(8, dtype=int64), array(5, dtype=int64), array(10, dtype=int64), array(9, dtype=int64), array(10, dtype=int64), array(13, dtype=int64), array(8, dtype=int64), array(4, dtype=int64), array(11, dtype=int64), array(10, dtype=int64), array(13, dtype=int64), array(10, dtype=int64), array(9, dtype=int64), array(8, dtype=int64), array(6, dtype=int64), array(8, dtype=int64), array(8, dtype=int64), array(10, dtype=int64), array(5, dtype=int64), array(4, dtype=int64), array(8, dtype=int64), array(7, dtype=int64), array(8, dtype=int64), array(7, dtype=int64), array(5, dtype=int64), array(9, dtype=int64), array(6, dtype=int64), array(7, dtype=int64), array(9, dtype=int64), array(17, dtype=int64), array(10, dtype=int64), array(13, dtype=int64), array(9, dtype=int64), array(8, dtype=int64), array(10, dtype=int64), array(9, dtype=int64), array(0, dtype=int64), array(16, dtype=int64), array(12, dtype=int64)]\n",
      "[array(5, dtype=int64), array(9, dtype=int64), array(10, dtype=int64), array(4, dtype=int64), array(0, dtype=int64), array(12, dtype=int64), array(10, dtype=int64), array(7, dtype=int64), array(5, dtype=int64), array(8, dtype=int64), array(9, dtype=int64), array(11, dtype=int64), array(3, dtype=int64), array(19, dtype=int64), array(5, dtype=int64), array(8, dtype=int64), array(5, dtype=int64), array(10, dtype=int64), array(9, dtype=int64), array(10, dtype=int64), array(13, dtype=int64), array(8, dtype=int64), array(4, dtype=int64), array(11, dtype=int64), array(10, dtype=int64), array(13, dtype=int64), array(10, dtype=int64), array(9, dtype=int64), array(8, dtype=int64), array(6, dtype=int64), array(8, dtype=int64), array(8, dtype=int64), array(10, dtype=int64), array(5, dtype=int64), array(4, dtype=int64), array(8, dtype=int64), array(7, dtype=int64), array(8, dtype=int64), array(7, dtype=int64), array(5, dtype=int64), array(9, dtype=int64), array(6, dtype=int64), array(7, dtype=int64), array(9, dtype=int64), array(17, dtype=int64), array(10, dtype=int64), array(13, dtype=int64), array(9, dtype=int64), array(8, dtype=int64), array(10, dtype=int64), array(9, dtype=int64), array(0, dtype=int64), array(16, dtype=int64), array(12, dtype=int64), array(11, dtype=int64)]\n",
      "[array(5, dtype=int64), array(9, dtype=int64), array(10, dtype=int64), array(4, dtype=int64), array(0, dtype=int64), array(12, dtype=int64), array(10, dtype=int64), array(7, dtype=int64), array(5, dtype=int64), array(8, dtype=int64), array(9, dtype=int64), array(11, dtype=int64), array(3, dtype=int64), array(19, dtype=int64), array(5, dtype=int64), array(8, dtype=int64), array(5, dtype=int64), array(10, dtype=int64), array(9, dtype=int64), array(10, dtype=int64), array(13, dtype=int64), array(8, dtype=int64), array(4, dtype=int64), array(11, dtype=int64), array(10, dtype=int64), array(13, dtype=int64), array(10, dtype=int64), array(9, dtype=int64), array(8, dtype=int64), array(6, dtype=int64), array(8, dtype=int64), array(8, dtype=int64), array(10, dtype=int64), array(5, dtype=int64), array(4, dtype=int64), array(8, dtype=int64), array(7, dtype=int64), array(8, dtype=int64), array(7, dtype=int64), array(5, dtype=int64), array(9, dtype=int64), array(6, dtype=int64), array(7, dtype=int64), array(9, dtype=int64), array(17, dtype=int64), array(10, dtype=int64), array(13, dtype=int64), array(9, dtype=int64), array(8, dtype=int64), array(10, dtype=int64), array(9, dtype=int64), array(0, dtype=int64), array(16, dtype=int64), array(12, dtype=int64), array(11, dtype=int64), array(15, dtype=int64)]\n",
      "[array(5, dtype=int64), array(9, dtype=int64), array(10, dtype=int64), array(4, dtype=int64), array(0, dtype=int64), array(12, dtype=int64), array(10, dtype=int64), array(7, dtype=int64), array(5, dtype=int64), array(8, dtype=int64), array(9, dtype=int64), array(11, dtype=int64), array(3, dtype=int64), array(19, dtype=int64), array(5, dtype=int64), array(8, dtype=int64), array(5, dtype=int64), array(10, dtype=int64), array(9, dtype=int64), array(10, dtype=int64), array(13, dtype=int64), array(8, dtype=int64), array(4, dtype=int64), array(11, dtype=int64), array(10, dtype=int64), array(13, dtype=int64), array(10, dtype=int64), array(9, dtype=int64), array(8, dtype=int64), array(6, dtype=int64), array(8, dtype=int64), array(8, dtype=int64), array(10, dtype=int64), array(5, dtype=int64), array(4, dtype=int64), array(8, dtype=int64), array(7, dtype=int64), array(8, dtype=int64), array(7, dtype=int64), array(5, dtype=int64), array(9, dtype=int64), array(6, dtype=int64), array(7, dtype=int64), array(9, dtype=int64), array(17, dtype=int64), array(10, dtype=int64), array(13, dtype=int64), array(9, dtype=int64), array(8, dtype=int64), array(10, dtype=int64), array(9, dtype=int64), array(0, dtype=int64), array(16, dtype=int64), array(12, dtype=int64), array(11, dtype=int64), array(15, dtype=int64), array(3, dtype=int64)]\n",
      "[array(5, dtype=int64), array(9, dtype=int64), array(10, dtype=int64), array(4, dtype=int64), array(0, dtype=int64), array(12, dtype=int64), array(10, dtype=int64), array(7, dtype=int64), array(5, dtype=int64), array(8, dtype=int64), array(9, dtype=int64), array(11, dtype=int64), array(3, dtype=int64), array(19, dtype=int64), array(5, dtype=int64), array(8, dtype=int64), array(5, dtype=int64), array(10, dtype=int64), array(9, dtype=int64), array(10, dtype=int64), array(13, dtype=int64), array(8, dtype=int64), array(4, dtype=int64), array(11, dtype=int64), array(10, dtype=int64), array(13, dtype=int64), array(10, dtype=int64), array(9, dtype=int64), array(8, dtype=int64), array(6, dtype=int64), array(8, dtype=int64), array(8, dtype=int64), array(10, dtype=int64), array(5, dtype=int64), array(4, dtype=int64), array(8, dtype=int64), array(7, dtype=int64), array(8, dtype=int64), array(7, dtype=int64), array(5, dtype=int64), array(9, dtype=int64), array(6, dtype=int64), array(7, dtype=int64), array(9, dtype=int64), array(17, dtype=int64), array(10, dtype=int64), array(13, dtype=int64), array(9, dtype=int64), array(8, dtype=int64), array(10, dtype=int64), array(9, dtype=int64), array(0, dtype=int64), array(16, dtype=int64), array(12, dtype=int64), array(11, dtype=int64), array(15, dtype=int64), array(3, dtype=int64), array(9, dtype=int64)]\n"
     ]
    }
   ],
   "source": [
    "a = []\n",
    "for i in range(len(non_vet)):\n",
    "    a.append( np.array((non_vet.iloc[i]=='Yes').sum()))\n",
    "    print(a)"
   ]
  },
  {
   "cell_type": "code",
   "execution_count": 12,
   "metadata": {},
   "outputs": [
    {
     "data": {
      "text/plain": [
       "(array([ 0,  3,  4,  5,  6,  7,  8,  9, 10, 11, 12, 13, 15, 16, 17, 19],\n",
       "       dtype=int64),\n",
       " array([2, 2, 3, 6, 2, 4, 9, 9, 9, 3, 2, 3, 1, 1, 1, 1], dtype=int64))"
      ]
     },
     "execution_count": 12,
     "metadata": {},
     "output_type": "execute_result"
    }
   ],
   "source": [
    "np.unique(np.array(a), return_counts=True)"
   ]
  },
  {
   "cell_type": "code",
   "execution_count": 13,
   "metadata": {},
   "outputs": [
    {
     "name": "stdout",
     "output_type": "stream",
     "text": [
      "(8, 36)\n"
     ]
    },
    {
     "name": "stderr",
     "output_type": "stream",
     "text": [
      "C:\\Users\\std03\\Anaconda3\\lib\\site-packages\\pandas\\core\\frame.py:4906: SettingWithCopyWarning: \n",
      "A value is trying to be set on a copy of a slice from a DataFrame\n",
      "\n",
      "See the caveats in the documentation: https://pandas.pydata.org/pandas-docs/stable/user_guide/indexing.html#returning-a-view-versus-a-copy\n",
      "  return super().drop(\n"
     ]
    }
   ],
   "source": [
    "for i in vet.columns:\n",
    "    vet.drop(vet[vet[i]=='Yes'].index, inplace = True)\n",
    "print(vet.shape)"
   ]
  },
  {
   "cell_type": "code",
   "execution_count": null,
   "metadata": {},
   "outputs": [],
   "source": [
    "### Non- Veterans:[6, 15, 13,  8,  6,  3,  1]\n",
    "### Veterans: [ 1,  3, 10, 13, 20, 19, 16]"
   ]
  },
  {
   "cell_type": "code",
   "execution_count": 13,
   "metadata": {},
   "outputs": [],
   "source": [
    "import matplotlib.pyplot as plt"
   ]
  },
  {
   "cell_type": "code",
   "execution_count": 22,
   "metadata": {},
   "outputs": [],
   "source": [
    "a = [6, 15, 13,  8,  6,  3,  1]"
   ]
  },
  {
   "cell_type": "code",
   "execution_count": 23,
   "metadata": {},
   "outputs": [],
   "source": [
    "b= [ 1,  3, 10, 13, 20, 19, 16]"
   ]
  },
  {
   "cell_type": "code",
   "execution_count": 14,
   "metadata": {},
   "outputs": [],
   "source": [
    "c = [0,1,2,3,4,5,6]"
   ]
  },
  {
   "cell_type": "code",
   "execution_count": 10,
   "metadata": {},
   "outputs": [],
   "source": [
    "### percentages"
   ]
  },
  {
   "cell_type": "code",
   "execution_count": 15,
   "metadata": {},
   "outputs": [],
   "source": [
    "a = [10, 26,22,14,10,5,2]"
   ]
  },
  {
   "cell_type": "code",
   "execution_count": 16,
   "metadata": {},
   "outputs": [],
   "source": [
    "b = [1,3,11,14,22,21,18]"
   ]
  },
  {
   "cell_type": "code",
   "execution_count": null,
   "metadata": {},
   "outputs": [],
   "source": []
  },
  {
   "cell_type": "code",
   "execution_count": 20,
   "metadata": {},
   "outputs": [
    {
     "data": {
      "text/plain": [
       "<matplotlib.legend.Legend at 0x257189004f0>"
      ]
     },
     "execution_count": 20,
     "metadata": {},
     "output_type": "execute_result"
    },
    {
     "data": {
      "image/png": "[encoded data removed]",
      "text/plain": [
       "<Figure size 432x288 with 1 Axes>"
      ]
     },
     "metadata": {
      "needs_background": "light"
     },
     "output_type": "display_data"
    }
   ],
   "source": [
    "plt.plot(c,a,marker = 'x')\n",
    "plt.plot(c,b,marker = 'o')\n",
    "plt.ylabel('% of people')\n",
    "plt.xlabel('N of different conditions:\\n(chronic pain,depression,anxiety,sleeping problems,arthritis,PTSD)')\n",
    "plt.title('Veterans VS Non- Veterans')\n",
    "plt.legend(['Non- Veterans', 'Veterans'])"
   ]
  },
  {
   "cell_type": "code",
   "execution_count": 21,
   "metadata": {},
   "outputs": [],
   "source": [
    "### Number of people"
   ]
  },
  {
   "cell_type": "code",
   "execution_count": 24,
   "metadata": {},
   "outputs": [
    {
     "data": {
      "text/plain": [
       "<matplotlib.legend.Legend at 0x25718a01130>"
      ]
     },
     "execution_count": 24,
     "metadata": {},
     "output_type": "execute_result"
    },
    {
     "data": {
      "image/png": "[encoded data removed]",
      "text/plain": [
       "<Figure size 432x288 with 1 Axes>"
      ]
     },
     "metadata": {
      "needs_background": "light"
     },
     "output_type": "display_data"
    }
   ],
   "source": [
    "plt.plot(c,a,marker = 'x')\n",
    "plt.plot(c,b,marker = 'o')\n",
    "plt.ylabel('N of people')\n",
    "plt.xlabel('N of different conditions:\\n(chronic pain,depression,anxiety,sleeping problems,arthritis,PTSD)')\n",
    "plt.title('Veterans VS Non- Veterans')\n",
    "plt.legend(['Non- Veterans', 'Veterans'])"
   ]
  },
  {
   "cell_type": "code",
   "execution_count": null,
   "metadata": {},
   "outputs": [],
   "source": []
  },
  {
   "cell_type": "code",
   "execution_count": 25,
   "metadata": {},
   "outputs": [],
   "source": [
    "#### BMI"
   ]
  },
  {
   "cell_type": "code",
   "execution_count": 3,
   "metadata": {},
   "outputs": [],
   "source": [
    "df = pd.read_excel(r\"C:\\Users\\std03\\Desktop\\the new main data1(1)2 - Copy.xlsx\")"
   ]
  },
  {
   "cell_type": "code",
   "execution_count": 5,
   "metadata": {},
   "outputs": [],
   "source": [
    "df['Veteran'] = np.where(df['I am a']=='Veteran','yes','no')"
   ]
  },
  {
   "cell_type": "code",
   "execution_count": 6,
   "metadata": {},
   "outputs": [],
   "source": [
    "vet = df[df['Veteran']=='yes']"
   ]
  },
  {
   "cell_type": "code",
   "execution_count": 7,
   "metadata": {},
   "outputs": [],
   "source": [
    "non_vet = df[df['Veteran']=='no']"
   ]
  },
  {
   "cell_type": "code",
   "execution_count": 4,
   "metadata": {},
   "outputs": [],
   "source": [
    "df['kg'] = df['What is your current weight? [lbs]']/2.2"
   ]
  },
  {
   "cell_type": "code",
   "execution_count": 9,
   "metadata": {
    "scrolled": true
   },
   "outputs": [
    {
     "name": "stderr",
     "output_type": "stream",
     "text": [
      "C:\\Users\\std03\\AppData\\Local\\Temp/ipykernel_12776/3596616234.py:1: SettingWithCopyWarning: \n",
      "A value is trying to be set on a copy of a slice from a DataFrame.\n",
      "Try using .loc[row_indexer,col_indexer] = value instead\n",
      "\n",
      "See the caveats in the documentation: https://pandas.pydata.org/pandas-docs/stable/user_guide/indexing.html#returning-a-view-versus-a-copy\n",
      "  non_vet['kg']=non_vet['What is your current weight? [lbs]']/2.2\n"
     ]
    }
   ],
   "source": [
    "non_vet['kg']=non_vet['What is your current weight? [lbs]']/2.2"
   ]
  },
  {
   "cell_type": "code",
   "execution_count": 5,
   "metadata": {},
   "outputs": [],
   "source": [
    "df['cm']=df['How tall are you? [feets]']*30.48"
   ]
  },
  {
   "cell_type": "code",
   "execution_count": 11,
   "metadata": {
    "scrolled": true
   },
   "outputs": [
    {
     "name": "stderr",
     "output_type": "stream",
     "text": [
      "C:\\Users\\std03\\AppData\\Local\\Temp/ipykernel_12776/3602836901.py:1: SettingWithCopyWarning: \n",
      "A value is trying to be set on a copy of a slice from a DataFrame.\n",
      "Try using .loc[row_indexer,col_indexer] = value instead\n",
      "\n",
      "See the caveats in the documentation: https://pandas.pydata.org/pandas-docs/stable/user_guide/indexing.html#returning-a-view-versus-a-copy\n",
      "  non_vet['cm']=non_vet['How tall are you? [feets]']*30.48\n"
     ]
    }
   ],
   "source": [
    "non_vet['cm']=non_vet['How tall are you? [feets]']*30.48"
   ]
  },
  {
   "cell_type": "code",
   "execution_count": 7,
   "metadata": {},
   "outputs": [],
   "source": [
    "df['BMI']=df['kg']/(df['cm']*df['cm'])*10000"
   ]
  },
  {
   "cell_type": "code",
   "execution_count": 8,
   "metadata": {},
   "outputs": [
    {
     "data": {
      "text/plain": [
       "Index(['Response ID', 'Date submitted', 'Last page', 'Start language',\n",
       "       'Date started', 'Date last action', 'Referrer URL',\n",
       "       'Declaration of Consent:  I agree to participate in this study.     ELECTRONIC CONSENT: Please select your choice below.  Clicking on the \"agree\" button below indicates that:   • you have read the above information • you voluntarily agree to participate• you are at least 18 years of age      If you do not wish to participate in the research study, please decline participation by clicking on the \"disagree\" button.  Choose one of the following answers ',\n",
       "       'During the past month have you used cannabis for medical reasons (to treat disease or improve symptoms)? ',\n",
       "       'I currently use medical cannabis for the following conditions: [Epilepsy]',\n",
       "       ...\n",
       "       'Question time: Q52YearsinCanada', 'Question time: Q53EthnicOrigin',\n",
       "       'Question time: Q54Employment', 'Question time: Q55AreaLive',\n",
       "       'Question time: Q56MaritalStatus', 'Question time: Q57Dependents',\n",
       "       'Question time: Q58Education', 'kg', 'cm', 'BMI'],\n",
       "      dtype='object', length=244)"
      ]
     },
     "execution_count": 8,
     "metadata": {},
     "output_type": "execute_result"
    }
   ],
   "source": [
    "df.columns"
   ]
  },
  {
   "cell_type": "code",
   "execution_count": 12,
   "metadata": {},
   "outputs": [],
   "source": [
    "df.to_excel('df.xlsx')"
   ]
  },
  {
   "cell_type": "code",
   "execution_count": null,
   "metadata": {},
   "outputs": [],
   "source": []
  },
  {
   "cell_type": "code",
   "execution_count": null,
   "metadata": {},
   "outputs": [],
   "source": []
  },
  {
   "cell_type": "code",
   "execution_count": 13,
   "metadata": {},
   "outputs": [
    {
     "name": "stderr",
     "output_type": "stream",
     "text": [
      "C:\\Users\\std03\\AppData\\Local\\Temp/ipykernel_12776/2452763193.py:1: SettingWithCopyWarning: \n",
      "A value is trying to be set on a copy of a slice from a DataFrame.\n",
      "Try using .loc[row_indexer,col_indexer] = value instead\n",
      "\n",
      "See the caveats in the documentation: https://pandas.pydata.org/pandas-docs/stable/user_guide/indexing.html#returning-a-view-versus-a-copy\n",
      "  non_vet['BMI']=non_vet['kg']/(non_vet['cm']*non_vet['cm'])*10000\n"
     ]
    }
   ],
   "source": [
    "non_vet['BMI']=non_vet['kg']/(non_vet['cm']*non_vet['cm'])*10000"
   ]
  },
  {
   "cell_type": "code",
   "execution_count": 52,
   "metadata": {},
   "outputs": [
    {
     "name": "stderr",
     "output_type": "stream",
     "text": [
      "C:\\Users\\std03\\Anaconda3\\lib\\site-packages\\pandas\\core\\frame.py:5238: SettingWithCopyWarning: \n",
      "A value is trying to be set on a copy of a slice from a DataFrame\n",
      "\n",
      "See the caveats in the documentation: https://pandas.pydata.org/pandas-docs/stable/user_guide/indexing.html#returning-a-view-versus-a-copy\n",
      "  return super().replace(\n"
     ]
    }
   ],
   "source": [
    "vet.replace(np.inf, np.nan, inplace = True)"
   ]
  },
  {
   "cell_type": "code",
   "execution_count": 53,
   "metadata": {},
   "outputs": [
    {
     "data": {
      "text/plain": [
       "35.08545010317351"
      ]
     },
     "execution_count": 53,
     "metadata": {},
     "output_type": "execute_result"
    }
   ],
   "source": [
    "vet['BMI'].mean()"
   ]
  },
  {
   "cell_type": "code",
   "execution_count": 54,
   "metadata": {},
   "outputs": [
    {
     "data": {
      "text/plain": [
       "35.618758106203074"
      ]
     },
     "execution_count": 54,
     "metadata": {},
     "output_type": "execute_result"
    }
   ],
   "source": [
    "vet['BMI'].median()"
   ]
  },
  {
   "cell_type": "code",
   "execution_count": 55,
   "metadata": {},
   "outputs": [],
   "source": [
    "non_vet.replace(np.inf, np.nan, inplace = True)"
   ]
  },
  {
   "cell_type": "code",
   "execution_count": 56,
   "metadata": {},
   "outputs": [
    {
     "data": {
      "text/plain": [
       "31.804186076139192"
      ]
     },
     "execution_count": 56,
     "metadata": {},
     "output_type": "execute_result"
    }
   ],
   "source": [
    "non_vet['BMI'].mean()"
   ]
  },
  {
   "cell_type": "code",
   "execution_count": 57,
   "metadata": {},
   "outputs": [
    {
     "data": {
      "text/plain": [
       "31.313193939519184"
      ]
     },
     "execution_count": 57,
     "metadata": {},
     "output_type": "execute_result"
    }
   ],
   "source": [
    "non_vet['BMI'].median()"
   ]
  },
  {
   "cell_type": "code",
   "execution_count": null,
   "metadata": {},
   "outputs": [],
   "source": []
  }
 ],
 "metadata": {
  "kernelspec": {
   "display_name": "Python 3 (ipykernel)",
   "language": "python",
   "name": "python3"
  },
  "language_info": {
   "codemirror_mode": {
    "name": "ipython",
    "version": 3
   },
   "file_extension": ".py",
   "mimetype": "text/x-python",
   "name": "python",
   "nbconvert_exporter": "python",
   "pygments_lexer": "ipython3",
   "version": "3.9.12"
  }
 },
 "nbformat": 4,
 "nbformat_minor": 4
}
